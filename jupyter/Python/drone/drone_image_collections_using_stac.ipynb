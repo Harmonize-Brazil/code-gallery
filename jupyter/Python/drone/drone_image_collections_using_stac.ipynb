{
 "cells": [
  {
   "cell_type": "markdown",
   "metadata": {},
   "source": [
    "<img src=\"https://raw.githubusercontent.com/Harmonize-Brazil/code-gallery/main/img/harmonize_logo.png\" align=\"right\" width=\"64\"/>\n",
    "\n",
    "# <span style=\"color:#336699\">HARMONIZE drone image collections access using the SpatioTemporal Asset Catalog (STAC)</span>\n",
    "<hr style=\"border:2px solid #0077b9;\">\n",
    "\n",
    "\n",
    "<br/>\n",
    "\n",
    "<div style=\"text-align: center;font-size: 90%;\">\n",
    "    Marcos L. Rodrigues<sup><img src=\"https://orcid.filecamp.com/static/thumbs/folders/qLJ1tuei4m6ugC3g.png\" width=\"16\"/><a href=\"https://orcid.org/0000-0002-9199-6928\"> https://orcid.org/0000-0002-9199-6928</a></sup>\n",
    "    <br/><br/>\n",
    "    Earth Observation and Geoinformatics Division, National Institute for Space Research (INPE)\n",
    "    <br/>\n",
    "    Avenida dos Astronautas, 1758, Jardim da Granja, São José dos Campos, SP 12227-010, Brazil\n",
    "    <br/><br/>\n",
    "    Contact: <a href=\"mailto:marcos.rodrigues@inpe.br\">marcos.rodrigues@inpe.br</a>\n",
    "    <br/><br/>\n",
    "    Last Update: June 12, 2025\n",
    "</div>\n",
    "\n",
    "<br/>\n",
    "\n",
    "<div style=\"text-align: justify;  margin-left: 25%; margin-right: 25%;\">\n",
    "<b>Abstract.</b> This Jupyter Notebook gives an overview on how to use the STAC service to discover and access the drone data products<br/> from the Earth Observation Data Cubes tuned for Health Response Systems (EODCtHRS) a <a href=\"https://harmonize-tools.org\" target=\"_blank\">HARMONIZE project</a> component.\n",
    "</div>\n",
    "</div>"
   ]
  },
  {
   "cell_type": "markdown",
   "metadata": {},
   "source": [
    "# Introduction\n",
    "\n",
    "Adapted from  <a href=\"https://github.com/brazil-data-cube/code-gallery/blob/master/jupyter/Python/stac/stac-introduction.ipynb\" target=\"_blank\">Introduction to the SpatioTemporal Asset Catalog (STAC)</a> available at Github code gallery of the <a href=\"https://data.inpe.br/bdc/web\" target=\"_blank\">Brazil Data Cube (BDC)</a> project.\n",
    "\n",
    "<hr style=\"border:1px solid #0077b9;\">"
   ]
  },
  {
   "cell_type": "markdown",
   "metadata": {
    "id": "yZn7b78KPQDG"
   },
   "source": [
    "The [**S**patio**T**emporal **A**sset **C**atalog (STAC)](https://stacspec.org/) is a specification created through the colaboration of several organizations intended to increase satellite image search interoperability.\n",
    "\n",
    "The diagram depicted in the picture contains the most important concepts behind the STAC data model:\n",
    "\n",
    "<center>\n",
    "<img src=\"https://raw.githubusercontent.com/brazil-data-cube/code-gallery/master/img/stac/stac-concept.png\" width=\"480\" />\n",
    "<br/>\n",
    "<b>Figure 1</b> - STAC model.\n",
    "</center>\n",
    "\n",
    "The description of the concepts below are adapted from the [STAC Specification](https://github.com/radiantearth/stac-spec):\n",
    "\n",
    "- **Item**: a `STAC Item` is the atomic unit of metadata in STAC, providing links to the actual `assets` (including thumbnails) that they represent. It is a `GeoJSON Feature` with additional fields for things like time, links to related entities and mainly to the assets. According to the specification, this is the atomic unit that describes the data to be discovered in a `STAC Catalog` or `Collection`.\n",
    "\n",
    "- **Asset**: a `spatiotemporal asset` is any file that represents information about the earth captured in a certain space and time.\n",
    "\n",
    "\n",
    "- **Catalog**: provides a structure to link various `STAC Items` together or even to other `STAC Catalogs` or `Collections`.\n",
    "\n",
    "\n",
    "- **Collection:** is a specialization of the `Catalog` that allows additional information about a spatio-temporal collection of data."
   ]
  },
  {
   "cell_type": "markdown",
   "metadata": {},
   "source": [
    "# STAC Client API\n",
    "<hr style=\"border:1px solid #0077b9;\">\n",
    "\n",
    "For running the examples in this Jupyter Notebook you will need to install the [pystac-client](https://pystac-client.readthedocs.io/en/latest/). To install it from PyPI using `pip`, use the following commands:"
   ]
  },
  {
   "cell_type": "code",
   "execution_count": null,
   "metadata": {},
   "outputs": [],
   "source": [
    "!pip3 install scikit-learn\n",
    "!pip3 install pystac-client"
   ]
  },
  {
   "cell_type": "code",
   "execution_count": null,
   "metadata": {
    "colab": {
     "base_uri": "https://localhost:8080/",
     "height": 311
    },
    "id": "RhG89dwJPQDM",
    "outputId": "c50d7fb0-3ca0-4481-e80f-acfd4ad4017e"
   },
   "outputs": [],
   "source": [
    "!pip install rasterio shapely matplotlib tqdm folium"
   ]
  },
  {
   "cell_type": "markdown",
   "metadata": {},
   "source": [
    "In order to access the funcionalities of the client API, you should import the `stac` package, as follows:"
   ]
  },
  {
   "cell_type": "code",
   "execution_count": null,
   "metadata": {
    "id": "Nbh1DWTaPQDY"
   },
   "outputs": [],
   "source": [
    "import pystac_client"
   ]
  },
  {
   "cell_type": "markdown",
   "metadata": {},
   "source": [
    "After that, you can check the installed `stac` package version:"
   ]
  },
  {
   "cell_type": "code",
   "execution_count": null,
   "metadata": {},
   "outputs": [],
   "source": [
    "pystac_client.__version__"
   ]
  },
  {
   "cell_type": "markdown",
   "metadata": {},
   "source": [
    "Then, create a `STAC` object attached to the HARMONIZE instance of BDC STAC service:"
   ]
  },
  {
   "cell_type": "code",
   "execution_count": null,
   "metadata": {},
   "outputs": [],
   "source": [
    "service = pystac_client.Client.open('https://brazildatacube.dpi.inpe.br/harmonize/dev/stac/v1/')"
   ]
  },
  {
   "cell_type": "markdown",
   "metadata": {},
   "source": [
    "# Listing the Available Data Products\n",
    "<hr style=\"border:1px solid #0077b9;\">"
   ]
  },
  {
   "cell_type": "markdown",
   "metadata": {},
   "source": [
    "In the Jupyter environment, the `STAC` object will list the available image and data cube collections from the service:"
   ]
  },
  {
   "cell_type": "code",
   "execution_count": null,
   "metadata": {
    "colab": {
     "base_uri": "https://localhost:8080/",
     "height": 406
    },
    "id": "3IKREEUpPQDg",
    "outputId": "9877684a-c575-47b8-d964-3e89c4f61944"
   },
   "outputs": [],
   "source": [
    "for collection in service.get_collections():\n",
    "    #print(collection)\n",
    "    if \"FlightHeight\" in collection.id: #keyword for collections from drone data\n",
    "        print(collection)"
   ]
  },
  {
   "cell_type": "markdown",
   "metadata": {},
   "source": [
    "# Retrieving the Metadata of a Collection\n",
    "<hr style=\"border:1px solid #0077b9;\">\n",
    "\n",
    "The `collection` method returns information about a given image or data cube collection identified by its name. In this example we are retrieving information about the Mavic 3M collection `Mavic3M_FlightHeight120m-1`:"
   ]
  },
  {
   "cell_type": "code",
   "execution_count": null,
   "metadata": {
    "id": "dA0RhGdSPQDn"
   },
   "outputs": [],
   "source": [
    "collection = service.get_collection('Mavic3M_FlightHeight120m-1')\n",
    "collection"
   ]
  },
  {
   "cell_type": "code",
   "execution_count": null,
   "metadata": {},
   "outputs": [],
   "source": [
    "collection.description"
   ]
  },
  {
   "cell_type": "markdown",
   "metadata": {},
   "source": [
    "<img src=\"https://raw.githubusercontent.com/brazil-data-cube/code-gallery/master/img/stac/stac-item.png?raw=true\" align=\"right\" width=\"300\"/>\n",
    "\n",
    "# Retrieving Items\n",
    "<hr style=\"border:1px solid #0077b9;\">\n",
    "\n",
    "The `get_items` method returns the items of a given collection:"
   ]
  },
  {
   "cell_type": "code",
   "execution_count": null,
   "metadata": {},
   "outputs": [],
   "source": [
    "collection_items = collection.get_items()\n",
    "collection_items #generator object can be used to loop over items from collection"
   ]
  },
  {
   "cell_type": "markdown",
   "metadata": {},
   "source": [
    "Visualization of a Region Of Interest (ROI) defined to filter items:"
   ]
  },
  {
   "cell_type": "code",
   "execution_count": null,
   "metadata": {},
   "outputs": [],
   "source": [
    "import folium\n",
    "from shapely.geometry import Polygon\n",
    "\n",
    "bbox = [-49.5171,-2.5970,-49.4907,-2.5669] #define ROI bounding box\n",
    "\n",
    "roi_area = Polygon([(bbox[0],bbox[1]),\n",
    "                    (bbox[0],bbox[3]),\n",
    "                    (bbox[2],bbox[3]),\n",
    "                    (bbox[2],bbox[1])])\n",
    "\n",
    "\n",
    "# Create a folium map centered around the geographic area of interest\n",
    "folium_map = folium.Map(location=[roi_area.centroid.y, roi_area.centroid.x], zoom_start=14,\n",
    "                        control_scale=True, zoom_control=False)\n",
    "\n",
    "folium.Rectangle(\n",
    "    bounds=[[bbox[1],bbox[0]],[bbox[3],bbox[2]]],\n",
    "    color=\"blue\",\n",
    "    weight=2,\n",
    "    fill=True,\n",
    "    fill_color=\"blue\",\n",
    "    fill_opacity=0.2\n",
    ").add_to(folium_map)\n",
    "\n",
    "folium_map"
   ]
  },
  {
   "cell_type": "markdown",
   "metadata": {},
   "source": [
    "In order to support filtering rules through the specification of a rectangle (`bbox`) or a date and time (`datatime`) criterias, use the `Client.search(**kwargs)`. There are other options available, for example, using spatial intersects of a GeoJSON Geometry. Please see the documentation available at https://api.stacspec.org/v1.0.0/item-search."
   ]
  },
  {
   "cell_type": "code",
   "execution_count": null,
   "metadata": {
    "colab": {
     "base_uri": "https://localhost:8080/",
     "height": 614
    },
    "id": "6hCWnHXePQDt",
    "outputId": "b32aff37-22a3-43c6-8723-3f47c416cffb"
   },
   "outputs": [],
   "source": [
    "item_search = service.search(bbox=bbox,\n",
    "                             datetime='2023-11-07T20:00:00Z/2023-11-07T20:50:00Z',\n",
    "                             collections=['Mavic3M_FlightHeight120m-1'])\n",
    "item_search"
   ]
  },
  {
   "cell_type": "markdown",
   "metadata": {},
   "source": [
    "The method `.search(**kwargs)` returns a `ItemSearch` representation which has handy methods to identify the matched results. For example, to check the number of items matched, use `.matched()`:"
   ]
  },
  {
   "cell_type": "code",
   "execution_count": null,
   "metadata": {},
   "outputs": [],
   "source": [
    "item_search.matched()"
   ]
  },
  {
   "cell_type": "markdown",
   "metadata": {},
   "source": [
    "To iterate over the matched result, use `.items()` to traverse the list of items:"
   ]
  },
  {
   "cell_type": "code",
   "execution_count": null,
   "metadata": {},
   "outputs": [],
   "source": [
    "for item in item_search.items():\n",
    "    print(item)\n",
    "    break #remove break to view all items"
   ]
  },
  {
   "cell_type": "markdown",
   "metadata": {},
   "source": [
    "<img src=\"https://raw.githubusercontent.com/brazil-data-cube/code-gallery/master/img/stac/stac-asset.png?raw=true\" align=\"right\" width=\"300\"/>\n",
    "\n",
    "# Assets\n",
    "<hr style=\"border:1px solid #0077b9;\">\n",
    "\n",
    "The assets with the links to the images, thumbnails or specific metadata files, can be accessed through the property `assets` (from a given item):"
   ]
  },
  {
   "cell_type": "code",
   "execution_count": null,
   "metadata": {
    "colab": {
     "base_uri": "https://localhost:8080/",
     "height": 36
    },
    "id": "TyimexxXPQD1",
    "outputId": "2eb3dfee-bc47-4de8-a4a4-e3485cb37e18"
   },
   "outputs": [],
   "source": [
    "assets = item.assets"
   ]
  },
  {
   "cell_type": "markdown",
   "metadata": {},
   "source": [
    "Then, from the assets it is possible to traverse or access individual elements:"
   ]
  },
  {
   "cell_type": "code",
   "execution_count": null,
   "metadata": {},
   "outputs": [],
   "source": [
    "for k in assets.keys():\n",
    "    print(k)"
   ]
  },
  {
   "cell_type": "markdown",
   "metadata": {},
   "source": [
    "The metadata related to the Mavic 3M RGB image is available under the dictionary key `file`:"
   ]
  },
  {
   "cell_type": "code",
   "execution_count": null,
   "metadata": {},
   "outputs": [],
   "source": [
    "rgb_asset = assets['file']\n",
    "rgb_asset"
   ]
  },
  {
   "cell_type": "markdown",
   "metadata": {},
   "source": [
    "To iterate in the item's assets, use the following pattern:"
   ]
  },
  {
   "cell_type": "code",
   "execution_count": null,
   "metadata": {},
   "outputs": [],
   "source": [
    "for asset in assets.values():\n",
    "    print(asset)"
   ]
  },
  {
   "cell_type": "markdown",
   "metadata": {},
   "source": [
    "# Using RasterIO and NumPy\n",
    "<hr style=\"border:1px solid #0077b9;\">"
   ]
  },
  {
   "cell_type": "markdown",
   "metadata": {},
   "source": [
    "The `rasterio` library can be used to read image files from STAC service on-the-fly and then to create `NumPy` arrays. The `read` method of an `Item` can be used to perform the reading and array creation:"
   ]
  },
  {
   "cell_type": "code",
   "execution_count": null,
   "metadata": {},
   "outputs": [],
   "source": [
    "import rasterio\n",
    "from rasterio.plot import show\n",
    "import numpy"
   ]
  },
  {
   "cell_type": "code",
   "execution_count": null,
   "metadata": {},
   "outputs": [],
   "source": [
    "with rasterio.open(assets['file'].href) as rgb_ds:\n",
    "    rgb = rgb_ds.read()\n",
    "    rgb_transform = rgb_ds.transform "
   ]
  },
  {
   "cell_type": "markdown",
   "metadata": {},
   "source": [
    "<div style=\"text-align: justify;  margin-left: 15%; margin-right: 15%; border-style: solid; border-color: #0077b9; border-width: 1px; padding: 5px;\">\n",
    "    <b>Note:</b> If there are errors because of your pyproj version, you can run the code below as specified in <a  href=\"https://rasterio.readthedocs.io/en/latest/faq.html#why-can-t-rasterio-find-proj-db-rasterio-from-pypi-versions-1-2-0\" target=\"_blank\">rasterio documentation</a> and try again:\n",
    "\n",
    "       import os\n",
    "       del os.environ['PROJ_LIB']\n",
    "</div>"
   ]
  },
  {
   "cell_type": "markdown",
   "metadata": {},
   "source": [
    "The `rasterio` also provides `rasterio.plot.show()` to perform common tasks such as displaying multi-band images as RGB and labeling the axes with proper geo-referenced extents. Note that when passing arrays, you can pass in a transform in order to get extent labels."
   ]
  },
  {
   "cell_type": "code",
   "execution_count": null,
   "metadata": {},
   "outputs": [],
   "source": [
    "rgb[rgb==0] = 255\n",
    "rasterio.plot.show(rgb, transform=rgb_transform)"
   ]
  },
  {
   "cell_type": "markdown",
   "metadata": {},
   "source": [
    "The next cell code import the `Window` class from the `rasterio` library in order to retrieve a subset of an image and then create an array:"
   ]
  },
  {
   "cell_type": "code",
   "execution_count": null,
   "metadata": {
    "id": "YWzxK1JIPQD_"
   },
   "outputs": [],
   "source": [
    "from rasterio.windows import Window"
   ]
  },
  {
   "cell_type": "markdown",
   "metadata": {},
   "source": [
    "We have prepared a basic function `read()`to read raster windows as [`numpy.ma.masked_array`](https://numpy.org/doc/stable/reference/maskedarray.generic.html)."
   ]
  },
  {
   "cell_type": "code",
   "execution_count": null,
   "metadata": {},
   "outputs": [],
   "source": [
    "def read(uri: str, window: Window, masked: bool = True, show_bounds: bool = False ):\n",
    "    \"\"\"Read raster window as numpy.ma.masked_array.\"\"\"\n",
    "    with rasterio.open(uri) as ds:\n",
    "        if show_bounds:\n",
    "            print('Window bounds:',ds.window_bounds(window)) # Output: (left, bottom, right, top)\n",
    "        return ds.read(window=window, masked=masked)"
   ]
  },
  {
   "cell_type": "markdown",
   "metadata": {},
   "source": [
    "We can specify a subset of the image file (window or chunck) to be read. Let's read a range that starts on pixel (0, 0) with 500 x 500 and column 0 to column 500, for the RGB image:"
   ]
  },
  {
   "cell_type": "code",
   "execution_count": null,
   "metadata": {
    "id": "SBW91SsdPQEF"
   },
   "outputs": [],
   "source": [
    "rgb = read(assets['file'].href, window=Window(0, 0, 500, 500), show_bounds=True) # Window(col_off, row_off, width, height)"
   ]
  },
  {
   "cell_type": "code",
   "execution_count": null,
   "metadata": {},
   "outputs": [],
   "source": [
    "rasterio.plot.show(rgb);"
   ]
  },
  {
   "cell_type": "markdown",
   "metadata": {},
   "source": [
    "You can also load using coordinates:"
   ]
  },
  {
   "cell_type": "code",
   "execution_count": null,
   "metadata": {},
   "outputs": [],
   "source": [
    "from rasterio.windows import from_bounds"
   ]
  },
  {
   "cell_type": "code",
   "execution_count": null,
   "metadata": {},
   "outputs": [],
   "source": [
    "with rasterio.open(assets['file'].href) as src:\n",
    "    rst = src.read(window=from_bounds(-5510164.043876435, -284030.70913576556, -5510147.955408352, -284014.6206676836, src.transform))\n",
    "print(rst.shape)"
   ]
  },
  {
   "cell_type": "code",
   "execution_count": null,
   "metadata": {},
   "outputs": [],
   "source": [
    "rasterio.plot.show(rst);"
   ]
  },
  {
   "cell_type": "markdown",
   "metadata": {},
   "source": [
    "# Using Matplotlib to Visualize Images Composition and NDVI\n",
    "<hr style=\"border:1px solid #0077b9;\">\n",
    "\n",
    "\n",
    "The Mavic 3 Multispectral has two forms of sight. It combines an RGB camera with a multispectral camera to scan and analyze crop growth with total clarity. Agricultural production management requires precision and data, and Mavic 3M delivers both.\n",
    "\n",
    "Source: [DJI Mavic 3m](https://ag.dji.com/mavic-3-m?backup_page=index)\n",
    "\n",
    "\n",
    "Besides RGB images, we have also produced multispectral images from (NIR, Red Edge, Red and Green) bands and NDVI with Mavic 3M data. All these products are available at the STAC service:"
   ]
  },
  {
   "cell_type": "code",
   "execution_count": null,
   "metadata": {},
   "outputs": [],
   "source": [
    "# Get Mavic 3M multispectral data collection:\n",
    "collection = service.get_collection('Mavic3M_FlightHeight120m_MS-1')\n",
    "collection.description"
   ]
  },
  {
   "cell_type": "code",
   "execution_count": null,
   "metadata": {},
   "outputs": [],
   "source": [
    "search = service.search(collections=[\"Mavic3M_FlightHeight120m_MS-1\"])\n",
    "collection_items = search.item_collection()\n",
    "\n",
    "for item in collection_items:\n",
    "    print(item)"
   ]
  },
  {
   "cell_type": "code",
   "execution_count": null,
   "metadata": {},
   "outputs": [],
   "source": [
    "collection_item = collection.get_item('Mavic3M_120m_MS_Mocajuba_BairroNovo_20231107202757')"
   ]
  },
  {
   "cell_type": "code",
   "execution_count": null,
   "metadata": {},
   "outputs": [],
   "source": [
    "collection_item.assets "
   ]
  },
  {
   "cell_type": "markdown",
   "metadata": {},
   "source": [
    "### Overview of image based on thumbnail\n",
    "<img src=\"https://brazildatacube.dpi.inpe.br/harmonize/dev/data/Mavic3M_FlightHeight120m_MS/2023/11/Mocajuba_BairroNovo_20231107T202757_MS.png\">"
   ]
  },
  {
   "cell_type": "markdown",
   "metadata": {},
   "source": [
    "We can specify a subset of the image file (window or chunck) to be read. Let's read a range that starts on pixel (500, 500) with 500 x 500 and column 500 to column 1000, for the spectral bands red, nir and green:\n",
    "\n"
   ]
  },
  {
   "cell_type": "code",
   "execution_count": null,
   "metadata": {},
   "outputs": [],
   "source": [
    "# Using numpy squeze to remove axes of length one:\n",
    "red = numpy.squeeze(read(collection_item.assets['RED'].href, window=Window(500, 500, 500, 500)), axis=0) # Window(col_off, row_off, width, height)\n",
    "nir = numpy.squeeze(read(collection_item.assets['NIR'].href, window=Window(500, 500, 500, 500)), axis=0)\n",
    "green = numpy.squeeze(read(collection_item.assets['GREEN'].href, window=Window(500, 500, 500, 500)), axis=0)"
   ]
  },
  {
   "cell_type": "markdown",
   "metadata": {},
   "source": [
    "The `Matplotlib` can be used to plot the arrays read in the last section:"
   ]
  },
  {
   "cell_type": "code",
   "execution_count": null,
   "metadata": {},
   "outputs": [],
   "source": [
    "%matplotlib inline\n",
    "from matplotlib import pyplot as plt"
   ]
  },
  {
   "cell_type": "code",
   "execution_count": null,
   "metadata": {
    "colab": {
     "base_uri": "https://localhost:8080/",
     "height": 249
    },
    "id": "XBOIh1ifPQEK",
    "outputId": "1fb666b0-c501-47f4-ebde-cb19032b8725"
   },
   "outputs": [],
   "source": [
    "fig, (ax1, ax2, ax3) = plt.subplots(1,3, figsize=(12, 4))\n",
    "ax1.imshow(red, cmap='gray');\n",
    "ax1.set_title('Red band');\n",
    "ax2.imshow(nir, cmap='gray');\n",
    "ax2.set_title('Near Infrared band');\n",
    "ax3.imshow(green, cmap='gray');\n",
    "ax3.set_title('Green band');"
   ]
  },
  {
   "cell_type": "markdown",
   "metadata": {},
   "source": [
    "Using `Numpy` we can stack the previous arrays and use `Matplotlib` to plot a color image, but first we need to normalize their values:"
   ]
  },
  {
   "cell_type": "code",
   "execution_count": null,
   "metadata": {
    "id": "IW8PNPNIPQEO"
   },
   "outputs": [],
   "source": [
    "def normalize(array):\n",
    "    \"\"\"Normalizes numpy arrays into scale 0.0 - 1.0\"\"\"\n",
    "    array_min, array_max = array.min(), array.max()\n",
    "    return ((array - array_min)/(array_max - array_min))"
   ]
  },
  {
   "cell_type": "code",
   "execution_count": null,
   "metadata": {
    "colab": {
     "base_uri": "https://localhost:8080/",
     "height": 287
    },
    "id": "JAOSp8VnPQEV",
    "outputId": "1c7fa67f-050e-43c0-f0c2-b4f11c0bbe95"
   },
   "outputs": [],
   "source": [
    "rgb = numpy.dstack((normalize(red), normalize(nir), normalize(green)))\n",
    "plt.imshow(rgb);"
   ]
  },
  {
   "cell_type": "markdown",
   "metadata": {},
   "source": [
    "### Ploting NDVI"
   ]
  },
  {
   "cell_type": "code",
   "execution_count": null,
   "metadata": {},
   "outputs": [],
   "source": [
    "asset = collection_item.assets['NDVI']"
   ]
  },
  {
   "cell_type": "markdown",
   "metadata": {},
   "source": [
    "Using `extra_fields` from asset, we can see information needed to plot properly the vegetation indice raster. For example, `scale`, `nodata`, etc.:"
   ]
  },
  {
   "cell_type": "code",
   "execution_count": null,
   "metadata": {},
   "outputs": [],
   "source": [
    "asset.extra_fields"
   ]
  },
  {
   "cell_type": "code",
   "execution_count": null,
   "metadata": {},
   "outputs": [],
   "source": [
    "with rasterio.open(asset.href) as raster_ds:\n",
    "    ndvi = raster_ds.read(1)\n",
    "    left, bottom, right, top = raster_ds.bounds"
   ]
  },
  {
   "cell_type": "code",
   "execution_count": null,
   "metadata": {},
   "outputs": [],
   "source": [
    "# Mask nodata and apply scale to get original values of NDVI:\n",
    "nodata = asset.extra_fields['eo:bands'][0]['nodata']\n",
    "scale = asset.extra_fields['eo:bands'][0]['scale']\n",
    "ndvi = numpy.ma.masked_values(ndvi, nodata) * scale"
   ]
  },
  {
   "cell_type": "code",
   "execution_count": null,
   "metadata": {},
   "outputs": [],
   "source": [
    "%matplotlib inline\n",
    "\n",
    "im1 = plt.imshow(ndvi, extent=(left, right, bottom, top),cmap='summer_r')\n",
    "plt.colorbar(im1, label='NDVI');\n"
   ]
  },
  {
   "cell_type": "markdown",
   "metadata": {},
   "source": [
    "# Retrieving Image Files\n",
    "<hr style=\"border:1px solid #0077b9;\">"
   ]
  },
  {
   "cell_type": "markdown",
   "metadata": {},
   "source": [
    "The file related to an asset can be retrieved through the `download` method. The cell code below shows how to download the image file associated to the asset into a folder named `img`:"
   ]
  },
  {
   "cell_type": "code",
   "execution_count": null,
   "metadata": {},
   "outputs": [],
   "source": [
    "import os\n",
    "from urllib.parse import urlparse\n",
    "\n",
    "import requests\n",
    "from pystac import Asset\n",
    "from tqdm import tqdm\n",
    "\n",
    "def download(asset: Asset, directory: str = None, chunk_size: int = 1024 * 16, **request_options) -> str:\n",
    "    \"\"\"Smart download STAC Item asset.\n",
    "\n",
    "    This method uses a checksum validation and a progress bar to monitor download status.\n",
    "    \"\"\"\n",
    "    if directory is None:\n",
    "        directory = ''\n",
    "\n",
    "    response = requests.get(asset.href, stream=True, **request_options)\n",
    "    output_file = os.path.join(directory, urlparse(asset.href)[2].split('/')[-1])\n",
    "    os.makedirs(directory, exist_ok=True)\n",
    "    total_bytes = int(response.headers.get('content-length', 0))\n",
    "    with tqdm.wrapattr(open(output_file, 'wb'), 'write', miniters=1, total=total_bytes, desc=os.path.basename(output_file)) as fout:\n",
    "        for chunk in response.iter_content(chunk_size=chunk_size):\n",
    "            fout.write(chunk)"
   ]
  },
  {
   "cell_type": "code",
   "execution_count": null,
   "metadata": {},
   "outputs": [],
   "source": [
    "download(collection_item.assets['NDVI'], 'images')"
   ]
  },
  {
   "cell_type": "markdown",
   "metadata": {},
   "source": [
    "In order to download all files related to an item, iterate over assets and download each one as following:"
   ]
  },
  {
   "cell_type": "code",
   "execution_count": null,
   "metadata": {},
   "outputs": [],
   "source": [
    "for asset in collection_item.assets.values():\n",
    "    download(asset, 'images')"
   ]
  },
  {
   "cell_type": "markdown",
   "metadata": {},
   "source": [
    "# References\n",
    "<hr style=\"border:1px solid #0077b9;\">"
   ]
  },
  {
   "cell_type": "markdown",
   "metadata": {},
   "source": [
    "- [Spatio Temporal Asset Catalog Specification](https://stacspec.org/)\n",
    "\n",
    "\n",
    "- [Python Client Library for STAC Service](https://pystac-client.readthedocs.io/en/latest/)"
   ]
  },
  {
   "cell_type": "markdown",
   "metadata": {},
   "source": [
    "# See also the following Jupyter Notebooks\n",
    "<hr style=\"border:1px solid #0077b9;\">\n",
    "\n",
    "* [Introduction to Earth Observation Data Cubes tuned for Health Response (EDPU)\n",
    "STAC functions in Python](https://github.com/Harmonize-Brazil/code-gallery/blob/main/jupyter/Python/edpu/publish_collection.ipynb)\n",
    "* [Earth Observation Data Cubes tuned for Health Response Health Indicator PRocessing (EHIPR) user manual](https://github.com/Harmonize-Brazil/code-gallery/blob/main/jupyter/Python/ehipr/spatializing_lis_indicator.ipynb)"
   ]
  }
 ],
 "metadata": {
  "colab": {
   "name": "techtalk.ipynb",
   "provenance": [],
   "toc_visible": true
  },
  "kernelspec": {
   "display_name": "Python (Geospatial)",
   "language": "python",
   "name": "geospatial"
  },
  "language_info": {
   "codemirror_mode": {
    "name": "ipython",
    "version": 3
   },
   "file_extension": ".py",
   "mimetype": "text/x-python",
   "name": "python",
   "nbconvert_exporter": "python",
   "pygments_lexer": "ipython3",
   "version": "3.11.6"
  }
 },
 "nbformat": 4,
 "nbformat_minor": 4
}
