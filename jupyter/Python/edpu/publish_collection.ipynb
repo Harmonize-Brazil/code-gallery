{
 "cells": [
  {
   "cell_type": "markdown",
   "metadata": {},
   "source": [
    "<img src=\"../../../img/harmonize_logo.png\" align=\"right\" width=\"66\"/>\n",
    "\n",
    "\n",
    "#### <span style=\"color:#336699\">Introduction to Earth Observation Data Cubes tuned for Health Response (EDPU)<br> STAC functions in Python \n",
    " </span>\n",
    "<hr style=\"border:1px solid #0077b9;\">"
   ]
  },
  {
   "cell_type": "markdown",
   "metadata": {},
   "source": [
    "The [**E**ODCtHRS **D**ata **PU**blisher (EDPU)](https://github.com/Harmonize-Brazil/edpu) is a package developed by Harmonize Brazil Team - INPE in Python to publish data of interest to the project in the computing platform EODCtHRS. This package is a set of scripts that works with GeoServer and SpatioTemporal Asset Catalog (STAC), which are the tecnologies adopted in the scope of the Brazil Data Cube (BDC) project.\n",
    "\n",
    "Although the dataset of Harmonize project contains heterogeneous data, such as tabular, vector and raster data, the workflow to accomodate these data are the same. All of them are published into GeoServer as a layer and their metadata are published into STAC. So, taking it into consideration, we developed this package to optimize the flow of publishing the data into EODCtHRS. This workflow is represented in the Figure below.\n",
    "\n",
    "<img src=\"../../../img/general_workflow.jpg\" align=\"center\"/>"
   ]
  },
  {
   "cell_type": "markdown",
   "metadata": {},
   "source": [
    "The EDPU has a set of functions that publish health, climate and drone image data as \"features\" and \"coverages\" on the GeoServer, as well as styles to customize the data visualization according to the values present. Another feature that the EDPU has in relation to the published layers is to add a temporal visualization of them (it allows you to enable the temporal dimension related to each published layer).\n",
    "\n",
    "The data metadata for each module in the Harmonize project is published via STAC. The EDPU also provides a set of functions for dynamically creating and sharing collections and items related to each piece of data in the STAC catalog."
   ]
  },
  {
   "cell_type": "markdown",
   "metadata": {},
   "source": [
    "#### <span style=\"color:#336699\"><b>First Step</b> \n",
    " </span>\n"
   ]
  },
  {
   "cell_type": "markdown",
   "metadata": {},
   "source": [
    "To run the examples in this Jupyter Notebook, you need to install the [edpu](https://github.com/Harmonize-Brazil/edpu.git) package. "
   ]
  },
  {
   "cell_type": "markdown",
   "metadata": {},
   "source": [
    "##### <span style=\"color:#336699\"> Note </span>\n",
    "<hr style=\"border:1px solid #0077b9;\">\n",
    "<br>\n",
    "If you want to create a new Python Virtual Environment, please, follow this instruction on a terminal before installing the package:\n",
    "\n",
    "<ul> <li>First, create a new virtual environment linked to Python 3.7:\n",
    "        \n",
    "    $ python3.7 -m venv venv\n",
    "</ul>\n",
    "\n",
    "<ul><li>Activate the new environment:\n",
    "\n",
    "    $ source venv/bin/activate\n",
    "</ul>\n",
    "\n",
    "<ul><li>Update pip, wheel and setuptools:\n",
    "\n",
    "    $ pip3 install --upgrade pip setuptools wheel\n",
    "</ul>\n",
    "<br>\n",
    "<hr style=\"border:1px solid #0077b9;\">"
   ]
  },
  {
   "cell_type": "markdown",
   "metadata": {},
   "source": [
    "##### <span style=\"color:#336699\"> Install </span>\n",
    "\n",
    "<ul> <li>Use git to clone the software repository:\n",
    "\n",
    "    $ git clone https://github.com/Harmonize-Brazil/edpu.git\n",
    "</ul>\n",
    "\n",
    "<ul><li>Go to the source code folder:\n",
    "\n",
    "    $ cd edpu\n",
    "</ul>\n",
    "\n",
    "<ul><li>Install in development mode:\n",
    "\n",
    "    $ pip3 install -e .\n",
    "</ul>"
   ]
  },
  {
   "cell_type": "markdown",
   "metadata": {},
   "source": [
    "##### <span style=\"color:#336699\"> Import Packages </span>\n",
    "Let's load the json and edpu packages (STAC script):"
   ]
  },
  {
   "cell_type": "code",
   "execution_count": 1,
   "metadata": {},
   "outputs": [],
   "source": [
    "import json\n",
    "from edpu import stac"
   ]
  },
  {
   "cell_type": "markdown",
   "metadata": {},
   "source": [
    "##### <span style=\"color:#336699\"> Publishing a new Collection </span>\n",
    "\n",
    "To publish a new collection, the EDPU uses the BDC-Catalog package. To do this, the user must provide a json file with the collection's information following a standard of metadata values defined by the BDC team. To improve that, EDPU provides json with collection templates to publish Health, Climate and Drone Image metadata into STAC. Theses templates can be found in the following directory structure:\n",
    "<center><b>./edpu/templates/jsons/*.json</b></center>\n",
    "\n",
    "As the package provides an example collection structure, the user only needs to create a <i>dictionary</i> with the updates they want to make to the new collection. An example is provided below."
   ]
  },
  {
   "cell_type": "code",
   "execution_count": 3,
   "metadata": {},
   "outputs": [],
   "source": [
    "new_informations = {\n",
    "    \"name\": \"dengue_mortality_rate_municipality_week\",\n",
    "    \"version\": 1,\n",
    "    \"metadata\": {\n",
    "            \"wms\": {\n",
    "                \"url\": \"http://localhost:10190/geoserver/bdc_lcc/wms\",\n",
    "                \"layerName\": \"bdc_lcc:dengue_mortality_rate_municipality_week\"\n",
    "            }\n",
    "    },\n",
    "    \"bands\": [\n",
    "        {\n",
    "            \"name\": \"TABULAR\",\n",
    "            \"common_name\": \"tabular\",\n",
    "            \"description\": \"This is the data in a tabular format\",\n",
    "            \"data_type\": \"uint8\",\n",
    "            \"mime_type\": \"application/octet-stream\",\n",
    "            \"min_value\": 0,\n",
    "            \"max_value\": 0,\n",
    "            \"nodata\": None,\n",
    "            \"resolution_x\": None,\n",
    "            \"resolution_y\": None,\n",
    "            \"center_wavelength\": None,\n",
    "            \"full_width_half_max\": None\n",
    "        },\n",
    "        {\n",
    "            \"name\": \"THUMBNAIL\",\n",
    "            \"common_name\": \"thumbnail\",\n",
    "            \"description\": \"This is the quicklook of data\",\n",
    "            \"data_type\": \"uint8\",\n",
    "            \"mime_type\": \"image/png\",\n",
    "            \"min_value\": 0,\n",
    "            \"max_value\": 0,\n",
    "            \"nodata\": None,\n",
    "            \"resolution_x\": None,\n",
    "            \"resolution_y\": None,\n",
    "            \"center_wavelength\": None,\n",
    "            \"full_width_half_max\": None\n",
    "        },\n",
    "        {\n",
    "            \"name\": \"GEOJSON\",\n",
    "            \"common_name\": \"geojson\",\n",
    "            \"description\": \"This is the data in a geospatial format\",\n",
    "            \"data_type\": \"uint8\",\n",
    "            \"mime_type\": \"application/geo+json\",\n",
    "            \"min_value\": 0,\n",
    "            \"max_value\": 0,\n",
    "            \"nodata\": None,\n",
    "            \"resolution_x\": None,\n",
    "            \"resolution_y\": None,\n",
    "            \"center_wavelength\": None,\n",
    "            \"full_width_half_max\": None\n",
    "        },\n",
    "        {\n",
    "            \"name\": \"SHAPEFILE\",\n",
    "            \"common_name\": \"shapefile\",\n",
    "            \"description\": \"This is the data in a shapefile format\",\n",
    "            \"data_type\": \"uint8\",\n",
    "            \"mime_type\": \"application/zip\",\n",
    "            \"min_value\": 0,\n",
    "            \"max_value\": 0,\n",
    "            \"nodata\": None,\n",
    "            \"resolution_x\": None,\n",
    "            \"resolution_y\": None,\n",
    "            \"center_wavelength\": None,\n",
    "            \"full_width_half_max\": None\n",
    "        }\n",
    "    ]\n",
    "}"
   ]
  },
  {
   "cell_type": "code",
   "execution_count": 9,
   "metadata": {},
   "outputs": [],
   "source": [
    "new_informations"
   ]
  },
  {
   "cell_type": "markdown",
   "metadata": {},
   "source": [
    "With the metadata dictionary of the new collection, you can publish it on BDC-STAC. To do this, you can use the *publish_collection()* function. To run it, you can provide the following parameters:\n",
    "\n",
    "<ul>\n",
    "    <li> <b>data</b>: this parameter is <b>required</b>. It's a dictionary that contains the collection's metadata JSON file.<br><br>\n",
    "    <li> <b>template</b>: this parameter is <b>required</b>. It represents the JSON metadata model of the collections. You can pass keywords such as Health, Climate and Drone or a path to the template. The first one uses the edpu template and the second one uses the template provided by user.<br><br>\n",
    "    <li> <b>output_file</b>: this parameter is <b>optional</b>. It is a string containing the path to store the json file of the new collection. By default, its value is None. <br><br>\n",
    "    <li> <b>del_output_file</b>: this parameter controls the deletion of the output_file. If True, it deletes the output_file. By default, its value is True. <br><br>\n",
    "    <li> <b>workspace</b>: this parameter receive the name of geoserver workspace. By default, its value is bdc_lcc.\n",
    "</ul>\n"
   ]
  },
  {
   "cell_type": "code",
   "execution_count": 8,
   "metadata": {},
   "outputs": [],
   "source": [
    "col_id = stac.publish_collection(data=new_informations, template='health')\n",
    "print(col_id)"
   ]
  }
 ],
 "metadata": {
  "kernelspec": {
   "display_name": "venv",
   "language": "python",
   "name": "python3"
  },
  "language_info": {
   "codemirror_mode": {
    "name": "ipython",
    "version": 3
   },
   "file_extension": ".py",
   "mimetype": "text/x-python",
   "name": "python",
   "nbconvert_exporter": "python",
   "pygments_lexer": "ipython3",
   "version": "3.7.17"
  }
 },
 "nbformat": 4,
 "nbformat_minor": 2
}
