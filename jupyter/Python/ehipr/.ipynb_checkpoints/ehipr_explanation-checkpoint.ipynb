{
 "cells": [
  {
   "cell_type": "markdown",
   "metadata": {},
   "source": [
    "<style>\n",
    "    table {\n",
    "        border-collapse: collapse; /* Para remover espaços entre as células */\n",
    "        background-color: #fff; /* Define o fundo da tabela como branco */\n",
    "    }\n",
    "    td {\n",
    "        padding: 5px; /* Adiciona espaçamento interno nas células */\n",
    "    }\n",
    "    td:nth-child(1) {\n",
    "        width: 70%; /* Define a largura da primeira coluna */\n",
    "    }\n",
    "    td:nth-child(2) {\n",
    "        width: 25%; /* Define a largura da segunda coluna */\n",
    "    }\n",
    "</style>\n",
    "</head>\n",
    "<body>\n",
    "\n",
    "<table>\n",
    "    <tr>\n",
    "        <td>\n",
    "            <span style=\"color:#336699; font-size: 24px;\">\n",
    "                <b>E</b>arth Observation Data Cubes tuned for Health Response <b>H</b>ealth <b>I</b>ndicator <b>PR</b>ocessing (EHIPR) user manual\n",
    "            </span>\n",
    "            <hr style=\"border:1px solid #0077b9;\">\n",
    "        </td>\n",
    "        <td>\n",
    "            <img src=\"https://raw.githubusercontent.com/Harmonize-Brazil/code-gallery/main/img/harmonize_logo.png\" width=66/>\n",
    "            <img src=\"https://raw.githubusercontent.com/Harmonize-Brazil/code-gallery/main/img/INPE_logo.jpeg\" width=200/>\n",
    "        </td>\n",
    "    </tr>\n",
    "</table>\n",
    "\n",
    "</body>"
   ]
  },
  {
   "cell_type": "markdown",
   "metadata": {},
   "source": [
    "### <span style=\"color:#336699\" id=\"install\"> 1. Introduction </span>\n",
    " </span>\n",
    "<hr style=\"border:1px solid #0077b9;\">"
   ]
  },
  {
   "cell_type": "markdown",
   "metadata": {},
   "source": [
    "\n",
    "<p style='text-align: justify; font-size: 16px;'>\n",
    "The <b>E</b>ODCtHRS <b>H</b>ealth <b>I</b>ndicator <b>PR</b>ocessing (ehipr) is a package developed by Harmonize Brazil Team - INPE in Python to provide a set of scripts to process health indicator data and accommodate it in the EODCtHRS component. Its flow, shown in Figure 1, begins with obtaining and reading the input data. Then, the spatial component is added to the data using the municipality grid provided by the user and it can be aggregated by spatial and temporal aggregation. By default, it uses the 2022 grid of municipalities from the Brazilian Institute of Geography and Statistics (IBGE). After spatializing the data, if the user wants to crop the data to a specific region, it can be done as defining a specific parameter when calling the spatialize_data function. Finally, it's possible to use the publish_data function to publish the data into <a href='https://geoserver.org/'>GeoServer</a> and its metadata into <a href='https://stacspec.org/en'>SpatioTemporal Asset Catalog (STAC)</a> using EODCtHRS Data PUblisher (edpu) package.\n",
    "\n",
    "</p>\n",
    "\n",
    "<figure style=\"align: center; font-size: 12px;\">\n",
    "  <img id=\"ehipr_workflow\" src=\"https://raw.githubusercontent.com/Harmonize-Brazil/code-gallery/main/img/Health/ehipr_workflow.jpg\" />\n",
    "  <figcaption style='text-align: center;'><b>Figure 1</b> - ehipr workflow.</figcaption>\n",
    "</figure>\n"
   ]
  },
  {
   "cell_type": "markdown",
   "metadata": {},
   "source": [
    "### <span style=\"color:#336699\">Example of using ehipr to process and accomodate health indicators</span>\n",
    "<hr style=\"border:1px solid #0077b9;\">"
   ]
  },
  {
   "cell_type": "markdown",
   "metadata": {},
   "source": [
    "<p style='text-align: justify; font-size: 16px;'>\n",
    "    Below is a guide on how to use the package:\n",
    "</p>\n",
    "\n",
    "<ol start=2>\n",
    "    <li> <a href=\"#install\" style=\"font-size: 16px;\">Install ehipr</a>\n",
    "    <li> <a href=\"#install\" style=\"font-size: 16px;\">Usage</a>\n",
    "    <ol style='list-style-type: none;'>\n",
    "        <li> <a href=\"#import\" style=\"font-size: 16px;\"><span style=\"color:#fff\">3.1</span> Import ehipr</a>\n",
    "        <li> <a href=\"#create_shp\" style=\"font-size: 16px;\"><span style=\"color:#fff\">3.2</span> Create the shapefile delimiting the spatial aggregations</a>\n",
    "        <li> <a href=\"#spatializing_indicator\" style=\"font-size: 16px;\"><span style=\"color:#fff\">3.3</span> Spatializing the indicator</a>\n",
    "        <li> <a href=\"#publishing_indicator\" style=\"font-size: 16px;\"><span style=\"color:#fff\">3.4</span> Publishing the indicator</a>\n",
    "    </ol>\n",
    "    <li> <a href=\"#references\" style=\"font-size: 16px;\">Bibliographical references</a>\n",
    "</ol>"
   ]
  },
  {
   "cell_type": "markdown",
   "metadata": {},
   "source": [
    "### <span style=\"color:#336699\" id=\"install\"> 2. Install </span>\n",
    " </span>\n",
    "<hr style=\"border:1px solid #0077b9;\">"
   ]
  },
  {
   "cell_type": "markdown",
   "metadata": {},
   "source": [
    "<p  style='text-align: justify;font-size: 16px;'>First, it's necessary to install the <a href=\"https://github.com/Harmonize-Brazil/ehipr\">ehipr</a> package.</p>"
   ]
  },
  {
   "cell_type": "markdown",
   "metadata": {},
   "source": [
    "##### <span style=\"color:#336699\"> Note </span>\n",
    "<hr style=\"border:1px solid #0077b9;\">\n",
    "<br>\n",
    "<p style=\"font-size: 16px;\">If you want to create a new Python Virtual Environment, please, follow this instruction on a terminal before installing the package:\n",
    "</p>\n",
    "\n",
    "\n",
    "1. First, create a new virtual environment linked to Python 3.7:\n",
    "\n",
    "```\n",
    "python3.7 -m venv venv\n",
    "```\n",
    "\n",
    "2. Activate the new environment:\n",
    "\n",
    "```\n",
    "source venv/bin/activate\n",
    "```\n",
    "\n",
    "3. Update pip, wheel and setuptools:\n",
    "\n",
    "```\n",
    "pip3 install --upgrade pip setuptools wheel\n",
    "```\n",
    "\n",
    "<br>\n",
    "<hr style=\"border:1px solid #0077b9;\">"
   ]
  },
  {
   "cell_type": "markdown",
   "metadata": {},
   "source": [
    "##### <span style=\"color:#336699\"> Installation process </span>\n",
    "\n",
    "Use ``git`` to clone the software repository:\n",
    "\n",
    "```\n",
    "git clone https://github.com/Harmonize-Brazil/ehipr.git\n",
    "```\n",
    "\n",
    "Go to the source code folder:\n",
    "\n",
    "```\n",
    "cd ehipr\n",
    "```\n",
    "\n",
    "Install in development mode:\n",
    "\n",
    "```\n",
    "pip3 install -e .\n",
    "```\n",
    "\n",
    "<br>\n",
    "<hr style=\"border:1px solid #0077b9;\">"
   ]
  },
  {
   "cell_type": "markdown",
   "metadata": {},
   "source": [
    "<p text-align='justify;' style='font-size: 16px;'>\n",
    "\n",
    "To use the package in production mode, you need to configure a few things first, such as:\n",
    "</p>\n",
    "\n",
    " - **Containers**\n",
    "\n",
    "    <p text-align='justify;' style='font-size: 16px;'>\n",
    "    The package was conceived with the idea of being run in an efficient and portable way, using containers. Therefore, there is a <b><span style=\"color:#336699;\">docker compose</span></b> file in the ehipr root folder to build and run the necessary containers, which are: PostgreSQL/Postgis database, pgadmin, BDC-STAC, nginx and geoserver. Before running the command to bring up the containers, you need to edit the volumes pointed to in it to existing directories on your machine. To do this, you can use the following commands:\n",
    "\n",
    "    - Go to the root folder of the source code:\n",
    "\n",
    "        ```\n",
    "        cd ehipr\n",
    "        ```\n",
    "    \n",
    "    - <span style=\"color:red;\">NOTE:</span> You must have the docker installed in your computer. <b>If you don't have</b>, you can run:\n",
    "        ```\n",
    "        make install_docker\n",
    "         ```\n",
    "\n",
    "    - Create the database and schema (<span style=\"color:red;\">NOTE:</span>  before executing the following command, you should review docker-compose.yml to adjust the path of some folders to your local machine):\n",
    "        ```\n",
    "        make build_containers\n",
    "        ```\n",
    "    </p>\n"
   ]
  },
  {
   "cell_type": "markdown",
   "metadata": {},
   "source": [
    "- **Harmonize Database**\n",
    "\n",
    "    <p text-align='justify;' style='font-size: 16px;'>\n",
    "    This database was created to store the vector layers associated with the project's health data. This database is somewhat generic and can also accommodate climate data, which is vector data. Therefore, in order to separate the data, schemas can be created. For health data, a schema called <b><span style=\"color:#336699;\">lis</span></b> was created. If this database and schema do not exist in the environment, there is a command to resolve it.\n",
    "    \n",
    "\n",
    "\n",
    "    - Go to the root folder of the source code:\n",
    "        ```\n",
    "        cd ehipr\n",
    "        ```\n",
    "\n",
    "    - Create the database and schema:\n",
    "        ```\n",
    "        make harmonize_db\n",
    "        ```\n",
    "    </p>\n",
    "\n",
    "<p text-align='justify;' style='font-size: 16px;'>\n",
    "After these steps, the environment is already configured for the proper functioning of ehipr.\n",
    "</p>"
   ]
  },
  {
   "cell_type": "markdown",
   "metadata": {},
   "source": [
    "### <span style=\"color:#336699\" id=\"install\"> 3. Usage </span>\n",
    " </span>\n",
    "<hr style=\"border:1px solid #0077b9;\">"
   ]
  },
  {
   "cell_type": "markdown",
   "metadata": {},
   "source": [
    "\n",
    "<p text-align='justify;' style='font-size: 16px;'>\n",
    "To use the ehipr package, the user must provide a set of parameters to inform the package the characteristics of the input data. The first is the file format allowed as input data. The package can read <b>parquet</b> and <b>csv</b> files.\n",
    " \n",
    "The input data must contain a set of columns associated with: spatial index, date, indicator name, spatial and temporal aggregation and indicator value. An example of the table's structure is shown in Figure 2.\n",
    "</p>\n",
    "\n",
    "<table id=\"spatialize_data_parameters\" align=\"center\" width=\"100%\">\n",
    "    <caption style=\"text-align\"><b>Table 1</b> - Structure of the health data table (csv or parquet format).</caption>\n",
    "    <tr style=\"background-color: #848484; border-radius: 1em/5em;  font-size: 16px;\">\n",
    "        <th style=\"text-align: center;\" width=\"15%\"> spatial index\n",
    "        <th style=\"text-align: center;\" width=\"20%\"> date\n",
    "        <th style=\"text-align: center;\" width=\"15%\"> indicator name\n",
    "        <th style=\"text-align: center;\" width=\"15%\"> spatial aggregation\n",
    "        <th style=\"text-align: center;\" width=\"15%\"> temporal aggregation\n",
    "        <th style=\"text-align: center;\" width=\"15%\"> value\n",
    "    <tr>\n",
    "        <td> <p style=\"text-align: center; font-size: 16px;\"> 150010 </p>\n",
    "        <td> <p style=\"text-align: center; font-size: 16px;\"> 2010-01-01 00:00:00 </p>\n",
    "        <td> <p style=\"text-align: center; font-size: 16px;\"> indi_0019 </p>\n",
    "        <td> <p style=\"text-align: center; font-size: 16px;\"> municipality </p>\n",
    "        <td> <p style=\"text-align: center; font-size: 16px;\"> year </p>\n",
    "        <td> <p style=\"text-align: center; font-size: 16px;\"> 90.67 </p>\n",
    "    </tr>\n",
    "    <tr style=\"background-color: #D8D8D8; color: #000;\">\n",
    "        <td> <p style=\"text-align: center; font-size: 16px;\"> 150080 </p>\n",
    "        <td> <p style=\"text-align: center; font-size: 16px;\"> 2010-01-01 00:00:00 </p>\n",
    "        <td> <p style=\"text-align: center; font-size: 16px;\"> indi_0019 </p>\n",
    "        <td> <p style=\"text-align: center; font-size: 16px;\"> municipality </p>\n",
    "        <td> <p style=\"text-align: center; font-size: 16px;\"> year </p>\n",
    "        <td> <p style=\"text-align: center; font-size: 16px;\"> 44.9 </p>\n",
    "    </tr>\n",
    "    <tr>\n",
    "        <td> <p style=\"text-align: center; font-size: 16px;\"> 150010 </p>\n",
    "        <td> <p style=\"text-align: center; font-size: 16px;\"> 2010-01-01 00:00:00 </p>\n",
    "        <td> <p style=\"text-align: center; font-size: 16px;\"> indi_0019 </p>\n",
    "        <td> <p style=\"text-align: center; font-size: 16px;\"> municipality </p>\n",
    "        <td> <p style=\"text-align: center; font-size: 16px;\"> month </p>\n",
    "        <td> <p style=\"text-align: center; font-size: 16px;\"> 20.00 </p>\n",
    "    </tr>\n",
    "    <tr style=\"background-color: #D8D8D8; color: #000;\">\n",
    "        <td> <p style=\"text-align: center; font-size: 16px;\"> 150080 </p>\n",
    "        <td> <p style=\"text-align: center; font-size: 16px;\"> 2010-01-01 00:00:00 </p>\n",
    "        <td> <p style=\"text-align: center; font-size: 16px;\"> indi_0019 </p>\n",
    "        <td> <p style=\"text-align: center; font-size: 16px;\"> municipality </p>\n",
    "        <td> <p style=\"text-align: center; font-size: 16px;\"> month </p>\n",
    "        <td> <p style=\"text-align: center; font-size: 16px;\"> 4.00 </p>\n",
    "    </tr>\n",
    "    <tr>\n",
    "        <td> <p style=\"text-align: center; font-size: 16px;\"> 150010 </p>\n",
    "        <td> <p style=\"text-align: center; font-size: 16px;\"> 2010-01-01 00:00:00 </p>\n",
    "        <td> <p style=\"text-align: center; font-size: 16px;\"> indi_0019 </p>\n",
    "        <td> <p style=\"text-align: center; font-size: 16px;\"> municipality </p>\n",
    "        <td> <p style=\"text-align: center; font-size: 16px;\"> week </p>\n",
    "        <td> <p style=\"text-align: center; font-size: 16px;\"> 5.00 </p>\n",
    "    </tr>\n",
    "    <tr style=\"background-color: #D8D8D8; color: #000;\">\n",
    "        <td> <p style=\"text-align: center; font-size: 16px;\"> 150080 </p>\n",
    "        <td> <p style=\"text-align: center; font-size: 16px;\"> 2010-01-01 00:00:00 </p>\n",
    "        <td> <p style=\"text-align: center; font-size: 16px;\"> indi_0019 </p>\n",
    "        <td> <p style=\"text-align: center; font-size: 16px;\"> municipality </p>\n",
    "        <td> <p style=\"text-align: center; font-size: 16px;\"> week </p>\n",
    "        <td> <p style=\"text-align: center; font-size: 16px;\"> 1.00 </p>\n",
    "    </tr>\n",
    "</table>"
   ]
  },
  {
   "cell_type": "markdown",
   "metadata": {},
   "source": [
    "<p style=\"font-size: 16px;\">\n",
    "With the input data following the pattern mentioned above, the user must provide to the package a shapefile with the grid of geometries he wants to add to the data. This file must have three columns: data spatial index, territory name and grid spatial index, which mean, respectively, the spatial index present in health data; the name of the territory associated with that spatial index; and the spatial index present in the grid.  An example of the table's structure is shown in Figure 3.\n",
    "</p>\n",
    "\n",
    "<table id=\"spatialize_data_parameters\" align=\"center\" width=\"100%\">\n",
    "    <caption style=\"text-align\"><b>Table 2</b> - Structure of the shapefile with the grid of geometries.</caption>\n",
    "    <tr style=\"background-color: #848484; border-radius: 1em/5em;  font-size: 16px;\">\n",
    "        <th style=\"text-align: center;\" width=\"15%\"> data spatial index\n",
    "        <th style=\"text-align: center;\" width=\"70%\"> territory name\n",
    "        <th style=\"text-align: center;\" width=\"15%\"> grid spatial index\n",
    "    </tr>\n",
    "    <tr>\n",
    "        <td> <p style=\"text-align: center; font-size: 16px;\"> 150010 </p>\n",
    "        <td> <p style=\"text-align: center; font-size: 16px;\"> Abaetetuba </p>\n",
    "        <td> <p style=\"text-align: center; font-size: 16px;\"> 1500107 </p>\n",
    "    </tr>\n",
    "    <tr style=\"background-color: #D8D8D8; color: #000;\">\n",
    "        <td> <p style=\"text-align: center; font-size: 16px;\"> 150080 </p>\n",
    "        <td> <p style=\"text-align: center; font-size: 16px;\"> Ananindeua </p>\n",
    "        <td> <p style=\"text-align: center; font-size: 16px;\"> 1500800 </p>\n",
    "    </tr>\n",
    "</table>"
   ]
  },
  {
   "cell_type": "markdown",
   "metadata": {},
   "source": [
    "### <span id=\"import\" style=\"color:#336699;\"> 3.1. Import Packages </span>\n",
    "<hr style=\"border:1px solid #0077b9;\">\n",
    "<p style=\" font-size: 16px;\">\n",
    "Let's load the lis and ehipr modules of ehipr package:\n",
    "</p>"
   ]
  },
  {
   "cell_type": "code",
   "execution_count": 2,
   "metadata": {},
   "outputs": [],
   "source": [
    "from ehipr import lis, ehipr"
   ]
  },
  {
   "cell_type": "markdown",
   "metadata": {},
   "source": [
    "### <span id=\"create_shp\" style=\"color:#336699\">3.2. Create the shapefile delimiting the spatial aggregations</span>\n",
    "<hr style=\"border:1px solid #0077b9;\">\n",
    "\n",
    "<p style=\"text-align: justify;  font-size: 16px;\">\n",
    "    As mentioned earlier, health data is usually provided in tabular format. To accommodate this type of data in the EODCtHRS infrastructure, it's necessary to add a geometry type to the data. To do this, the ehipr package offers a function called <b><i>create_LIS_boundaries_shp</i></b>. This function obtains the municipality grid used by the LIS team to spatially aggregate the data and match the GEOCODE<a href=\"\" style=\"color:red\">*</a> of the file with the current municipality grid provided by IBGE to update the name of the municipality with UTF-8 pattern. This function does not need to be executed. The script checks whether the municipal grid is available. If not, it calls the create_LIS_boundaries_shp function itself.\n",
    "</p>\n",
    "\n",
    "\n",
    "<p style=\"text-align:justify; font-size: 14px;\">\n",
    "    <span style=\"color:red;\">*</span>\n",
    "    The Geocode is a 7-digit code that represents Brazilian municipalities.\n",
    "</p>"
   ]
  },
  {
   "cell_type": "code",
   "execution_count": 6,
   "metadata": {},
   "outputs": [],
   "source": [
    "grid_path = lis.create_LIS_boundaries_shp(agg='municipality')"
   ]
  },
  {
   "cell_type": "markdown",
   "metadata": {},
   "source": [
    "### <span id=\"spatializing_indicator\" style=\"color:#336699\">3.3. Spatializing the indicator</span>\n",
    "<hr style=\"border:1px solid #0077b9;\">\n",
    "\n",
    "<p style=\"text-align: justify; font-size: 16px;\">\n",
    "    After updating the municipality grid, it's possible to add the geometry to the tabular data. To do this, it's necessary to inform some parameters, such as:\n",
    "\n",
    "<table id=\"spatialize_data_parameters\" align=\"center\" width=\"100%\">\n",
    "    <caption style=\"text-align\"><b>Table 3</b> - Parameter for <b>spatialize_data</b> function of ehipr module.</caption>\n",
    "    <tr style=\"background-color: #848484; border-radius: 1em/5em;  font-size: 16px;\">\n",
    "        <th style=\"text-align: center;\" width=\"15%\"> Parameter\n",
    "        <th style=\"text-align: center;\" width=\"75%\"> Description\n",
    "        <th style=\"text-align: center;\" width=\"10%\"> Required\n",
    "    </tr>\n",
    "    <tr>\n",
    "        <td> <p style=\"text-align: center; font-size: 16px;\"> indicators </p>\n",
    "        <td> <p style=\"text-align: center; font-size: 16px;\"> This is a list of strings containing the identifiers of the indicators. These identifies are represented in the <b>Id</b> field in <a href=\"#health_indicators_table\">Table 1</a>. </p>\n",
    "        <td> <p style=\"text-align: center; font-size: 16px;\"> Yes </p>\n",
    "    </tr>\n",
    "    <tr style=\"background-color: #D8D8D8; color: #000;\">\n",
    "        <td> <p style=\"text-align: center; font-size: 16px;\"> input_path </p>\n",
    "        <td> <p style=\"text-align: center; font-size: 16px;\"> This is a string that indicates where the data is located. If the data is not available on your computer, this parameter indicates the path where the downloaded data will be stored. </p>\n",
    "        <td> <p style=\"text-align: center; font-size: 16px;\"> Yes </p>\n",
    "    </tr>\n",
    "    <tr>\n",
    "        <td> <p style=\"text-align: center; font-size: 16px;\"> data_columns </p>\n",
    "        <td> <p style=\"text-align: center; font-size: 16px;\"> This is a string that indicates where the data is located. If the data is not available on your computer, this parameter indicates the path where the downloaded data will be stored. </p>\n",
    "        <td> <p style=\"text-align: center; font-size: 16px;\"> Yes </p>\n",
    "    </tr>\n",
    "    <tr style=\"background-color: #D8D8D8; color: #000;\">\n",
    "        <td> <p style=\"text-align: center; font-size: 16px;\"> provider </p>\n",
    "        <td> <p style=\"text-align: center; font-size: 16px;\">  This is a string that indicates who is the data provider (ex: lis). </p>\n",
    "        <td> <p style=\"text-align: center; font-size: 16px;\"> Yes </p>\n",
    "    </tr>\n",
    "    <tr>\n",
    "        <td> <p style=\"text-align: center; font-size: 16px;\"> grid </p>\n",
    "        <td> <p style=\"text-align: center; font-size: 16px;\"> This is a tuple with a string that indicates where the grid is located and a dictionary with the column names. If not informed, it will use the 2022 standard grid for Brazil.</p>\n",
    "        <td> <p style=\"text-align: center; font-size: 16px;\"> No </p>\n",
    "    </tr>\n",
    "    <tr style=\"background-color: #D8D8D8; color: #000;\">\n",
    "        <td> <p style=\"text-align: center; font-size: 16px;\"> file_crops_geom </p>\n",
    "        <td> <p style=\"text-align: center; font-size: 16px;\"> This is a list of tuples with a string indicating where the crop grid is located and a dictionary with the column names. If not informed, no crop is applied to the original grid.</p>\n",
    "        <td> <p style=\"text-align: center; font-size: 16px;\"> No </p>\n",
    "    </tr>\n",
    "    <tr>\n",
    "        <td> <p style=\"text-align: center; font-size: 16px;\"> spatial_agg </p>\n",
    "        <td> <p style=\"text-align: center; font-size: 16px;\"> This is a list of strings containing the spatial aggregations you want to apply to the data. By default, its value is the spatial aggregation of the data.</p>\n",
    "        <td> <p style=\"text-align: center; font-size: 16px;\"> No </p>\n",
    "    </tr>\n",
    "    <tr style=\"background-color: #D8D8D8; color: #000;\">\n",
    "        <td> <p style=\"text-align: center; font-size: 16px;\"> temp_agg </p>\n",
    "        <td> <p style=\"text-align: center; font-size: 16px;\"> This is a list of strings containing the temporal aggregations you want to apply to the data. By default, its value is the temporal aggregation of the data.</p>\n",
    "        <td> <p style=\"text-align: center; font-size: 16px;\"> No </p>\n",
    "    </tr>\n",
    "    <tr>\n",
    "        <td> <p style=\"text-align: center; font-size: 16px;\"> github_settings </p>\n",
    "        <td> <p style=\"text-align: center; font-size: 16px;\"> This is a dictionary with the url of the github repository as the key and the token as the value. This parameter is used when the data is stored in a github repository and the user wants the package to download from there.</p>\n",
    "        <td> <p style=\"text-align: center; font-size: 16px;\"> No </p>\n",
    "    </tr>\n",
    "</table>"
   ]
  },
  {
   "cell_type": "markdown",
   "metadata": {},
   "source": [
    "<p style=\"text-align:justify; font-size: 16px;\">\n",
    "In this example, we will use the <b>Confirmed dengue cases</b> indicator provided by LIS. \n",
    "We will aggregate them by municipality and month for the regions of interest to the Harmonize project in Brazil (Northeast and North).\n",
    "</p>\n",
    "\n",
    "<p style=\"text-align:justify; font-size: 16px;\">\n",
    "First, we are going to define the parameters related to the health data, which are: \n",
    "<ul>\n",
    "<li> indicators;\n",
    "<li> provider;\n",
    "<li> spatial_agg;\n",
    "<li> temporal_agg;\n",
    "<li> data_columns; and\n",
    "<li> github_settings.\n",
    "</p>"
   ]
  },
  {
   "cell_type": "code",
   "execution_count": 12,
   "metadata": {},
   "outputs": [],
   "source": [
    "indicators = ['indi_0015']\n",
    "spatial_agg = ['mun_res']\n",
    "temporal_agg = ['month']\n",
    "provider = 'lis'"
   ]
  },
  {
   "cell_type": "markdown",
   "metadata": {},
   "source": [
    "The <b>data_columns</b> parameter is used to map the columns of the tabular data. The script recognizes and requires the following values as dictionary keys in order to read the data:\n",
    "\n",
    "<p style=\"text-align:justify; font-size: 16px;\">\n",
    "<ul style=\"text-align:justify; font-size: 16px;\">\n",
    "\n",
    "<li> <b>cod</b>: it's the geocode field;\n",
    "<li> <b>date</b>: it's the date field;\n",
    "<li> <b>name</b>: it's the indicator name field;\n",
    "<li> <b>spt_agg</b>: it's the spatial aggregation field;\n",
    "<li> <b>temp_agg</b>: it's the temporal aggregation field;\n",
    "<li> <b>value</b>: it's the indicator value field;\n",
    "\n",
    "</ul>"
   ]
  },
  {
   "cell_type": "code",
   "execution_count": 9,
   "metadata": {},
   "outputs": [],
   "source": [
    "data_columns = {\n",
    "    'cod': 'cod', \n",
    "    'date': 'date', \n",
    "    'name': 'name',\n",
    "    'spt_agg': 'agg',\n",
    "    'temp_agg': 'agg_time', \n",
    "    'value': 'value'\n",
    "}"
   ]
  },
  {
   "cell_type": "markdown",
   "metadata": {},
   "source": [
    "<p style=\"text-align:justify; font-size: 16px;\">\n",
    "The input_path parameter indicates the location where the data will be available in parquet or csv formats. If the location indicated has no data and the github_settings parameter is entered, the input_path will be the location where the script will download and store the desired data. \n",
    "</p>\n",
    "\n",
    "<p style=\"text-align:justify; font-size: 14px;\">\n",
    "<span style=\"color:red;\">Note</span>: if your data is available in the specified location, you don't need to pass the github_setting parameter.</p>"
   ]
  },
  {
   "cell_type": "code",
   "execution_count": 16,
   "metadata": {},
   "outputs": [],
   "source": [
    "input_path = '/home/yuri/Docker-Compose/geoserver/data/health_indicators'\n",
    "github_settings = {\n",
    "        'url': 'https://api.github.com/repos/rfsaldanha/bilis_harmonize/releases',\n",
    "        'token': '<your_github_token>'\n",
    "    }"
   ]
  },
  {
   "cell_type": "markdown",
   "metadata": {},
   "source": [
    "<p style=\"text-align:justify; font-size: 16px;\">\n",
    "After defined the data parameters, we are going to define the geometry parameters. As we want the data to be clipped to the area of interest, we have to point this out to the script. To do this, we need to define a variable that receives a list with tuples indicating where the cut shapefile is stored and a dictionary pointing to the name of the columns in this file. This dictionary must contain three keys:\n",
    "</p>\n",
    "<ul style=\"text-align:justify; font-size: 16px;\">\n",
    "<li> <b>cod</b>: is a 6-digit string that indicates the spatial indexer used in the health data provided by LIS (IBGE geocode).\n",
    "<li> <b>name</b>: it's the name of the municipalities.\n",
    "<li> <b>cod_mun</b>: is a 7-digit code that represents Brazilian municipalities.\n",
    "</ul>"
   ]
  },
  {
   "cell_type": "code",
   "execution_count": 8,
   "metadata": {},
   "outputs": [],
   "source": [
    "shp_info = {\n",
    "    'cod': 'GEOCODE',\n",
    "    'name': 'NAME',\n",
    "    'cod_mun': 'CD_MUN'\n",
    "}"
   ]
  },
  {
   "cell_type": "markdown",
   "metadata": {},
   "source": [
    "<p style=\"text-align:justify; font-size: 16px;\">\n",
    "With the dictionary mapping the names of the municipal grid columns, we can define the the tuple that points to the information about the municipal grid to be used to add the spatial components to the health data.\n",
    "</p>"
   ]
  },
  {
   "cell_type": "code",
   "execution_count": 11,
   "metadata": {},
   "outputs": [],
   "source": [
    "shp_grid = ('/home/yuri/teste/ehipr/ehipr/shp_malhas/default_grid/municipality/BR_municipality_2022.shp',\n",
    "            shp_info)"
   ]
  },
  {
   "cell_type": "markdown",
   "metadata": {},
   "source": [
    "<p style=\"text-align:justify; font-size: 16px;\">\n",
    "In addition, we can also define the dictionary mapping the names of the municipal grid columns, we can define the list of tuples used to cut the grid and obtain data only for the regions of interest.\n",
    "</p>"
   ]
  },
  {
   "cell_type": "code",
   "execution_count": 18,
   "metadata": {},
   "outputs": [],
   "source": [
    "crop_geoms = [\n",
    "    ('../shp_malhas/northeast/northeast.shp', shp_info),\n",
    "    ('../shp_malhas/north/north.shp', shp_info)\n",
    "]"
   ]
  },
  {
   "cell_type": "markdown",
   "metadata": {},
   "source": [
    "<p style=\"text-align:justify; font-size: 16px;\">\n",
    "Finally, we can run the <b>spatilize_data</b> function to add the geometry to the data.\n",
    "</p>"
   ]
  },
  {
   "cell_type": "code",
   "execution_count": null,
   "metadata": {},
   "outputs": [],
   "source": [
    "layers = ehipr.spatialize_data(indicators=indicators, \n",
    "                                input_path=input_path,\n",
    "                                spatial_agg=spatial_agg, \n",
    "                                temp_agg=temporal_agg, \n",
    "                                file_crops_geom=crop_geoms,\n",
    "                                github_settings=github_settings,\n",
    "                                data_columns=data_columns,\n",
    "                                provider=provider,\n",
    "                                grid=shp_grid\n",
    "                              )"
   ]
  },
  {
   "cell_type": "markdown",
   "metadata": {},
   "source": [
    "### <span id=\"publishing_indicator\" style=\"color:#336699\">3.4. Publishing the indicator</span>\n",
    "<hr style=\"border:1px solid #0077b9;\">\n",
    "<p style=\"text-align: justify; font-size: 16px;\">\n",
    "     Once the health data has been spatialized, it can be published on GeoServer and its metadata on STAC using the <b>edpu</b>. To do this, it's necessary to inform some parameters to the <b><i>publish_data</i></b> function, such as:\n",
    "\n",
    "<table id=\"publish_data_parameters\" align=\"center\" width=\"100%\">\n",
    "    <caption style=\"text-align\"><b>Table 4</b> - Parameter for <b>publish_data</b> function of ehipr module.</caption>\n",
    "    <tr style=\"background-color: #848484; border-radius: 1em/5em;  font-size: 16px;\">\n",
    "        <th style=\"text-align: center;\" width=\"15%\"> Parameter\n",
    "        <th style=\"text-align: center;\" width=\"75%\"> Description\n",
    "        <th style=\"text-align: center;\" width=\"10%\"> Required\n",
    "    </tr>\n",
    "    <tr>\n",
    "        <td> <p style=\"text-align: center; font-size: 16px;\"> layers </p>\n",
    "        <td> <p style=\"text-align: center; font-size: 16px;\"> This is a list of dictionaries containing layer information. </p>\n",
    "        <td> <p style=\"text-align: center; font-size: 16px;\"> Yes </p>\n",
    "    </tr>\n",
    "    <tr style=\"background-color: #D8D8D8; color: #000;\">\n",
    "        <td> <p style=\"text-align: center; font-size: 16px;\"> db </p>\n",
    "        <td> <p style=\"text-align: center; font-size: 16px;\"> This is a string that indicates the name of database the data is stored.  </p>\n",
    "        <td> <p style=\"text-align: center; font-size: 16px;\"> Yes </p>\n",
    "    </tr>\n",
    "    <tr>\n",
    "        <td> <p style=\"text-align: center; font-size: 16px;\"> db_schema </p>\n",
    "        <td> <p style=\"text-align: center; font-size: 16px;\"> This is a string that contains the database schema name. </p>\n",
    "        <td> <p style=\"text-align: center; font-size: 16px;\"> Yes </p>\n",
    "    </tr>\n",
    "    <tr style=\"background-color: #D8D8D8; color: #000;\">\n",
    "        <td> <p style=\"text-align: center; font-size: 16px;\"> gs_store </p>\n",
    "        <td> <p style=\"text-align: center; font-size: 16px;\"> This is a string that contains the store name of the GeoServer service. </p>\n",
    "        <td> <p style=\"text-align: center; font-size: 16px;\"> Yes </p>\n",
    "    </tr>\n",
    "    <tr>\n",
    "        <td> <p style=\"text-align: center; font-size: 16px;\"> time_regex </p>\n",
    "        <td> <p style=\"text-align: center; font-size: 16px;\"> This is a string that indicates a regex with the date and time format of the data. </p>\n",
    "        <td> <p style=\"text-align: center; font-size: 16px;\"> Yes </p>\n",
    "    </tr>\n",
    "    <tr style=\"background-color: #D8D8D8; color: #000;\">\n",
    "        <td> <p style=\"text-align: center; font-size: 16px;\"> root_data_path </p>\n",
    "        <td> <p style=\"text-align: center; font-size: 16px;\"> This is the root path of input_path.</p>\n",
    "        <td> <p style=\"text-align: center; font-size: 16px;\"> Yes </p>\n",
    "    </tr>\n",
    "    <tr>\n",
    "        <td> <p style=\"text-align: center; font-size: 16px;\"> gs_service_url </p>\n",
    "        <td> <p style=\"text-align: center; font-size: 16px;\"> This is a string that contains the url of the GeoServer service. By default, its value is 'http://localhost:10190/geoserver'.</p>\n",
    "        <td> <p style=\"text-align: center; font-size: 16px;\"> No </p>\n",
    "    </tr>\n",
    "    <tr style=\"background-color: #D8D8D8; color: #000;\">\n",
    "        <td> <p style=\"text-align: center; font-size: 16px;\"> gs_username </p>\n",
    "        <td> <p style=\"text-align: center; font-size: 16px;\">  This is a string that contains the username of the GeoServer service. By default, its value is 'admin'. </p>\n",
    "        <td> <p style=\"text-align: center; font-size: 16px;\"> No </p>\n",
    "    </tr>\n",
    "    <tr>\n",
    "        <td> <p style=\"text-align: center; font-size: 16px;\"> gs_password </p>\n",
    "        <td> <p style=\"text-align: center; font-size: 16px;\"> This is a string that contains the password of the GeoServer service. By default, its value is 'geoserver'. </p>\n",
    "        <td> <p style=\"text-align: center; font-size: 16px;\"> No </p>\n",
    "    </tr>\n",
    "    <tr style=\"background-color: #D8D8D8; color: #000;\">\n",
    "        <td> <p style=\"text-align: center; font-size: 16px;\"> workspace </p>\n",
    "        <td> <p style=\"text-align: center; font-size: 16px;\"> This is a string that contains the workspace of the GeoServer service. By default, its value is 'bdc-lcc'. </p>\n",
    "        <td> <p style=\"text-align: center; font-size: 16px;\"> No </p>\n",
    "    </tr>\n",
    "    <tr>\n",
    "        <td> <p style=\"text-align: center; font-size: 16px;\"> db_username </p>\n",
    "        <td> <p style=\"text-align: center; font-size: 16px;\"> This is a string that contains the database user. By default, its value is 'postgres'.</p>\n",
    "        <td> <p style=\"text-align: center; font-size: 16px;\"> No </p>\n",
    "    </tr>\n",
    "    <tr style=\"background-color: #D8D8D8; color: #000;\">\n",
    "        <td> <p style=\"text-align: center; font-size: 16px;\"> db_password </p>\n",
    "        <td> <p style=\"text-align: center; font-size: 16px;\"> This is a string that contains the database user's password. By default, its value is 'postgres'. </p>\n",
    "        <td> <p style=\"text-align: center; font-size: 16px;\"> No </p>\n",
    "    </tr>\n",
    "    <tr>\n",
    "        <td> <p style=\"text-align: center; font-size: 16px;\"> db_port </p>\n",
    "        <td> <p style=\"text-align: center; font-size: 16px;\"> This is a integer that contains the database port. By default, its value is 5432. </p>\n",
    "        <td> <p style=\"text-align: center; font-size: 16px;\"> No </p>\n",
    "    </tr>\n",
    "    <tr style=\"background-color: #D8D8D8; color: #000;\">\n",
    "        <td> <p style=\"text-align: center; font-size: 16px;\"> stac_url </p>\n",
    "        <td> <p style=\"text-align: center; font-size: 16px;\"> This is a string that contains the url of the STAC service. By default, its value is 'http://localhost:8080'. </p>\n",
    "        <td> <p style=\"text-align: center; font-size: 16px;\"> No </p>\n",
    "    </tr>\n",
    "    <tr>\n",
    "        <td> <p style=\"text-align: center; font-size: 16px;\"> hostname </p>\n",
    "        <td> <p style=\"text-align: center; font-size: 16px;\"> This is a string that represents the hostname IP. By default, its value is 'localhost'.</p>\n",
    "        <td> <p style=\"text-align: center; font-size: 16px;\"> No </p>\n",
    "    </tr>\n",
    "    <tr style=\"background-color: #D8D8D8; color: #000;\">\n",
    "        <td> <p style=\"text-align: center; font-size: 16px;\"> additional_path </p>\n",
    "        <td> <p style=\"text-align: center; font-size: 16px;\"> This is a string that is used to publish the data in the dev environment. By default, its value is None. </p>\n",
    "        <td> <p style=\"text-align: center; font-size: 16px;\"> No </p>\n",
    "    </tr>\n",
    "</table>"
   ]
  },
  {
   "cell_type": "markdown",
   "metadata": {},
   "source": [
    "<p style=\"text-align: justify; font-size: 16px;\">\n",
    "As mentioned in the table <a href=\"#publish_data_parameters\">3</a>, it's necessary to inform the parameter root_path, which is the root path of the path where the data is. \n",
    "</p>"
   ]
  },
  {
   "cell_type": "code",
   "execution_count": 24,
   "metadata": {},
   "outputs": [],
   "source": [
    "root_path = '/home/yuri/Docker-Compose/geoserver/data'"
   ]
  },
  {
   "cell_type": "markdown",
   "metadata": {},
   "source": [
    "Finally, you can run the <b>publish_data</b> function to publish the data as vector layers in GeoServer and its metadata in STAC."
   ]
  },
  {
   "cell_type": "code",
   "execution_count": null,
   "metadata": {},
   "outputs": [],
   "source": [
    "ids = ehipr.publish_data(layers=layers,\n",
    "                         db='harmonize',\n",
    "                         db_schema='lis',\n",
    "                         gs_store='lis',\n",
    "                         time_regex='regex=[0-9]{4}-[0-9]{2}-[0-9]{2}',\n",
    "                         root_data_path=root_path\n",
    "                        )"
   ]
  },
  {
   "cell_type": "markdown",
   "metadata": {},
   "source": [
    "### <span id=\"references\" style=\"color:#336699\">4. Bibliographical references</span>\n",
    "<hr style=\"border:1px solid #0077b9;\">\n",
    "\n",
    "\n",
    "<p id=\"ref_saldanha_2023\" style='text-align: justify;'>Saldanha R, Xavier D, Pascoal V, Barros H, Gracie R, Magalhães M, Barcellos C (2023). bilis: An R package to calculate health indicators. <a href=\"https://rfsaldanha.github.io/bilis/\">https://rfsaldanha.github.io/bilis/</a>, <a href=\"https://github.com/rfsaldanha/bilis/\">https://github.com/rfsaldanha/bilis/</a>.</p>"
   ]
  }
 ],
 "metadata": {
  "kernelspec": {
   "display_name": "Python 3 (ipykernel)",
   "language": "python",
   "name": "python3"
  },
  "language_info": {
   "codemirror_mode": {
    "name": "ipython",
    "version": 3
   },
   "file_extension": ".py",
   "mimetype": "text/x-python",
   "name": "python",
   "nbconvert_exporter": "python",
   "pygments_lexer": "ipython3",
   "version": "3.10.12"
  }
 },
 "nbformat": 4,
 "nbformat_minor": 2
}
