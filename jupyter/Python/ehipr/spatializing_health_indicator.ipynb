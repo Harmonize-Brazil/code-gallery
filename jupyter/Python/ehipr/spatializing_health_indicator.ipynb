{
 "cells": [
  {
   "cell_type": "markdown",
   "metadata": {},
   "source": [
    "<img src=\"../../../img/harmonize_logo.png\" align=\"right\" width=\"66\"/>\n",
    "\n",
    "\n",
    "### <span style=\"color:#336699;\">Introduction to <b>E</b>arth Observation Data Cubes tuned for Health Response <br> <b>H</b>ealth <b>I</b>ndicator <b>PR</b>ocessing (EHIPR) functions in Python \n",
    " </span>\n",
    "<hr style=\"border:1px solid #0077b9;\">"
   ]
  },
  {
   "cell_type": "markdown",
   "metadata": {},
   "source": [
    "<p style='text-align: justify; font-size: 16px;'>\n",
    "This notebook shows an example to integrate health data in the Earth Observation Data Cubes tuned for Health Response platform (EODCtHRS), which is an instance of the Brazil Data Cube project (BDC) that accommodates large volumes of geospatial data and provides a set of services and applications for analyzing and visualizing it. In the context of the project, the health working stream considers different stakeholders mainly the Health Information Laboratory (LIS) - Institute for Scientific and Technological Communication and Information (ICICT)/Fiocruz and the InfoDengue initiative. They produce health indicators taking into consideration the impacts of environmental and climate change on the health of the Brazilian population. Generally, kind of data is provided in tabular format.\n",
    "</p>\n",
    "\n",
    "<p style='text-align: justify; font-size: 16px;'>\n",
    "The first collection of health data is based on the indicators produced by LIS. Each one was developed by Raphael Saldanha using the package, written in R, called bilis, which obtains data from Brazilian Ministry of Health (MS) data sources, such as SIM, SINAN, Sivep-Malaria, SINASC and SIH, and population counts from the Brazilian Institute of Geography and Statistics (IBGE), and processes them using bilis functions to generate the indicators. <a href=\"#health_data_production_flow\">Figure 1</a> explains this data process workflow.\n",
    "</p>\n",
    "\n",
    "\n",
    "<figure align=\"center\">\n",
    "  <img id=\"health_data_production_flow\" src=\"../../../img/Health/Health Flowchart - Health process.jpg\"/>\n",
    "  <figcaption style='text-align: center;'><b>Figure 1</b> - Health Data Production Flow. Source: adapted from <a href=\"#ref_saldanha_2023\">Saldanha <i>et.al</i>, 2023</a>.</figcaption>\n",
    "</figure>\n"
   ]
  },
  {
   "cell_type": "markdown",
   "metadata": {},
   "source": [
    "<p style='text-align: justify; font-size: 16px;'>The <a href=\"https://github.com/Harmonize-Brazil/ehipr\"><b>E</b>ODCtHRS <b>H</b>ealth <b>I</b>ndicator <b>PR</b>ocessing (EHIPR)</a> is a package developed by Harmonize Brazil Team - INPE in Python to provides a set of scripts to process the health indicator data produced by LIS to be accommodated in the EODCtHRS component. Your flow, represented in the <a href=\"#ehipr_workflow\">Figure 2</a>, starts with the step of fetching the tabular data from the <a href=\"https://github.com/rfsaldanha/bilis_harmonize\">bilis_harmonize</a> github repository via API. Then, the spatial component is added to the data using the municipality grid provided by IBGE and it can be aggregated by spatial and temporal aggregation. After spatialize the data, if the user wants to crop the data to a specific region, it can be done as defining a specific parameter when call the <b>spatialize_data</b> function.Finally, it's possible to use the publish_data function to publish the data into GeoServer and its metadata into STAC using <a href=\"https://github.com/Harmonize-Brazil/edpu\"><b>edpu</b></a> package.\n",
    "\n",
    "</p>\n",
    "\n",
    "<figure align=\"center\">\n",
    "  <img id=\"ehipr_workflow\" src=\"../../../img/Health/ehipr_workflow.jpg\" >\n",
    "  <figcaption style='text-align: center;'><b>Figure 2</b> - ehipr workflow.</figcaption>\n",
    "</figure>\n"
   ]
  },
  {
   "cell_type": "markdown",
   "metadata": {},
   "source": [
    "### <span style=\"color:#336699\">First Harmonize Health Data Collection in Brazil</span>\n",
    "<hr style=\"border:1px solid #0077b9;\">\n",
    "\n",
    "<p style=\"text-align: justify;  font-size: 16px;\">\n",
    "    Harmonize's first collection of health data in Brazil is made up of indicators produced by the Health Information Laboratory (LIS) at ICICT/Fiocruz. This list was defined by the team of experts from Fiocruz who are part of the project and is available in a <a href=\"https://docs.google.com/spreadsheets/d/1t-s00S1qWQ_eO76VUStl1TPAut-Ua7CjH2jQVsNMa1k/edit\">spreadsheet</a> and in the <a href=\"#health_indicators_table\">Table 1</a>.\n",
    "</p>"
   ]
  },
  {
   "cell_type": "markdown",
   "metadata": {},
   "source": [
    "<table id=\"health_indicators_table\" align=\"center\">\n",
    "    <caption><b>Table 1</b> - List of health indicators from the first Harmonize collection.</caption>\n",
    "    <tr style=\"background-color: #848484; border-radius: 1em/5em;  font-size: 16px;\">\n",
    "        <th> Indicator\n",
    "        <th> Id\n",
    "        <th> Spatial Aggregation\n",
    "        <th> Period / Frequency\n",
    "        <th> Format\n",
    "        <th> Data source\n",
    "    </tr>\n",
    "    <tr>\n",
    "        <td> <p style=\"text-align: center; font-size: 16px;\"> Dengue mortality rate (per 100,000 inhabitants) </p>\n",
    "        <td> <p style=\"text-align: center; font-size: 16px;\"> indi_0014 </p>\n",
    "        <td> <p style=\"text-align: center; font-size: 16px;\"> North and Northeast hotspots <br><br> Aggregated by municipality</p>\n",
    "        <td> <p style=\"text-align: center; font-size: 16px;\"> January/2010 - December/2021 <br><br> by epidemiological week, month and year </p>\n",
    "        <td> <p style=\"text-align: center; font-size: 16px;\"> parquet </p>\n",
    "        <td> <p style=\"text-align: center; font-size: 16px;\"> Health Information Laboratory (LIS) </p>\n",
    "    </tr>\n",
    "    <tr style=\"background-color: #D8D8D8; color: #000;\">\n",
    "        <td> <p style=\"text-align: center; font-size: 16px;\"> Dengue incidence rate </p>\n",
    "        <td> <p style=\"text-align: center; font-size: 16px;\"> indi_0015 </p>\n",
    "        <td> <p style=\"text-align: center; font-size: 16px;\"> North and Northeast hotspots <br><br> Aggregated by municipality</p>\n",
    "        <td> <p style=\"text-align: center; font-size: 16px;\"> January/2010 - December/2021 <br><br> by epidemiological week, month and year </p>\n",
    "        <td> <p style=\"text-align: center; font-size: 16px;\"> parquet </p>\n",
    "        <td> <p style=\"text-align: center; font-size: 16px;\"> Health Information Laboratory (LIS) </p>\n",
    "    </tr>\n",
    "    <tr>\n",
    "        <td> <p style=\"text-align: center; font-size: 16px;\"> Zika incidence rate </p>\n",
    "        <td> <p style=\"text-align: center; font-size: 16px;\"> indi_0016 </p>\n",
    "        <td> <p style=\"text-align: center; font-size: 16px;\"> North and Northeast hotspots <br><br> Aggregated by municipality</p>\n",
    "        <td> <p style=\"text-align: center; font-size: 16px;\"> January/2010 - December/2021 <br><br> by epidemiological week, month and year </p>\n",
    "        <td> <p style=\"text-align: center; font-size: 16px;\"> parquet </p>\n",
    "        <td> <p style=\"text-align: center; font-size: 16px;\"> Health Information Laboratory (LIS) </p>\n",
    "    </tr>\n",
    "    <tr style=\"background-color: #D8D8D8; color: #000;\">\n",
    "        <td> <p style=\"text-align: center; font-size: 16px;\"> Chikungunya incidence rate </p>\n",
    "        <td> <p style=\"text-align: center; font-size: 16px;\"> indi_0017 </p>\n",
    "        <td> <p style=\"text-align: center; font-size: 16px;\"> North and Northeast hotspots <br><br> Aggregated by municipality</p>\n",
    "        <td> <p style=\"text-align: center; font-size: 16px;\"> January/2010 - December/2021 <br><br> by epidemiological week, month and year </p>\n",
    "        <td> <p style=\"text-align: center; font-size: 16px;\"> parquet </p>\n",
    "        <td> <p style=\"text-align: center; font-size: 16px;\"> Health Information Laboratory (LIS) </p>\n",
    "    </tr>\n",
    "    <tr>\n",
    "        <td> <p style=\"text-align: center;  font-size: 16px;\"> Chagas disease incidence rate </p>\n",
    "        <td> <p style=\"text-align: center;  font-size: 16px;\"> indi_0019 </p>\n",
    "        <td> <p style=\"text-align: center;  font-size: 16px;\"> North and Northeast hotspots <br><br> Aggregated by municipality</p>\n",
    "        <td> <p style=\"text-align: center;  font-size: 16px;\"> January/2010 - December/2021 <br><br> by epidemiological week, month and year </p>\n",
    "        <td> <p style=\"text-align: center; font-size: 16px;\"> parquet </p>\n",
    "        <td> <p style=\"text-align: center; font-size: 16px;\"> Health Information Laboratory (LIS) </p>\n",
    "    </tr>\n",
    "</table>"
   ]
  },
  {
   "cell_type": "markdown",
   "metadata": {},
   "source": [
    "### <span style=\"color:#336699\">Example of using ehipr to process and accomodate health indicator from LIS</span>\n",
    "<hr style=\"border:1px solid #0077b9;\">"
   ]
  },
  {
   "cell_type": "markdown",
   "metadata": {},
   "source": [
    "<p style='text-align: justify; font-size: 16px;'>\n",
    "    The indicator used in this example was produced by LIS and represents the number of <b>confirmed cases of classic dengue disease</b>. This notyebook contains an example of how to create shapefiles according to municipality, health region and UF level and how to use the <i>spatialize_data</i> function to add the spatial component to tabular data. Below is a guide to how the example package is structured:\n",
    "</p>\n",
    "\n",
    "<ol>\n",
    "    <li> <a href=\"#install\" style=\"font-size: 16px;\">Install ehipr</a>\n",
    "    <li> <a href=\"#import\" style=\"font-size: 16px;\">Import ehipr</a>\n",
    "    <li> <a href=\"#create_shp\" style=\"font-size: 16px;\">Create the shapefile delimiting the spatial aggregations</a>\n",
    "    <li> <a href=\"#spatializing_indicator\" style=\"font-size: 16px;\">Spatializing the indicator</a>\n",
    "    <li> <a href=\"#publishing_indicator\" style=\"font-size: 16px;\">Publishing the indicator</a>\n",
    "    <li> <a href=\"#references\" style=\"font-size: 16px;\">Bibliographical references</a>\n",
    "</ol>\n",
    "\n",
    "<br>"
   ]
  },
  {
   "cell_type": "markdown",
   "metadata": {},
   "source": [
    "### <span style=\"color:#336699\" id=\"install\"> 1. Install </span>\n",
    " </span>\n",
    "<hr style=\"border:1px solid #0077b9;\">"
   ]
  },
  {
   "cell_type": "markdown",
   "metadata": {},
   "source": [
    "<p  style='text-align: justify;font-size: 16px;'>To run the examples in this Jupyter Notebook, you need to install the <a href=\"https://github.com/Harmonize-Brazil/ehipr\">ehipr</a> package.</p>"
   ]
  },
  {
   "cell_type": "markdown",
   "metadata": {},
   "source": [
    "##### <span style=\"color:#336699\"> Note </span>\n",
    "<hr style=\"border:1px solid #0077b9;\">\n",
    "<br>\n",
    "<p style=\"font-size: 16px;\">If you want to create a new Python Virtual Environment, please, follow this instruction on a terminal before installing the package:\n",
    "</p>\n",
    "\n",
    "<ul> <li style=\"font-size: 16px;\">First, create a new virtual environment linked to Python 3.7:\n",
    "        \n",
    "    $ python3.7 -m venv venv\n",
    "</ul>\n",
    "\n",
    "<ul><li style=\"font-size: 16px;\">Activate the new environment:\n",
    "\n",
    "    $ source venv/bin/activate\n",
    "</ul>\n",
    "\n",
    "<ul><li style=\"font-size: 16px;\">Update pip, wheel and setuptools:\n",
    "\n",
    "    $ pip3 install --upgrade pip setuptools wheel\n",
    "</ul>\n",
    "\n",
    "<br>\n",
    "<hr style=\"border:1px solid #0077b9;\">"
   ]
  },
  {
   "cell_type": "markdown",
   "metadata": {},
   "source": [
    "##### <span style=\"color:#336699\"> Installation process </span>\n",
    "\n",
    "<ul> <li style=\"font-size: 16px;\">Use git to clone the software repository:\n",
    "\n",
    "    $ git clone https://github.com/Harmonize-Brazil/ehipr.git\n",
    "</ul>\n",
    "\n",
    "<ul><li style=\"font-size: 16px;\">Go to the source code folder:\n",
    "\n",
    "    $ cd ehipr\n",
    "</ul>\n",
    "\n",
    "<ul><li style=\"font-size: 16px;\">Install in development mode:\n",
    "\n",
    "    $ pip3 install -e .\n",
    "</ul>"
   ]
  },
  {
   "cell_type": "markdown",
   "metadata": {},
   "source": [
    "### <span id=\"import\" style=\"color:#336699;\"> 2. Import Packages </span>\n",
    "<hr style=\"border:1px solid #0077b9;\">\n",
    "<p style=\" font-size: 16px;\">\n",
    "Let's load the lis module of ehipr package:\n",
    "</p>"
   ]
  },
  {
   "cell_type": "code",
   "execution_count": null,
   "metadata": {},
   "outputs": [],
   "source": [
    "from ehipr import lis"
   ]
  },
  {
   "cell_type": "markdown",
   "metadata": {},
   "source": [
    "### <span id=\"create_shp\" style=\"color:#336699\">3. Create the shapefile delimiting the spatial aggregations</span>\n",
    "<hr style=\"border:1px solid #0077b9;\">\n",
    "\n",
    "<p style=\"text-align: justify;  font-size: 16px;\">\n",
    "    As mentioned earlier, health data is usually provided in tabular format. To accommodate this type of data in the EODCtHRS infrastructure, it's necessary to add a geometry type to the data. To do this, the ehipr package offers a function called <b><i>create_LIS_boundaries_shp</i></b>. This function obtains the municipality grid used by the LIS team to spatially aggregate the data and match the GEOCODE<a href=\"\" style=\"color:red\">*</a> of the file with the current municipality grid provided by IBGE to update the name of the municipality with UTF-8 pattern.\n",
    "</p>\n",
    "\n",
    "\n",
    "<p style=\"text-align:justify; font-size: 14px;\">\n",
    "    <span style=\"color:red;\">*</span>\n",
    "    The Geocode is a 7-digit code that represents Brazilian municipalities.\n",
    "</p>"
   ]
  },
  {
   "cell_type": "code",
   "execution_count": 2,
   "metadata": {},
   "outputs": [],
   "source": [
    "lis.create_LIS_boundaries_shp(agg='municipality')"
   ]
  },
  {
   "cell_type": "markdown",
   "metadata": {},
   "source": [
    "### <span id=\"spatializing_indicator\" style=\"color:#336699\">4. Spatializing the indicator</span>\n",
    "<hr style=\"border:1px solid #0077b9;\">\n",
    "\n",
    "<p style=\"text-align: justify; font-size: 16px;\">\n",
    "    After updating the municipality grid, it's possible to add the geometry to the tabular data. To do this, it's necessary to inform some parameters, such as:\n",
    "    <ul>\n",
    "        <li style=\"font-size: 16px;\"> <b>indicators</b>: this parameter is <b>required</b>. This is a list of strings containing the identifiers of the indicators. These identifies are represented in the <b>Id</b> field in <a href=\"#health_indicators_table\">Table 1</a>.<br>\n",
    "        <li style=\"font-size: 16px;\"> <b>input_path</b>: this parameter is <b>required</b>. This is a string that indicates where the data is located. If the data is not available on your computer, this parameter indicates the path where the downloaded data will be stored.<br>\n",
    "        <li style=\"font-size: 16px;\"> <b>git_token</b>: this parameter is <b>required</b>. This is a string that contains the user's git token.<br>\n",
    "        <li style=\"font-size: 16px;\"> <b>provider</b>: this parameter is <b>optional</b>. This is a string that indicates who is the data provider. By default, its value is <i>LIS</i>.<br>\n",
    "        <li style=\"font-size: 16px;\"> <b>spatial_agg</b>: this parameter is <b>optional</b>. This is a list of strings containing the spatial aggregations you want to apply to the data. By default, its value is the spatial aggregation of the data. <br>\n",
    "        <li style=\"font-size: 16px;\"> <b>temp_agg</b>: this parameter is <b>optional</b>. This is a list of strings containing the temporal aggregations you want to apply to the data. By default, its value is the temporal aggregation of the data. <br>\n",
    "        <li style=\"font-size: 16px;\"> <b>file_crop_geom</b>: this parameter is <b>optional</b>. This is a string that indicates where the crop geometry shapefile is located. By default, its value is None, that indicates the user do not want to crop the geometry data.\n",
    "    </ul>\n",
    "</p>"
   ]
  },
  {
   "cell_type": "code",
   "execution_count": 2,
   "metadata": {},
   "outputs": [],
   "source": [
    "indicators = ['indi_0015']\n",
    "spatial_aggregations = ['municipality']\n",
    "temporal_aggregations = ['week','month', 'year']\n",
    "file_crop_geom = 'shp_malhas/northeast/northeast.shp'"
   ]
  },
  {
   "cell_type": "code",
   "execution_count": null,
   "metadata": {},
   "outputs": [],
   "source": [
    "layers = lis.spatialize_data(indicators=indicators, input_path='<input_path>', git_token='<git_token>', spatial_agg=spatial_agg,\n",
    "                             temp_agg=temporal_agg, file_crop_geom=file_crop_geom)"
   ]
  },
  {
   "cell_type": "markdown",
   "metadata": {},
   "source": [
    "### <span id=\"publishing_indicator\" style=\"color:#336699\">5. Publishing the indicator</span>\n",
    "<hr style=\"border:1px solid #0077b9;\">\n",
    "\n",
    "<p style=\"text-align: justify;\">\n",
    "    Once the health data has been spatialized, it can be published on GeoServer and its metadata on STAC using the <b>edpu</b>. To do this, it's necessary to inform some parameters to the <b><i>publish_data</i></b> function, such as:\n",
    "    <ul>\n",
    "        <li style=\"font-size: 16px;\"> <b>db</b>: this parameter is <b>required</b>. This is a string that indicates the name of database the data is stored.<br>\n",
    "        <li style=\"font-size: 16px;\"> <b>layers</b>: this parameter is <b>required</b>. This is a list of strings containing the layer's information.<br>\n",
    "        <li style=\"font-size: 16px;\"> <b>time_regex</b>: this parameter is <b>required</b>. This is a string that indicates the date and time format of the data.<br>\n",
    "        <li style=\"font-size: 16px;\"> <b>service_url</b>: this parameter is <b>optional</b>. This is a string that contains the url of the GeoServer service. By default, its value is 'http://localhost:10190/geoserver'.<br>\n",
    "        <li style=\"font-size: 16px;\"> <b>username</b>: this parameter is <b>optional</b>. This is a string that contains the username of the GeoServer service. By default, its value is 'admin'.<br>\n",
    "        <li style=\"font-size: 16px;\"> <b>password</b>: this parameter is <b>optional</b>. This is a string that contains the password of the GeoServer service. By default, its value is 'geoserver'.<br>\n",
    "        <li style=\"font-size: 16px;\"> <b>store</b>: this parameter is <b>optional</b>. This is a string that contains the store name of the GeoServer service. By default, its value is 'lis'.<br>\n",
    "        <li style=\"font-size: 16px;\"> <b>workspace</b>: this parameter is <b>optional</b>. This is a string that contains the workspace of the GeoServer service. By default, its value is 'bdc-lcc'.<br>\n",
    "        <li style=\"font-size: 16px;\"> <b>schema</b>: this parameter is <b>optional</b>. This is a string that contains the database schema name. By default, its value is 'lis'.<br>\n",
    "        <li style=\"font-size: 16px;\"> <b>pg_username</b>: this parameter is <b>optional</b>. This is a string that contains the database user. By default, its value is 'postgres'.<br>\n",
    "        <li style=\"font-size: 16px;\"> <b>pg_password</b>: this parameter is <b>optional</b>. This is a string that contains the database user's password. By default, its value is 'postgres'.<br>\n",
    "    </ul>\n",
    "</p>"
   ]
  },
  {
   "cell_type": "code",
   "execution_count": 4,
   "metadata": {},
   "outputs": [],
   "source": [
    "lis.publish_data(db='harmonize', layers=layers, schema='lis')"
   ]
  },
  {
   "cell_type": "markdown",
   "metadata": {},
   "source": [
    "### <span id=\"references\" style=\"color:#336699\">6. Bibliographical references</span>\n",
    "<hr style=\"border:1px solid #0077b9;\">\n",
    "\n",
    "\n",
    "<p id=\"ref_saldanha_2023\" style='text-align: justify;'>Saldanha R, Xavier D, Pascoal V, Barros H, Gracie R, Magalhães M, Barcellos C (2023). bilis: An R package to calculate health indicators. <a href=\"https://rfsaldanha.github.io/bilis/\">https://rfsaldanha.github.io/bilis/</a>, <a href=\"https://github.com/rfsaldanha/bilis/\">https://github.com/rfsaldanha/bilis/</a>.</p>"
   ]
  }
 ],
 "metadata": {
  "kernelspec": {
   "display_name": "venv",
   "language": "python",
   "name": "python3"
  },
  "language_info": {
   "codemirror_mode": {
    "name": "ipython",
    "version": 3
   },
   "file_extension": ".py",
   "mimetype": "text/x-python",
   "name": "python",
   "nbconvert_exporter": "python",
   "pygments_lexer": "ipython3",
   "version": "3.7.17"
  }
 },
 "nbformat": 4,
 "nbformat_minor": 2
}
