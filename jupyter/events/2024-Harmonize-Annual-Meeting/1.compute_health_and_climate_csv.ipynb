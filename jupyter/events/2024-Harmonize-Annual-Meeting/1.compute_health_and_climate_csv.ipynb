{
 "cells": [
  {
   "cell_type": "markdown",
   "metadata": {},
   "source": [
    "<img src=\"https://geodecode.com.br/wp-content/uploads/2021/12/brasildatacube.png\" align=\"left\" style=\"height: 65px\"/>\n",
    "<img src=\"https://earth.bsc.es/harmonize/lib/exe/fetch.php?h=250&crop=0&tok=cfb750&media=wiki:logo.png\" align=\"right\" style=\"height: 65px\"/>\n",
    "\n",
    "<h1 style=\"color:#336699; text-align: center\">BDC Lab Demostration - 2024 Harmonize Annual Meeting</h1>\n",
    "<h3 style=\"color:#336699; text-align: center\">Compute monthly health or climate data for each municipality</h3>\n",
    "<hr style=\"border:2px solid #0077b9;\">\n",
    "\n",
    "<div style=\"text-align: center; font-size: 90%;\">\n",
    "    <a href=\"https://colab.research.google.com/github/Harmonize-Brazil/annual-meeting-bdclab-demo/\" target = \"_blank\">\n",
    "      <img src=\"https://colab.research.google.com/assets/colab-badge.svg\" alt=\"Colab\">\n",
    "    </a>\n",
    "    </br>\n",
    "    </br>\n",
    "    Luana Becker da Luz <a href=\"https://orcid.org/0000-0002-9916-1167\"><i class=\"fab fa-orcid\" aria-hidden=\"true\" style=\"color: green\"></i></a>,\n",
    "    Ana Paula Dal'Asta <a href=\"https://orcid.org/0000-0002-1286-9067\"><i class=\"fab fa-orcid\" aria-hidden=\"true\" style=\"color: green\"></i></a>\n",
    "    <br/>\n",
    "    <br/>\n",
    "    Earth Observation and Geoinformatics Division, National Institute for Space Research (INPE)\n",
    "    <br/>\n",
    "    Avenida dos Astronautas, 1758, Jardim da Granja, São José dos Campos, SP 12227-010, Brazil\n",
    "    <br/><br/>\n",
    "    Contact: \n",
    "    <a href=\"mailto:luana.luz@inpe.br\">luana.luz@inpe.br;</a>\n",
    "    <a href=\"mailto:ana.dalasta@inpe.br\">ana.dalasta@inpe.br;</a>\n",
    "    <a href=\"mailto:miguel.monteiro@inpe.br\">miguel.monteiro@inpe.br</a>\n",
    "    <br/>\n",
    "    <br/>\n",
    "    <div style=\"width: 60%; margin: auto\">\n",
    "        <div style=\"text-align: center; border-style: solid; border-color: #0077b9; border-width: 1px; padding: 10px;\">\n",
    "            This code uses RSTAC client to search health or climate collections on Harmonize STAC between start and end dates and merge all data in a single dataframe.\n",
    "        </div>\n",
    "    </div>\n",
    "</div>\n",
    "\n",
    "<h1 align=\"center\">\n",
    "  <img src=\"README_flowchart_roi.png\" width=\"70%\" style=\"text-align: center\"/>\n",
    "</h1>\n"
   ]
  },
  {
   "cell_type": "code",
   "execution_count": 7,
   "metadata": {
    "vscode": {
     "languageId": "r"
    }
   },
   "outputs": [
    {
     "name": "stderr",
     "output_type": "stream",
     "text": [
      "\n",
      "Attaching package: ‘dplyr’\n",
      "\n",
      "\n",
      "The following objects are masked from ‘package:stats’:\n",
      "\n",
      "    filter, lag\n",
      "\n",
      "\n",
      "The following objects are masked from ‘package:base’:\n",
      "\n",
      "    intersect, setdiff, setequal, union\n",
      "\n",
      "\n"
     ]
    }
   ],
   "source": [
    "library(sf)\n",
    "library(rstac)\n",
    "library(dplyr)"
   ]
  },
  {
   "cell_type": "markdown",
   "metadata": {},
   "source": [
    "# 1. Set constants\n",
    "<hr style=\"border:1px solid #0077b9;\">"
   ]
  },
  {
   "cell_type": "code",
   "execution_count": 8,
   "metadata": {
    "vscode": {
     "languageId": "r"
    }
   },
   "outputs": [],
   "source": [
    "HARMONIZE_STAC_URL <- 'https://brazildatacube.dpi.inpe.br/harmonize/dev/stac/v1/'\n",
    "\n",
    "START_DATE <- \"2020-01-01\"\n",
    "END_DATE <- \"2020-12-31\""
   ]
  },
  {
   "cell_type": "markdown",
   "metadata": {},
   "source": [
    "# 2. List Harmonize STAC collections (using RSTAC)\n",
    "<hr style=\"border:1px solid #0077b9;\">"
   ]
  },
  {
   "cell_type": "code",
   "execution_count": 9,
   "metadata": {
    "vscode": {
     "languageId": "r"
    }
   },
   "outputs": [
    {
     "name": "stdout",
     "output_type": "stream",
     "text": [
      "[1] \"dengue_mortality_rate_mun_year_north-1\"\n",
      "[1] \"total_prec_max_no_mun_epiweek-1\"\n",
      "[1] \"max_temper_max_no_mun_epiweek-1\"\n",
      "[1] \"max_temper_mean_ne_mun_month-1\"\n",
      "[1] \"Phantom3Advanced_FlightHeight120m_Mosaic-1\"\n",
      "[1] \"Phantom3Advanced_FlightHeight120m-1\"\n",
      "[1] \"chagas_disease_cases_mun_week_north-1\"\n",
      "[1] \"max_temper_max_no_mun_epiweek_ras-1\"\n",
      "[1] \"max_temper_mean_no_mun_month-1\"\n",
      "[1] \"max_temper_max_no_mun_month-1\"\n",
      "[1] \"chagas_disease_cases_mun_month_north-1\"\n",
      "[1] \"max_temper_max_ne_mun_epiweek-1\"\n",
      "[1] \"dengue_cases_mun_year_north-1\"\n",
      "[1] \"chikungunya_cases_mun_year_north-1\"\n",
      "[1] \"zika_cases_mun_month_north-1\"\n",
      "[1] \"dengue_cases_mun_month_north-1\"\n",
      "[1] \"chikungunya_cases_mun_month_north-1\"\n",
      "[1] \"dengue_cases_mun_week_north-1\"\n",
      "[1] \"max_temper_mean_no_mun_epiweek-1\"\n",
      "[1] \"dengue_mortality_rate_mun_month_north-1\"\n",
      "[1] \"zika_cases_mun_year_north-1\"\n",
      "[1] \"chagas_disease_cases_mun_year_north-1\"\n",
      "[1] \"zika_cases_mun_week_north-1\"\n",
      "[1] \"total_prec_max_no_mun_month-1\"\n",
      "[1] \"dengue_mortality_rate_mun_week_north-1\"\n",
      "[1] \"chikungunya_cases_mun_week_north-1\"\n",
      "[1] \"total_prec_mean_ne_mun_month-1\"\n",
      "[1] \"total_prec_mean_no_mun_month-1\"\n",
      "[1] \"max_temper_max_ne_mun_epiweek_ras-1\"\n",
      "[1] \"Mavic3M_FlightHeight120m_Mosaic-1\"\n",
      "[1] \"dengue_mortality_rate_mun_year_northeast-1\"\n",
      "[1] \"total_prec_max_ne_mun_epiweek_ras-1\"\n",
      "[1] \"total_prec_max_no_mun_epiweek_ras-1\"\n",
      "[1] \"chikungunya_cases_mun_year_northeast-1\"\n",
      "[1] \"chagas_disease_cases_mun_year_northeast-1\"\n",
      "[1] \"total_prec_max_ne_mun_epiweek-1\"\n",
      "[1] \"total_prec_mean_ne_mun_epiweek-1\"\n",
      "[1] \"dengue_cases_mun_year_northeast-1\"\n",
      "[1] \"dengue_mortality_rate_mun_month_northeast-1\"\n",
      "[1] \"zika_cases_mun_month_northeast-1\"\n",
      "[1] \"zika_cases_mun_week_northeast-1\"\n",
      "[1] \"dengue_cases_mun_week_northeast-1\"\n",
      "[1] \"max_temper_mean_ne_mun_epiweek-1\"\n",
      "[1] \"zika_cases_mun_year_northeast-1\"\n",
      "[1] \"dengue_cases_mun_month_northeast-1\"\n",
      "[1] \"total_prec_max_ne_mun_month-1\"\n",
      "[1] \"total_prec_mean_no_mun_epiweek-1\"\n",
      "[1] \"max_temper_max_ne_mun_month-1\"\n",
      "[1] \"chikungunya_cases_mun_month_northeast-1\"\n",
      "[1] \"dengue_mortality_rate_mun_week_northeast-1\"\n",
      "[1] \"chagas_disease_cases_mun_month_northeast-1\"\n",
      "[1] \"anomaly_con_max_temper_no_mun_epiweek-1\"\n",
      "[1] \"Mavic3M_FlightHeight120m-1\"\n",
      "[1] \"chikungunya_cases_mun_week_northeast-1\"\n",
      "[1] \"anomaly_con_max_temper_ne_mun_month-1\"\n",
      "[1] \"chagas_disease_cases_mun_week_northeast-1\"\n",
      "[1] \"anomaly_con_max_temper_no_mun_month-1\"\n",
      "[1] \"anomaly_con_max_temper_ne_mun_epiweek-1\"\n"
     ]
    }
   ],
   "source": [
    "all_collections <- stac(HARMONIZE_STAC_URL) %>%\n",
    "  collections() %>%\n",
    "  get_request()\n",
    "\n",
    "for (collection in all_collections$collections){\n",
    "  print(collection$id)\n",
    "}"
   ]
  },
  {
   "cell_type": "markdown",
   "metadata": {},
   "source": [
    "# 3. Obtain monthly climate data for each municipality\n",
    "<hr style=\"border:1px solid #0077b9;\">"
   ]
  },
  {
   "cell_type": "markdown",
   "metadata": {},
   "source": [
    "### 3.1 Set collection id (temperature, precipitation, dengue, zika, etc)"
   ]
  },
  {
   "cell_type": "code",
   "execution_count": 17,
   "metadata": {
    "vscode": {
     "languageId": "r"
    }
   },
   "outputs": [],
   "source": [
    "# COLLECTION_ID <- \"dengue_cases_mun_week_north-1\"\n",
    "# COLLECTION_ID <- \"total_prec_max_no_mun_epiweek-1\"\n",
    "# COLLECTION_ID <- \"max_temper_mean_no_mun_epiweek-1\"\n",
    "COLLECTION_ID <- \"max_temper_mean_no_mun_month-1\"\n",
    "# COLLECTION_ID <- \"total_prec_max_no_mun_month-1\"\n",
    "# COLLECTION_ID <- \"dengue_mortality_rate_mun_month_north-1\"\n",
    "# COLLECTION_ID <- \"dengue_cases_mun_month_north-1\""
   ]
  },
  {
   "cell_type": "markdown",
   "metadata": {},
   "source": [
    "### 3.2 Search climate data on Harmonize STAC (Using RSTAC)"
   ]
  },
  {
   "cell_type": "code",
   "execution_count": 18,
   "metadata": {
    "vscode": {
     "languageId": "r"
    }
   },
   "outputs": [
    {
     "data": {
      "text/html": [
       "<dl>\n",
       "\t<dt>$matched</dt>\n",
       "\t\t<dd>12</dd>\n",
       "\t<dt>$returned</dt>\n",
       "\t\t<dd>12</dd>\n",
       "</dl>\n"
      ],
      "text/latex": [
       "\\begin{description}\n",
       "\\item[\\$matched] 12\n",
       "\\item[\\$returned] 12\n",
       "\\end{description}\n"
      ],
      "text/markdown": [
       "$matched\n",
       ":   12\n",
       "$returned\n",
       ":   12\n",
       "\n",
       "\n"
      ],
      "text/plain": [
       "$matched\n",
       "[1] 12\n",
       "\n",
       "$returned\n",
       "[1] 12\n"
      ]
     },
     "metadata": {},
     "output_type": "display_data"
    }
   ],
   "source": [
    "stac_search <- stac(HARMONIZE_STAC_URL) %>%\n",
    "  stac_search(\n",
    "    collections = COLLECTION_ID,\n",
    "    datetime = paste(START_DATE, END_DATE, sep = \"/\"),\n",
    "    limit = 200\n",
    "  ) %>%\n",
    "  get_request()\n",
    "\n",
    "stac_search$context"
   ]
  },
  {
   "cell_type": "markdown",
   "metadata": {},
   "source": [
    "### 3.3 For each feature, retrieve geojson as dataframe"
   ]
  },
  {
   "cell_type": "code",
   "execution_count": 19,
   "metadata": {
    "vscode": {
     "languageId": "r"
    }
   },
   "outputs": [
    {
     "name": "stdout",
     "output_type": "stream",
     "text": [
      "Reading layer `max_temper_mean_NO_mun_month_20201201' from data source \n",
      "  `https://brazildatacube.dpi.inpe.br/harmonize/dev/data/climate_indicators/temperature_era5land/max_temper_mean_no_mun_month/shapefiles/2020-12-01/max_temper_mean_no_mun_month_20201201.geojson' \n",
      "  using driver `GeoJSON'\n",
      "Simple feature collection with 21 features and 6 fields\n",
      "Geometry type: POLYGON\n",
      "Dimension:     XY\n",
      "Bounding box:  xmin: -50.9967 ymin: -5.196937 xmax: -48.13749 ymax: -1.019427\n",
      "Geodetic CRS:  WGS 84\n",
      "Reading layer `max_temper_mean_NO_mun_month_20201101' from data source \n",
      "  `https://brazildatacube.dpi.inpe.br/harmonize/dev/data/climate_indicators/temperature_era5land/max_temper_mean_no_mun_month/shapefiles/2020-11-01/max_temper_mean_no_mun_month_20201101.geojson' \n",
      "  using driver `GeoJSON'\n",
      "Simple feature collection with 21 features and 6 fields\n",
      "Geometry type: POLYGON\n",
      "Dimension:     XY\n",
      "Bounding box:  xmin: -50.9967 ymin: -5.196937 xmax: -48.13749 ymax: -1.019427\n",
      "Geodetic CRS:  WGS 84\n",
      "Reading layer `max_temper_mean_NO_mun_month_20201001' from data source \n",
      "  `https://brazildatacube.dpi.inpe.br/harmonize/dev/data/climate_indicators/temperature_era5land/max_temper_mean_no_mun_month/shapefiles/2020-10-01/max_temper_mean_no_mun_month_20201001.geojson' \n",
      "  using driver `GeoJSON'\n",
      "Simple feature collection with 21 features and 6 fields\n",
      "Geometry type: POLYGON\n",
      "Dimension:     XY\n",
      "Bounding box:  xmin: -50.9967 ymin: -5.196937 xmax: -48.13749 ymax: -1.019427\n",
      "Geodetic CRS:  WGS 84\n",
      "Reading layer `max_temper_mean_NO_mun_month_20200901' from data source \n",
      "  `https://brazildatacube.dpi.inpe.br/harmonize/dev/data/climate_indicators/temperature_era5land/max_temper_mean_no_mun_month/shapefiles/2020-09-01/max_temper_mean_no_mun_month_20200901.geojson' \n",
      "  using driver `GeoJSON'\n",
      "Simple feature collection with 21 features and 6 fields\n",
      "Geometry type: POLYGON\n",
      "Dimension:     XY\n",
      "Bounding box:  xmin: -50.9967 ymin: -5.196937 xmax: -48.13749 ymax: -1.019427\n",
      "Geodetic CRS:  WGS 84\n",
      "Reading layer `max_temper_mean_NO_mun_month_20200801' from data source \n",
      "  `https://brazildatacube.dpi.inpe.br/harmonize/dev/data/climate_indicators/temperature_era5land/max_temper_mean_no_mun_month/shapefiles/2020-08-01/max_temper_mean_no_mun_month_20200801.geojson' \n",
      "  using driver `GeoJSON'\n",
      "Simple feature collection with 21 features and 6 fields\n",
      "Geometry type: POLYGON\n",
      "Dimension:     XY\n",
      "Bounding box:  xmin: -50.9967 ymin: -5.196937 xmax: -48.13749 ymax: -1.019427\n",
      "Geodetic CRS:  WGS 84\n",
      "Reading layer `max_temper_mean_NO_mun_month_20200701' from data source \n",
      "  `https://brazildatacube.dpi.inpe.br/harmonize/dev/data/climate_indicators/temperature_era5land/max_temper_mean_no_mun_month/shapefiles/2020-07-01/max_temper_mean_no_mun_month_20200701.geojson' \n",
      "  using driver `GeoJSON'\n",
      "Simple feature collection with 21 features and 6 fields\n",
      "Geometry type: POLYGON\n",
      "Dimension:     XY\n",
      "Bounding box:  xmin: -50.9967 ymin: -5.196937 xmax: -48.13749 ymax: -1.019427\n",
      "Geodetic CRS:  WGS 84\n",
      "Reading layer `max_temper_mean_NO_mun_month_20200601' from data source \n",
      "  `https://brazildatacube.dpi.inpe.br/harmonize/dev/data/climate_indicators/temperature_era5land/max_temper_mean_no_mun_month/shapefiles/2020-06-01/max_temper_mean_no_mun_month_20200601.geojson' \n",
      "  using driver `GeoJSON'\n",
      "Simple feature collection with 21 features and 6 fields\n",
      "Geometry type: POLYGON\n",
      "Dimension:     XY\n",
      "Bounding box:  xmin: -50.9967 ymin: -5.196937 xmax: -48.13749 ymax: -1.019427\n",
      "Geodetic CRS:  WGS 84\n",
      "Reading layer `max_temper_mean_NO_mun_month_20200501' from data source \n",
      "  `https://brazildatacube.dpi.inpe.br/harmonize/dev/data/climate_indicators/temperature_era5land/max_temper_mean_no_mun_month/shapefiles/2020-05-01/max_temper_mean_no_mun_month_20200501.geojson' \n",
      "  using driver `GeoJSON'\n",
      "Simple feature collection with 21 features and 6 fields\n",
      "Geometry type: POLYGON\n",
      "Dimension:     XY\n",
      "Bounding box:  xmin: -50.9967 ymin: -5.196937 xmax: -48.13749 ymax: -1.019427\n",
      "Geodetic CRS:  WGS 84\n",
      "Reading layer `max_temper_mean_NO_mun_month_20200401' from data source \n",
      "  `https://brazildatacube.dpi.inpe.br/harmonize/dev/data/climate_indicators/temperature_era5land/max_temper_mean_no_mun_month/shapefiles/2020-04-01/max_temper_mean_no_mun_month_20200401.geojson' \n",
      "  using driver `GeoJSON'\n",
      "Simple feature collection with 21 features and 6 fields\n",
      "Geometry type: POLYGON\n",
      "Dimension:     XY\n",
      "Bounding box:  xmin: -50.9967 ymin: -5.196937 xmax: -48.13749 ymax: -1.019427\n",
      "Geodetic CRS:  WGS 84\n",
      "Reading layer `max_temper_mean_NO_mun_month_20200301' from data source \n",
      "  `https://brazildatacube.dpi.inpe.br/harmonize/dev/data/climate_indicators/temperature_era5land/max_temper_mean_no_mun_month/shapefiles/2020-03-01/max_temper_mean_no_mun_month_20200301.geojson' \n",
      "  using driver `GeoJSON'\n",
      "Simple feature collection with 21 features and 6 fields\n",
      "Geometry type: POLYGON\n",
      "Dimension:     XY\n",
      "Bounding box:  xmin: -50.9967 ymin: -5.196937 xmax: -48.13749 ymax: -1.019427\n",
      "Geodetic CRS:  WGS 84\n",
      "Reading layer `max_temper_mean_NO_mun_month_20200201' from data source \n",
      "  `https://brazildatacube.dpi.inpe.br/harmonize/dev/data/climate_indicators/temperature_era5land/max_temper_mean_no_mun_month/shapefiles/2020-02-01/max_temper_mean_no_mun_month_20200201.geojson' \n",
      "  using driver `GeoJSON'\n",
      "Simple feature collection with 21 features and 6 fields\n",
      "Geometry type: POLYGON\n",
      "Dimension:     XY\n",
      "Bounding box:  xmin: -50.9967 ymin: -5.196937 xmax: -48.13749 ymax: -1.019427\n",
      "Geodetic CRS:  WGS 84\n",
      "Reading layer `max_temper_mean_NO_mun_month_20200101' from data source \n",
      "  `https://brazildatacube.dpi.inpe.br/harmonize/dev/data/climate_indicators/temperature_era5land/max_temper_mean_no_mun_month/shapefiles/2020-01-01/max_temper_mean_no_mun_month_20200101.geojson' \n",
      "  using driver `GeoJSON'\n",
      "Simple feature collection with 21 features and 6 fields\n",
      "Geometry type: POLYGON\n",
      "Dimension:     XY\n",
      "Bounding box:  xmin: -50.9967 ymin: -5.196937 xmax: -48.13749 ymax: -1.019427\n",
      "Geodetic CRS:  WGS 84\n"
     ]
    },
    {
     "data": {
      "text/html": [
       "<ol>\n",
       "\t<li><table class=\"dataframe\">\n",
       "<caption>A data.frame: 21 × 8</caption>\n",
       "<thead>\n",
       "\t<tr><th scope=col>CD_MUN</th><th scope=col>NM_MUN</th><th scope=col>SIGLA</th><th scope=col>AREA_KM2</th><th scope=col>cod</th><th scope=col>value</th><th scope=col>geometry</th><th scope=col>year_month</th></tr>\n",
       "\t<tr><th scope=col>&lt;chr&gt;</th><th scope=col>&lt;chr&gt;</th><th scope=col>&lt;chr&gt;</th><th scope=col>&lt;dbl&gt;</th><th scope=col>&lt;dbl&gt;</th><th scope=col>&lt;dbl&gt;</th><th scope=col>&lt;POLYGON [°]&gt;</th><th scope=col>&lt;chr&gt;</th></tr>\n",
       "</thead>\n",
       "<tbody>\n",
       "\t<tr><td>1500107</td><td>Abaetetuba           </td><td>PA</td><td> 1610.654</td><td>NA</td><td>32.27164</td><td>POLYGON ((-48.83139 -1.5635...</td><td>2020-12</td></tr>\n",
       "\t<tr><td>1500800</td><td>Ananindeua           </td><td>PA</td><td>  190.581</td><td>NA</td><td>31.91007</td><td>POLYGON ((-48.33466 -1.2398...</td><td>2020-12</td></tr>\n",
       "\t<tr><td>1501105</td><td>Bagre                </td><td>PA</td><td> 4397.321</td><td>NA</td><td>32.65541</td><td>POLYGON ((-50.29255 -1.8063...</td><td>2020-12</td></tr>\n",
       "\t<tr><td>1501204</td><td>Baião                </td><td>PA</td><td> 3759.834</td><td>NA</td><td>32.88814</td><td>POLYGON ((-49.48643 -2.6631...</td><td>2020-12</td></tr>\n",
       "\t<tr><td>1501303</td><td>Barcarena            </td><td>PA</td><td> 1310.338</td><td>NA</td><td>31.93690</td><td>POLYGON ((-48.4695 -1.59545...</td><td>2020-12</td></tr>\n",
       "\t<tr><td>1501402</td><td>Belém                </td><td>PA</td><td> 1059.466</td><td>NA</td><td>31.35751</td><td>POLYGON ((-48.35304 -1.2210...</td><td>2020-12</td></tr>\n",
       "\t<tr><td>1501501</td><td>Benevides            </td><td>PA</td><td>  187.826</td><td>NA</td><td>32.35474</td><td>POLYGON ((-48.33104 -1.2569...</td><td>2020-12</td></tr>\n",
       "\t<tr><td>1501782</td><td>Breu Branco          </td><td>PA</td><td> 3941.904</td><td> 1</td><td>32.63459</td><td>POLYGON ((-48.92561 -3.4129...</td><td>2020-12</td></tr>\n",
       "\t<tr><td>1502103</td><td>Cametá               </td><td>PA</td><td> 3081.367</td><td>NA</td><td>32.47707</td><td>POLYGON ((-49.40003 -1.9237...</td><td>2020-12</td></tr>\n",
       "\t<tr><td>1503093</td><td>Goianésia do Pará    </td><td>PA</td><td> 7023.948</td><td> 1</td><td>32.54176</td><td>POLYGON ((-49.16052 -3.5384...</td><td>2020-12</td></tr>\n",
       "\t<tr><td>1503309</td><td>Igarapé-Miri         </td><td>PA</td><td> 1996.790</td><td>NA</td><td>32.67108</td><td>POLYGON ((-49.09434 -1.8128...</td><td>2020-12</td></tr>\n",
       "\t<tr><td>1503804</td><td>Jacundá              </td><td>PA</td><td> 2008.315</td><td> 1</td><td>31.44184</td><td>POLYGON ((-49.0436 -4.31954...</td><td>2020-12</td></tr>\n",
       "\t<tr><td>1504000</td><td>Limoeiro do Ajuru    </td><td>PA</td><td> 1490.186</td><td>NA</td><td>31.54980</td><td>POLYGON ((-49.30124 -1.7029...</td><td>2020-12</td></tr>\n",
       "\t<tr><td>1504422</td><td>Marituba             </td><td>PA</td><td>  103.214</td><td>NA</td><td>32.17996</td><td>POLYGON ((-48.3207 -1.32335...</td><td>2020-12</td></tr>\n",
       "\t<tr><td>1504604</td><td>Mocajuba             </td><td>PA</td><td>  871.171</td><td>NA</td><td>33.09727</td><td>POLYGON ((-49.20685 -2.4570...</td><td>2020-12</td></tr>\n",
       "\t<tr><td>1504703</td><td>Moju                 </td><td>PA</td><td> 9094.139</td><td>NA</td><td>33.41370</td><td>POLYGON ((-48.43821 -1.6590...</td><td>2020-12</td></tr>\n",
       "\t<tr><td>1505064</td><td>Novo Repartimento    </td><td>PA</td><td>15398.723</td><td> 1</td><td>31.60329</td><td>POLYGON ((-50.10036 -4.0816...</td><td>2020-12</td></tr>\n",
       "\t<tr><td>1505205</td><td>Oeiras do Pará       </td><td>PA</td><td> 3852.291</td><td>NA</td><td>32.58659</td><td>POLYGON ((-49.85197 -1.8324...</td><td>2020-12</td></tr>\n",
       "\t<tr><td>1506351</td><td>Santa Bárbara do Pará</td><td>PA</td><td>  278.154</td><td>NA</td><td>31.82974</td><td>POLYGON ((-48.22541 -1.1080...</td><td>2020-12</td></tr>\n",
       "\t<tr><td>1507953</td><td>Tailândia            </td><td>PA</td><td> 4430.477</td><td> 1</td><td>33.34077</td><td>POLYGON ((-48.68877 -2.4189...</td><td>2020-12</td></tr>\n",
       "\t<tr><td>1508100</td><td>Tucuruí              </td><td>PA</td><td> 2084.289</td><td> 1</td><td>31.40846</td><td>POLYGON ((-49.59761 -3.5131...</td><td>2020-12</td></tr>\n",
       "</tbody>\n",
       "</table>\n",
       "</li>\n",
       "\t<li><table class=\"dataframe\">\n",
       "<caption>A data.frame: 21 × 8</caption>\n",
       "<thead>\n",
       "\t<tr><th scope=col>CD_MUN</th><th scope=col>NM_MUN</th><th scope=col>SIGLA</th><th scope=col>AREA_KM2</th><th scope=col>cod</th><th scope=col>value</th><th scope=col>geometry</th><th scope=col>year_month</th></tr>\n",
       "\t<tr><th scope=col>&lt;chr&gt;</th><th scope=col>&lt;chr&gt;</th><th scope=col>&lt;chr&gt;</th><th scope=col>&lt;dbl&gt;</th><th scope=col>&lt;dbl&gt;</th><th scope=col>&lt;dbl&gt;</th><th scope=col>&lt;POLYGON [°]&gt;</th><th scope=col>&lt;chr&gt;</th></tr>\n",
       "</thead>\n",
       "<tbody>\n",
       "\t<tr><td>1500107</td><td>Abaetetuba           </td><td>PA</td><td> 1610.654</td><td>NA</td><td>33.64498</td><td>POLYGON ((-48.83139 -1.5635...</td><td>2020-11</td></tr>\n",
       "\t<tr><td>1500800</td><td>Ananindeua           </td><td>PA</td><td>  190.581</td><td>NA</td><td>33.13511</td><td>POLYGON ((-48.33466 -1.2398...</td><td>2020-11</td></tr>\n",
       "\t<tr><td>1501105</td><td>Bagre                </td><td>PA</td><td> 4397.321</td><td>NA</td><td>34.20501</td><td>POLYGON ((-50.29255 -1.8063...</td><td>2020-11</td></tr>\n",
       "\t<tr><td>1501204</td><td>Baião                </td><td>PA</td><td> 3759.834</td><td>NA</td><td>34.38894</td><td>POLYGON ((-49.48643 -2.6631...</td><td>2020-11</td></tr>\n",
       "\t<tr><td>1501303</td><td>Barcarena            </td><td>PA</td><td> 1310.338</td><td>NA</td><td>33.33461</td><td>POLYGON ((-48.4695 -1.59545...</td><td>2020-11</td></tr>\n",
       "\t<tr><td>1501402</td><td>Belém                </td><td>PA</td><td> 1059.466</td><td>NA</td><td>31.78227</td><td>POLYGON ((-48.35304 -1.2210...</td><td>2020-11</td></tr>\n",
       "\t<tr><td>1501501</td><td>Benevides            </td><td>PA</td><td>  187.826</td><td>NA</td><td>33.69630</td><td>POLYGON ((-48.33104 -1.2569...</td><td>2020-11</td></tr>\n",
       "\t<tr><td>1501782</td><td>Breu Branco          </td><td>PA</td><td> 3941.904</td><td> 1</td><td>34.14983</td><td>POLYGON ((-48.92561 -3.4129...</td><td>2020-11</td></tr>\n",
       "\t<tr><td>1502103</td><td>Cametá               </td><td>PA</td><td> 3081.367</td><td>NA</td><td>34.47341</td><td>POLYGON ((-49.40003 -1.9237...</td><td>2020-11</td></tr>\n",
       "\t<tr><td>1503093</td><td>Goianésia do Pará    </td><td>PA</td><td> 7023.948</td><td> 1</td><td>34.31977</td><td>POLYGON ((-49.16052 -3.5384...</td><td>2020-11</td></tr>\n",
       "\t<tr><td>1503309</td><td>Igarapé-Miri         </td><td>PA</td><td> 1996.790</td><td>NA</td><td>34.24558</td><td>POLYGON ((-49.09434 -1.8128...</td><td>2020-11</td></tr>\n",
       "\t<tr><td>1503804</td><td>Jacundá              </td><td>PA</td><td> 2008.315</td><td> 1</td><td>33.47277</td><td>POLYGON ((-49.0436 -4.31954...</td><td>2020-11</td></tr>\n",
       "\t<tr><td>1504000</td><td>Limoeiro do Ajuru    </td><td>PA</td><td> 1490.186</td><td>NA</td><td>34.06506</td><td>POLYGON ((-49.30124 -1.7029...</td><td>2020-11</td></tr>\n",
       "\t<tr><td>1504422</td><td>Marituba             </td><td>PA</td><td>  103.214</td><td>NA</td><td>33.53814</td><td>POLYGON ((-48.3207 -1.32335...</td><td>2020-11</td></tr>\n",
       "\t<tr><td>1504604</td><td>Mocajuba             </td><td>PA</td><td>  871.171</td><td>NA</td><td>34.62556</td><td>POLYGON ((-49.20685 -2.4570...</td><td>2020-11</td></tr>\n",
       "\t<tr><td>1504703</td><td>Moju                 </td><td>PA</td><td> 9094.139</td><td>NA</td><td>35.10659</td><td>POLYGON ((-48.43821 -1.6590...</td><td>2020-11</td></tr>\n",
       "\t<tr><td>1505064</td><td>Novo Repartimento    </td><td>PA</td><td>15398.723</td><td> 1</td><td>33.02206</td><td>POLYGON ((-50.10036 -4.0816...</td><td>2020-11</td></tr>\n",
       "\t<tr><td>1505205</td><td>Oeiras do Pará       </td><td>PA</td><td> 3852.291</td><td>NA</td><td>34.39911</td><td>POLYGON ((-49.85197 -1.8324...</td><td>2020-11</td></tr>\n",
       "\t<tr><td>1506351</td><td>Santa Bárbara do Pará</td><td>PA</td><td>  278.154</td><td>NA</td><td>32.68333</td><td>POLYGON ((-48.22541 -1.1080...</td><td>2020-11</td></tr>\n",
       "\t<tr><td>1507953</td><td>Tailândia            </td><td>PA</td><td> 4430.477</td><td> 1</td><td>35.66518</td><td>POLYGON ((-48.68877 -2.4189...</td><td>2020-11</td></tr>\n",
       "\t<tr><td>1508100</td><td>Tucuruí              </td><td>PA</td><td> 2084.289</td><td> 1</td><td>33.37961</td><td>POLYGON ((-49.59761 -3.5131...</td><td>2020-11</td></tr>\n",
       "</tbody>\n",
       "</table>\n",
       "</li>\n",
       "</ol>\n"
      ],
      "text/latex": [
       "\\begin{enumerate}\n",
       "\\item A data.frame: 21 × 8\n",
       "\\begin{tabular}{llllllll}\n",
       " CD\\_MUN & NM\\_MUN & SIGLA & AREA\\_KM2 & cod & value & geometry & year\\_month\\\\\n",
       " <chr> & <chr> & <chr> & <dbl> & <dbl> & <dbl> & <POLYGON {[}°{]}> & <chr>\\\\\n",
       "\\hline\n",
       "\t 1500107 & Abaetetuba            & PA &  1610.654 & NA & 32.27164 & POLYGON ((-48.83139 -1.5635... & 2020-12\\\\\n",
       "\t 1500800 & Ananindeua            & PA &   190.581 & NA & 31.91007 & POLYGON ((-48.33466 -1.2398... & 2020-12\\\\\n",
       "\t 1501105 & Bagre                 & PA &  4397.321 & NA & 32.65541 & POLYGON ((-50.29255 -1.8063... & 2020-12\\\\\n",
       "\t 1501204 & Baião                 & PA &  3759.834 & NA & 32.88814 & POLYGON ((-49.48643 -2.6631... & 2020-12\\\\\n",
       "\t 1501303 & Barcarena             & PA &  1310.338 & NA & 31.93690 & POLYGON ((-48.4695 -1.59545... & 2020-12\\\\\n",
       "\t 1501402 & Belém                 & PA &  1059.466 & NA & 31.35751 & POLYGON ((-48.35304 -1.2210... & 2020-12\\\\\n",
       "\t 1501501 & Benevides             & PA &   187.826 & NA & 32.35474 & POLYGON ((-48.33104 -1.2569... & 2020-12\\\\\n",
       "\t 1501782 & Breu Branco           & PA &  3941.904 &  1 & 32.63459 & POLYGON ((-48.92561 -3.4129... & 2020-12\\\\\n",
       "\t 1502103 & Cametá                & PA &  3081.367 & NA & 32.47707 & POLYGON ((-49.40003 -1.9237... & 2020-12\\\\\n",
       "\t 1503093 & Goianésia do Pará     & PA &  7023.948 &  1 & 32.54176 & POLYGON ((-49.16052 -3.5384... & 2020-12\\\\\n",
       "\t 1503309 & Igarapé-Miri          & PA &  1996.790 & NA & 32.67108 & POLYGON ((-49.09434 -1.8128... & 2020-12\\\\\n",
       "\t 1503804 & Jacundá               & PA &  2008.315 &  1 & 31.44184 & POLYGON ((-49.0436 -4.31954... & 2020-12\\\\\n",
       "\t 1504000 & Limoeiro do Ajuru     & PA &  1490.186 & NA & 31.54980 & POLYGON ((-49.30124 -1.7029... & 2020-12\\\\\n",
       "\t 1504422 & Marituba              & PA &   103.214 & NA & 32.17996 & POLYGON ((-48.3207 -1.32335... & 2020-12\\\\\n",
       "\t 1504604 & Mocajuba              & PA &   871.171 & NA & 33.09727 & POLYGON ((-49.20685 -2.4570... & 2020-12\\\\\n",
       "\t 1504703 & Moju                  & PA &  9094.139 & NA & 33.41370 & POLYGON ((-48.43821 -1.6590... & 2020-12\\\\\n",
       "\t 1505064 & Novo Repartimento     & PA & 15398.723 &  1 & 31.60329 & POLYGON ((-50.10036 -4.0816... & 2020-12\\\\\n",
       "\t 1505205 & Oeiras do Pará        & PA &  3852.291 & NA & 32.58659 & POLYGON ((-49.85197 -1.8324... & 2020-12\\\\\n",
       "\t 1506351 & Santa Bárbara do Pará & PA &   278.154 & NA & 31.82974 & POLYGON ((-48.22541 -1.1080... & 2020-12\\\\\n",
       "\t 1507953 & Tailândia             & PA &  4430.477 &  1 & 33.34077 & POLYGON ((-48.68877 -2.4189... & 2020-12\\\\\n",
       "\t 1508100 & Tucuruí               & PA &  2084.289 &  1 & 31.40846 & POLYGON ((-49.59761 -3.5131... & 2020-12\\\\\n",
       "\\end{tabular}\n",
       "\n",
       "\\item A data.frame: 21 × 8\n",
       "\\begin{tabular}{llllllll}\n",
       " CD\\_MUN & NM\\_MUN & SIGLA & AREA\\_KM2 & cod & value & geometry & year\\_month\\\\\n",
       " <chr> & <chr> & <chr> & <dbl> & <dbl> & <dbl> & <POLYGON {[}°{]}> & <chr>\\\\\n",
       "\\hline\n",
       "\t 1500107 & Abaetetuba            & PA &  1610.654 & NA & 33.64498 & POLYGON ((-48.83139 -1.5635... & 2020-11\\\\\n",
       "\t 1500800 & Ananindeua            & PA &   190.581 & NA & 33.13511 & POLYGON ((-48.33466 -1.2398... & 2020-11\\\\\n",
       "\t 1501105 & Bagre                 & PA &  4397.321 & NA & 34.20501 & POLYGON ((-50.29255 -1.8063... & 2020-11\\\\\n",
       "\t 1501204 & Baião                 & PA &  3759.834 & NA & 34.38894 & POLYGON ((-49.48643 -2.6631... & 2020-11\\\\\n",
       "\t 1501303 & Barcarena             & PA &  1310.338 & NA & 33.33461 & POLYGON ((-48.4695 -1.59545... & 2020-11\\\\\n",
       "\t 1501402 & Belém                 & PA &  1059.466 & NA & 31.78227 & POLYGON ((-48.35304 -1.2210... & 2020-11\\\\\n",
       "\t 1501501 & Benevides             & PA &   187.826 & NA & 33.69630 & POLYGON ((-48.33104 -1.2569... & 2020-11\\\\\n",
       "\t 1501782 & Breu Branco           & PA &  3941.904 &  1 & 34.14983 & POLYGON ((-48.92561 -3.4129... & 2020-11\\\\\n",
       "\t 1502103 & Cametá                & PA &  3081.367 & NA & 34.47341 & POLYGON ((-49.40003 -1.9237... & 2020-11\\\\\n",
       "\t 1503093 & Goianésia do Pará     & PA &  7023.948 &  1 & 34.31977 & POLYGON ((-49.16052 -3.5384... & 2020-11\\\\\n",
       "\t 1503309 & Igarapé-Miri          & PA &  1996.790 & NA & 34.24558 & POLYGON ((-49.09434 -1.8128... & 2020-11\\\\\n",
       "\t 1503804 & Jacundá               & PA &  2008.315 &  1 & 33.47277 & POLYGON ((-49.0436 -4.31954... & 2020-11\\\\\n",
       "\t 1504000 & Limoeiro do Ajuru     & PA &  1490.186 & NA & 34.06506 & POLYGON ((-49.30124 -1.7029... & 2020-11\\\\\n",
       "\t 1504422 & Marituba              & PA &   103.214 & NA & 33.53814 & POLYGON ((-48.3207 -1.32335... & 2020-11\\\\\n",
       "\t 1504604 & Mocajuba              & PA &   871.171 & NA & 34.62556 & POLYGON ((-49.20685 -2.4570... & 2020-11\\\\\n",
       "\t 1504703 & Moju                  & PA &  9094.139 & NA & 35.10659 & POLYGON ((-48.43821 -1.6590... & 2020-11\\\\\n",
       "\t 1505064 & Novo Repartimento     & PA & 15398.723 &  1 & 33.02206 & POLYGON ((-50.10036 -4.0816... & 2020-11\\\\\n",
       "\t 1505205 & Oeiras do Pará        & PA &  3852.291 & NA & 34.39911 & POLYGON ((-49.85197 -1.8324... & 2020-11\\\\\n",
       "\t 1506351 & Santa Bárbara do Pará & PA &   278.154 & NA & 32.68333 & POLYGON ((-48.22541 -1.1080... & 2020-11\\\\\n",
       "\t 1507953 & Tailândia             & PA &  4430.477 &  1 & 35.66518 & POLYGON ((-48.68877 -2.4189... & 2020-11\\\\\n",
       "\t 1508100 & Tucuruí               & PA &  2084.289 &  1 & 33.37961 & POLYGON ((-49.59761 -3.5131... & 2020-11\\\\\n",
       "\\end{tabular}\n",
       "\n",
       "\\end{enumerate}\n"
      ],
      "text/markdown": [
       "1. \n",
       "A data.frame: 21 × 8\n",
       "\n",
       "| CD_MUN &lt;chr&gt; | NM_MUN &lt;chr&gt; | SIGLA &lt;chr&gt; | AREA_KM2 &lt;dbl&gt; | cod &lt;dbl&gt; | value &lt;dbl&gt; | geometry &lt;POLYGON [°]&gt; | year_month &lt;chr&gt; |\n",
       "|---|---|---|---|---|---|---|---|\n",
       "| 1500107 | Abaetetuba            | PA |  1610.654 | NA | 32.27164 | POLYGON ((-48.83139 -1.5635... | 2020-12 |\n",
       "| 1500800 | Ananindeua            | PA |   190.581 | NA | 31.91007 | POLYGON ((-48.33466 -1.2398... | 2020-12 |\n",
       "| 1501105 | Bagre                 | PA |  4397.321 | NA | 32.65541 | POLYGON ((-50.29255 -1.8063... | 2020-12 |\n",
       "| 1501204 | Baião                 | PA |  3759.834 | NA | 32.88814 | POLYGON ((-49.48643 -2.6631... | 2020-12 |\n",
       "| 1501303 | Barcarena             | PA |  1310.338 | NA | 31.93690 | POLYGON ((-48.4695 -1.59545... | 2020-12 |\n",
       "| 1501402 | Belém                 | PA |  1059.466 | NA | 31.35751 | POLYGON ((-48.35304 -1.2210... | 2020-12 |\n",
       "| 1501501 | Benevides             | PA |   187.826 | NA | 32.35474 | POLYGON ((-48.33104 -1.2569... | 2020-12 |\n",
       "| 1501782 | Breu Branco           | PA |  3941.904 |  1 | 32.63459 | POLYGON ((-48.92561 -3.4129... | 2020-12 |\n",
       "| 1502103 | Cametá                | PA |  3081.367 | NA | 32.47707 | POLYGON ((-49.40003 -1.9237... | 2020-12 |\n",
       "| 1503093 | Goianésia do Pará     | PA |  7023.948 |  1 | 32.54176 | POLYGON ((-49.16052 -3.5384... | 2020-12 |\n",
       "| 1503309 | Igarapé-Miri          | PA |  1996.790 | NA | 32.67108 | POLYGON ((-49.09434 -1.8128... | 2020-12 |\n",
       "| 1503804 | Jacundá               | PA |  2008.315 |  1 | 31.44184 | POLYGON ((-49.0436 -4.31954... | 2020-12 |\n",
       "| 1504000 | Limoeiro do Ajuru     | PA |  1490.186 | NA | 31.54980 | POLYGON ((-49.30124 -1.7029... | 2020-12 |\n",
       "| 1504422 | Marituba              | PA |   103.214 | NA | 32.17996 | POLYGON ((-48.3207 -1.32335... | 2020-12 |\n",
       "| 1504604 | Mocajuba              | PA |   871.171 | NA | 33.09727 | POLYGON ((-49.20685 -2.4570... | 2020-12 |\n",
       "| 1504703 | Moju                  | PA |  9094.139 | NA | 33.41370 | POLYGON ((-48.43821 -1.6590... | 2020-12 |\n",
       "| 1505064 | Novo Repartimento     | PA | 15398.723 |  1 | 31.60329 | POLYGON ((-50.10036 -4.0816... | 2020-12 |\n",
       "| 1505205 | Oeiras do Pará        | PA |  3852.291 | NA | 32.58659 | POLYGON ((-49.85197 -1.8324... | 2020-12 |\n",
       "| 1506351 | Santa Bárbara do Pará | PA |   278.154 | NA | 31.82974 | POLYGON ((-48.22541 -1.1080... | 2020-12 |\n",
       "| 1507953 | Tailândia             | PA |  4430.477 |  1 | 33.34077 | POLYGON ((-48.68877 -2.4189... | 2020-12 |\n",
       "| 1508100 | Tucuruí               | PA |  2084.289 |  1 | 31.40846 | POLYGON ((-49.59761 -3.5131... | 2020-12 |\n",
       "\n",
       "\n",
       "2. \n",
       "A data.frame: 21 × 8\n",
       "\n",
       "| CD_MUN &lt;chr&gt; | NM_MUN &lt;chr&gt; | SIGLA &lt;chr&gt; | AREA_KM2 &lt;dbl&gt; | cod &lt;dbl&gt; | value &lt;dbl&gt; | geometry &lt;POLYGON [°]&gt; | year_month &lt;chr&gt; |\n",
       "|---|---|---|---|---|---|---|---|\n",
       "| 1500107 | Abaetetuba            | PA |  1610.654 | NA | 33.64498 | POLYGON ((-48.83139 -1.5635... | 2020-11 |\n",
       "| 1500800 | Ananindeua            | PA |   190.581 | NA | 33.13511 | POLYGON ((-48.33466 -1.2398... | 2020-11 |\n",
       "| 1501105 | Bagre                 | PA |  4397.321 | NA | 34.20501 | POLYGON ((-50.29255 -1.8063... | 2020-11 |\n",
       "| 1501204 | Baião                 | PA |  3759.834 | NA | 34.38894 | POLYGON ((-49.48643 -2.6631... | 2020-11 |\n",
       "| 1501303 | Barcarena             | PA |  1310.338 | NA | 33.33461 | POLYGON ((-48.4695 -1.59545... | 2020-11 |\n",
       "| 1501402 | Belém                 | PA |  1059.466 | NA | 31.78227 | POLYGON ((-48.35304 -1.2210... | 2020-11 |\n",
       "| 1501501 | Benevides             | PA |   187.826 | NA | 33.69630 | POLYGON ((-48.33104 -1.2569... | 2020-11 |\n",
       "| 1501782 | Breu Branco           | PA |  3941.904 |  1 | 34.14983 | POLYGON ((-48.92561 -3.4129... | 2020-11 |\n",
       "| 1502103 | Cametá                | PA |  3081.367 | NA | 34.47341 | POLYGON ((-49.40003 -1.9237... | 2020-11 |\n",
       "| 1503093 | Goianésia do Pará     | PA |  7023.948 |  1 | 34.31977 | POLYGON ((-49.16052 -3.5384... | 2020-11 |\n",
       "| 1503309 | Igarapé-Miri          | PA |  1996.790 | NA | 34.24558 | POLYGON ((-49.09434 -1.8128... | 2020-11 |\n",
       "| 1503804 | Jacundá               | PA |  2008.315 |  1 | 33.47277 | POLYGON ((-49.0436 -4.31954... | 2020-11 |\n",
       "| 1504000 | Limoeiro do Ajuru     | PA |  1490.186 | NA | 34.06506 | POLYGON ((-49.30124 -1.7029... | 2020-11 |\n",
       "| 1504422 | Marituba              | PA |   103.214 | NA | 33.53814 | POLYGON ((-48.3207 -1.32335... | 2020-11 |\n",
       "| 1504604 | Mocajuba              | PA |   871.171 | NA | 34.62556 | POLYGON ((-49.20685 -2.4570... | 2020-11 |\n",
       "| 1504703 | Moju                  | PA |  9094.139 | NA | 35.10659 | POLYGON ((-48.43821 -1.6590... | 2020-11 |\n",
       "| 1505064 | Novo Repartimento     | PA | 15398.723 |  1 | 33.02206 | POLYGON ((-50.10036 -4.0816... | 2020-11 |\n",
       "| 1505205 | Oeiras do Pará        | PA |  3852.291 | NA | 34.39911 | POLYGON ((-49.85197 -1.8324... | 2020-11 |\n",
       "| 1506351 | Santa Bárbara do Pará | PA |   278.154 | NA | 32.68333 | POLYGON ((-48.22541 -1.1080... | 2020-11 |\n",
       "| 1507953 | Tailândia             | PA |  4430.477 |  1 | 35.66518 | POLYGON ((-48.68877 -2.4189... | 2020-11 |\n",
       "| 1508100 | Tucuruí               | PA |  2084.289 |  1 | 33.37961 | POLYGON ((-49.59761 -3.5131... | 2020-11 |\n",
       "\n",
       "\n",
       "\n",
       "\n"
      ],
      "text/plain": [
       "[[1]]\n",
       "    CD_MUN                NM_MUN SIGLA  AREA_KM2 cod    value\n",
       "1  1500107            Abaetetuba    PA  1610.654  NA 32.27164\n",
       "2  1500800            Ananindeua    PA   190.581  NA 31.91007\n",
       "3  1501105                 Bagre    PA  4397.321  NA 32.65541\n",
       "4  1501204                 Baião    PA  3759.834  NA 32.88814\n",
       "5  1501303             Barcarena    PA  1310.338  NA 31.93690\n",
       "6  1501402                 Belém    PA  1059.466  NA 31.35751\n",
       "7  1501501             Benevides    PA   187.826  NA 32.35474\n",
       "8  1501782           Breu Branco    PA  3941.904   1 32.63459\n",
       "9  1502103                Cametá    PA  3081.367  NA 32.47707\n",
       "10 1503093     Goianésia do Pará    PA  7023.948   1 32.54176\n",
       "11 1503309          Igarapé-Miri    PA  1996.790  NA 32.67108\n",
       "12 1503804               Jacundá    PA  2008.315   1 31.44184\n",
       "13 1504000     Limoeiro do Ajuru    PA  1490.186  NA 31.54980\n",
       "14 1504422              Marituba    PA   103.214  NA 32.17996\n",
       "15 1504604              Mocajuba    PA   871.171  NA 33.09727\n",
       "16 1504703                  Moju    PA  9094.139  NA 33.41370\n",
       "17 1505064     Novo Repartimento    PA 15398.723   1 31.60329\n",
       "18 1505205        Oeiras do Pará    PA  3852.291  NA 32.58659\n",
       "19 1506351 Santa Bárbara do Pará    PA   278.154  NA 31.82974\n",
       "20 1507953             Tailândia    PA  4430.477   1 33.34077\n",
       "21 1508100               Tucuruí    PA  2084.289   1 31.40846\n",
       "                         geometry year_month\n",
       "1  POLYGON ((-48.83139 -1.5635...    2020-12\n",
       "2  POLYGON ((-48.33466 -1.2398...    2020-12\n",
       "3  POLYGON ((-50.29255 -1.8063...    2020-12\n",
       "4  POLYGON ((-49.48643 -2.6631...    2020-12\n",
       "5  POLYGON ((-48.4695 -1.59545...    2020-12\n",
       "6  POLYGON ((-48.35304 -1.2210...    2020-12\n",
       "7  POLYGON ((-48.33104 -1.2569...    2020-12\n",
       "8  POLYGON ((-48.92561 -3.4129...    2020-12\n",
       "9  POLYGON ((-49.40003 -1.9237...    2020-12\n",
       "10 POLYGON ((-49.16052 -3.5384...    2020-12\n",
       "11 POLYGON ((-49.09434 -1.8128...    2020-12\n",
       "12 POLYGON ((-49.0436 -4.31954...    2020-12\n",
       "13 POLYGON ((-49.30124 -1.7029...    2020-12\n",
       "14 POLYGON ((-48.3207 -1.32335...    2020-12\n",
       "15 POLYGON ((-49.20685 -2.4570...    2020-12\n",
       "16 POLYGON ((-48.43821 -1.6590...    2020-12\n",
       "17 POLYGON ((-50.10036 -4.0816...    2020-12\n",
       "18 POLYGON ((-49.85197 -1.8324...    2020-12\n",
       "19 POLYGON ((-48.22541 -1.1080...    2020-12\n",
       "20 POLYGON ((-48.68877 -2.4189...    2020-12\n",
       "21 POLYGON ((-49.59761 -3.5131...    2020-12\n",
       "\n",
       "[[2]]\n",
       "    CD_MUN                NM_MUN SIGLA  AREA_KM2 cod    value\n",
       "1  1500107            Abaetetuba    PA  1610.654  NA 33.64498\n",
       "2  1500800            Ananindeua    PA   190.581  NA 33.13511\n",
       "3  1501105                 Bagre    PA  4397.321  NA 34.20501\n",
       "4  1501204                 Baião    PA  3759.834  NA 34.38894\n",
       "5  1501303             Barcarena    PA  1310.338  NA 33.33461\n",
       "6  1501402                 Belém    PA  1059.466  NA 31.78227\n",
       "7  1501501             Benevides    PA   187.826  NA 33.69630\n",
       "8  1501782           Breu Branco    PA  3941.904   1 34.14983\n",
       "9  1502103                Cametá    PA  3081.367  NA 34.47341\n",
       "10 1503093     Goianésia do Pará    PA  7023.948   1 34.31977\n",
       "11 1503309          Igarapé-Miri    PA  1996.790  NA 34.24558\n",
       "12 1503804               Jacundá    PA  2008.315   1 33.47277\n",
       "13 1504000     Limoeiro do Ajuru    PA  1490.186  NA 34.06506\n",
       "14 1504422              Marituba    PA   103.214  NA 33.53814\n",
       "15 1504604              Mocajuba    PA   871.171  NA 34.62556\n",
       "16 1504703                  Moju    PA  9094.139  NA 35.10659\n",
       "17 1505064     Novo Repartimento    PA 15398.723   1 33.02206\n",
       "18 1505205        Oeiras do Pará    PA  3852.291  NA 34.39911\n",
       "19 1506351 Santa Bárbara do Pará    PA   278.154  NA 32.68333\n",
       "20 1507953             Tailândia    PA  4430.477   1 35.66518\n",
       "21 1508100               Tucuruí    PA  2084.289   1 33.37961\n",
       "                         geometry year_month\n",
       "1  POLYGON ((-48.83139 -1.5635...    2020-11\n",
       "2  POLYGON ((-48.33466 -1.2398...    2020-11\n",
       "3  POLYGON ((-50.29255 -1.8063...    2020-11\n",
       "4  POLYGON ((-49.48643 -2.6631...    2020-11\n",
       "5  POLYGON ((-48.4695 -1.59545...    2020-11\n",
       "6  POLYGON ((-48.35304 -1.2210...    2020-11\n",
       "7  POLYGON ((-48.33104 -1.2569...    2020-11\n",
       "8  POLYGON ((-48.92561 -3.4129...    2020-11\n",
       "9  POLYGON ((-49.40003 -1.9237...    2020-11\n",
       "10 POLYGON ((-49.16052 -3.5384...    2020-11\n",
       "11 POLYGON ((-49.09434 -1.8128...    2020-11\n",
       "12 POLYGON ((-49.0436 -4.31954...    2020-11\n",
       "13 POLYGON ((-49.30124 -1.7029...    2020-11\n",
       "14 POLYGON ((-48.3207 -1.32335...    2020-11\n",
       "15 POLYGON ((-49.20685 -2.4570...    2020-11\n",
       "16 POLYGON ((-48.43821 -1.6590...    2020-11\n",
       "17 POLYGON ((-50.10036 -4.0816...    2020-11\n",
       "18 POLYGON ((-49.85197 -1.8324...    2020-11\n",
       "19 POLYGON ((-48.22541 -1.1080...    2020-11\n",
       "20 POLYGON ((-48.68877 -2.4189...    2020-11\n",
       "21 POLYGON ((-49.59761 -3.5131...    2020-11\n"
      ]
     },
     "metadata": {},
     "output_type": "display_data"
    }
   ],
   "source": [
    "feature_to_geojson_csv <- function(feature) {\n",
    "  datetime <- feature$properties$datetime\n",
    "  geojson_href <- feature$assets$geojson$href\n",
    "  \n",
    "  as.data.frame(st_read(geojson_href)) %>%\n",
    "    mutate(year_month = format(as.Date(datetime), \"%Y-%m\"))\n",
    "}\n",
    "\n",
    "dfs <- lapply(X = stac_search$features, FUN = feature_to_geojson_csv)\n",
    "dfs[1:2]"
   ]
  },
  {
   "cell_type": "markdown",
   "metadata": {},
   "source": [
    "### 3.4 Rbind lists of dataframes in one big dataframe"
   ]
  },
  {
   "cell_type": "markdown",
   "metadata": {},
   "source": [
    "##### If Health Data:"
   ]
  },
  {
   "cell_type": "code",
   "execution_count": 21,
   "metadata": {
    "vscode": {
     "languageId": "r"
    }
   },
   "outputs": [
    {
     "data": {
      "text/html": [
       "<style>\n",
       ".list-inline {list-style: none; margin:0; padding: 0}\n",
       ".list-inline>li {display: inline-block}\n",
       ".list-inline>li:not(:last-child)::after {content: \"\\00b7\"; padding: 0 .5ex}\n",
       "</style>\n",
       "<ol class=list-inline><li>252</li><li>3</li></ol>\n"
      ],
      "text/latex": [
       "\\begin{enumerate*}\n",
       "\\item 252\n",
       "\\item 3\n",
       "\\end{enumerate*}\n"
      ],
      "text/markdown": [
       "1. 252\n",
       "2. 3\n",
       "\n",
       "\n"
      ],
      "text/plain": [
       "[1] 252   3"
      ]
     },
     "metadata": {},
     "output_type": "display_data"
    },
    {
     "data": {
      "text/html": [
       "<table class=\"dataframe\">\n",
       "<caption>A data.frame: 6 × 3</caption>\n",
       "<thead>\n",
       "\t<tr><th></th><th scope=col>cd_mun</th><th scope=col>year_month</th><th scope=col>temperature</th></tr>\n",
       "\t<tr><th></th><th scope=col>&lt;chr&gt;</th><th scope=col>&lt;chr&gt;</th><th scope=col>&lt;dbl&gt;</th></tr>\n",
       "</thead>\n",
       "<tbody>\n",
       "\t<tr><th scope=row>1</th><td>1500107</td><td>2020-12</td><td>32.27164</td></tr>\n",
       "\t<tr><th scope=row>2</th><td>1500800</td><td>2020-12</td><td>31.91007</td></tr>\n",
       "\t<tr><th scope=row>3</th><td>1501105</td><td>2020-12</td><td>32.65541</td></tr>\n",
       "\t<tr><th scope=row>4</th><td>1501204</td><td>2020-12</td><td>32.88814</td></tr>\n",
       "\t<tr><th scope=row>5</th><td>1501303</td><td>2020-12</td><td>31.93690</td></tr>\n",
       "\t<tr><th scope=row>6</th><td>1501402</td><td>2020-12</td><td>31.35751</td></tr>\n",
       "</tbody>\n",
       "</table>\n"
      ],
      "text/latex": [
       "A data.frame: 6 × 3\n",
       "\\begin{tabular}{r|lll}\n",
       "  & cd\\_mun & year\\_month & temperature\\\\\n",
       "  & <chr> & <chr> & <dbl>\\\\\n",
       "\\hline\n",
       "\t1 & 1500107 & 2020-12 & 32.27164\\\\\n",
       "\t2 & 1500800 & 2020-12 & 31.91007\\\\\n",
       "\t3 & 1501105 & 2020-12 & 32.65541\\\\\n",
       "\t4 & 1501204 & 2020-12 & 32.88814\\\\\n",
       "\t5 & 1501303 & 2020-12 & 31.93690\\\\\n",
       "\t6 & 1501402 & 2020-12 & 31.35751\\\\\n",
       "\\end{tabular}\n"
      ],
      "text/markdown": [
       "\n",
       "A data.frame: 6 × 3\n",
       "\n",
       "| <!--/--> | cd_mun &lt;chr&gt; | year_month &lt;chr&gt; | temperature &lt;dbl&gt; |\n",
       "|---|---|---|---|\n",
       "| 1 | 1500107 | 2020-12 | 32.27164 |\n",
       "| 2 | 1500800 | 2020-12 | 31.91007 |\n",
       "| 3 | 1501105 | 2020-12 | 32.65541 |\n",
       "| 4 | 1501204 | 2020-12 | 32.88814 |\n",
       "| 5 | 1501303 | 2020-12 | 31.93690 |\n",
       "| 6 | 1501402 | 2020-12 | 31.35751 |\n",
       "\n"
      ],
      "text/plain": [
       "  cd_mun  year_month temperature\n",
       "1 1500107 2020-12    32.27164   \n",
       "2 1500800 2020-12    31.91007   \n",
       "3 1501105 2020-12    32.65541   \n",
       "4 1501204 2020-12    32.88814   \n",
       "5 1501303 2020-12    31.93690   \n",
       "6 1501402 2020-12    31.35751   "
      ]
     },
     "metadata": {},
     "output_type": "display_data"
    }
   ],
   "source": [
    "# DATA_TYPE <- \"health\"\n",
    "DATA_TYPE <- \"climate\"\n",
    "\n",
    "# COLUMN_NAME <- \"dengue\"\n",
    "# COLUMN_NAME <- \"zika\"\n",
    "# COLUMN_NAME <- \"precipitation\"\n",
    "COLUMN_NAME <- \"temperature\"\n",
    "\n",
    "# ------------------------------------\n",
    "\n",
    "# rbind dataframes\n",
    "rbind_dfs <- do.call(rbind, dfs)\n",
    "\n",
    "# Select columns and rename if data is climate or health\n",
    "if (DATA_TYPE == \"health\") {\n",
    "  final_df <- rbind_dfs %>%\n",
    "    select(cod, year_month, value) %>%\n",
    "    rename(cd_mun = cod, !!COLUMN_NAME := value)\n",
    "} else if (DATA_TYPE == \"climate\") {\n",
    "  final_df <- rbind_dfs %>%\n",
    "    select(CD_MUN, year_month, value) %>%\n",
    "    rename(cd_mun = CD_MUN, !!COLUMN_NAME := value)\n",
    "}\n",
    "\n",
    "dim(final_df)\n",
    "head(final_df)"
   ]
  },
  {
   "cell_type": "markdown",
   "metadata": {},
   "source": [
    "### 3.5 Save data"
   ]
  },
  {
   "cell_type": "code",
   "execution_count": 9,
   "metadata": {
    "vscode": {
     "languageId": "r"
    }
   },
   "outputs": [],
   "source": [
    "FINAL_CSV_NAME <- \"data_denguecases_months_2020.csv\"\n",
    "\n",
    "write.csv(final_df, FINAL_CSV_NAME, row.names = FALSE)"
   ]
  },
  {
   "cell_type": "code",
   "execution_count": null,
   "metadata": {
    "vscode": {
     "languageId": "r"
    }
   },
   "outputs": [],
   "source": []
  }
 ],
 "metadata": {
  "kernelspec": {
   "display_name": "R",
   "language": "R",
   "name": "ir"
  },
  "language_info": {
   "codemirror_mode": "r",
   "file_extension": ".r",
   "mimetype": "text/x-r-source",
   "name": "R",
   "pygments_lexer": "r",
   "version": "4.1.2"
  }
 },
 "nbformat": 4,
 "nbformat_minor": 2
}
