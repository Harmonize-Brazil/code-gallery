{
 "cells": [
  {
   "cell_type": "markdown",
   "metadata": {},
   "source": [
    "<img src=\"https://www.gov.br/mcti/pt-br/composicao/rede-mcti/INPE.png/@@images/068a9374-c0e5-4199-a707-7db5789dba55.png\" align=\"left\" style=\"height: 65px\" height=\"65\"/>\n",
    "<!-- https://www.gov.br/mcti/pt-br/composicao/rede-mcti/instituto-nacional-de-pesquisas-espaciais -->\n",
    "<img src=\"https://earth.bsc.es/harmonize/lib/exe/fetch.php?h=250&crop=0&tok=cfb750&media=wiki:logo.png\" align=\"right\" style=\"height: 65px\" height=\"65\"/>\n",
    "\n",
    "<h1 style=\"color:#274ad4; text-align: center\">HarmonizeDS</h1>\n",
    "<h3 style=\"color:#274ad4; text-align: center\">Access Harmonize dataset using OGC standards at Geoserver</h3>\n",
    "<hr style=\"border:2px solid #274ad4;\">\n",
    "<!-- <hr style=\"border:2px solid #274ad4;\"> -->\n",
    "<br/>\n",
    "\n",
    "<div style=\"text-align: center;font-size: 90%;\">\n",
    "    <a href=\"https://nbviewer.jupyter.org/github/Harmonize-Brazil/code-gallery/blob/main/jupyter/events/2025-Infodengue-Harmonize_INPE/Harmonize_dataset_using_OGC_standards.ipynb\"><img src=\"https://raw.githubusercontent.com/jupyter/design/master/logos/Badges/nbviewer_badge.svg\" ></a>\n",
    "    <br/><br/>\n",
    "   <!-- Adeline  -->\n",
    "    Adeline Marinho Maciel<sup><a href=\"https://orcid.org/0000-0002-1467-6488\" target=\"_blank\" rel=\"noopener noreferrer\"><img src=\"https://orcid.filecamp.com/static/thumbs/folders/qLJ1tuei4m6ugC3g.png\" width=\"16\" alt=\"ORCID iD\" style=\"vertical-align: text-bottom;\"/></a></sup>;\n",
    "    <!-- Ana Paula  -->\n",
    "    Ana Paula Dal'Asta<sup><a href=\"https://orcid.org/0000-0002-1286-9067\" target=\"_blank\" rel=\"noopener noreferrer\"><img src=\"https://orcid.filecamp.com/static/thumbs/folders/qLJ1tuei4m6ugC3g.png\" width=\"16\" alt=\"ORCID iD\" style=\"vertical-align: text-bottom;\"/></a></sup>;\n",
    "     <!-- Gabriel  -->\n",
    "    Gabriel Sansigolo<sup><a href=\"https://orcid.org/0000-0003-0789-5858\" target=\"_blank\" rel=\"noopener noreferrer\"><img src=\"https://orcid.filecamp.com/static/thumbs/folders/qLJ1tuei4m6ugC3g.png\" width=\"16\" alt=\"ORCID iD\" style=\"vertical-align: text-bottom;\"/></a></sup>;\n",
    "     <!-- Luana  -->\n",
    "    Luana Becker da Luz<sup><a href=\"https://orcid.org/0000-0003-2535-7658\" target=\"_blank\" rel=\"noopener noreferrer\"><img src=\"https://orcid.filecamp.com/static/thumbs/folders/qLJ1tuei4m6ugC3g.png\" width=\"16\" alt=\"ORCID iD\" style=\"vertical-align: text-bottom;\"/></a></sup>;\n",
    "    <!-- Marcos  -->\n",
    "    Marcos L. Rodrigues<sup><a href=\"https://orcid.org/0000-0002-9199-6928\" target=\"_blank\" rel=\"noopener noreferrer\"><img src=\"https://orcid.filecamp.com/static/thumbs/folders/qLJ1tuei4m6ugC3g.png\" width=\"16\"alt=\"ORCID iD\" style=\"vertical-align: text-bottom;\"/></a></sup>;\n",
    "    <!-- Yuri -->\n",
    "    Yuri Domaradzki Moreira Nunes <sup><a href=\"https://orcid.org/0009-0007-2829-4345\" target=\"_blank\" rel=\"noopener noreferrer\"><img src=\"https://orcid.filecamp.com/static/thumbs/folders/qLJ1tuei4m6ugC3g.png\" width=\"16\" alt=\"ORCID iD\" style=\"vertical-align: text-bottom;\"/></a></sup>      \n",
    "    <br/><br/>\n",
    "    Earth Observation and Geoinformatics Division, National Institute for Space Research (INPE)\n",
    "    <br/>\n",
    "    Avenida dos Astronautas, 1758, Jardim da Granja, São José dos Campos, SP 12227-010, Brazil\n",
    "    <br/><br/>\n",
    "    Contact: \n",
    "     <a href=\"mailto:adelinemaciel22@gmail.com\">adelinemaciel22@gmail.com</a>;\n",
    "     <a href=\"mailto:apdalasta@gmail.com\">apdalasta@gmail.com</a>;\n",
    "    <a href=\"mailto:gabrielsansigolo@gmail.com\">gabrielsansigolo@gmail.com</a>;\n",
    "    <a href=\"mailto:luanabeckerdaluz@gmail.com\">luanabeckerdaluz@gmail.com</a>;\n",
    "    <a href=\"mailto:marcos.mlr@gmail.com\">marcos.mlr@gmail.com</a>;\n",
    "    <a href=\"mailto:yuridomaradzki@gmail.com\">yuridomaradzki@gmail.com</a>\n",
    "    <br/><br/>\n",
    "    Last Update: June 9, 2025\n",
    "    <br/><br/>\n",
    "    <div style=\"width: 60%; margin: auto\">\n",
    "        <div style=\"text-align: center; border-style: solid; border-color: #0077b9; border-width: 1px; padding: 10px;\">\n",
    "            <b>Abstract.</b> This Jupyter Notebook gives an overview of how to use the Python package HarmonizeDS developed by Fabiana Ziotti (BDC Favelas), which uses Web Coverage Service (WCS) and Web Features Service (WFS) standards issued by the Open Geospatial Consortium (OGC) to discover and access the Harmonize data products from the Earth Observation Data Cubes tuned for Health Response Systems (EODCtHRS), a <a href=\"https://harmonize-tools.org\" target=\"_blank\">HARMONIZE project</a> component. This notebook was adapted from <a href=\"https://github.com/Harmonize-Brazil/harmonize-ds/tree/main/examples\" target=\"_blank\">HarmonizeDS</a> examples available at the GitHub repository of <a href=\"https://github.com/Harmonize-Brazil\" target=\"_blank\">HARMONIZE Brazil</a>.\n",
    "        </div>\n",
    "    </div>\n",
    "</div>\n",
    "<br><br>"
   ]
  },
  {
   "cell_type": "markdown",
   "metadata": {
    "execution": {
     "iopub.execute_input": "2025-06-05T20:34:14.352342Z",
     "iopub.status.busy": "2025-06-05T20:34:14.351865Z",
     "iopub.status.idle": "2025-06-05T20:34:14.360310Z",
     "shell.execute_reply": "2025-06-05T20:34:14.359063Z",
     "shell.execute_reply.started": "2025-06-05T20:34:14.352306Z"
    }
   },
   "source": [
    "## Python Client Library for Harmonize DataSources (HarmonizeDS)\n",
    "<hr style=\"border:1px solid #274ad4;\">\n",
    "\n",
    "The HarmonizeDS is a Python library for accessing harmonized spatiotemporal data and retrieving it in a Pandas DataFrame format. The main goal is to provide a tool that simplifies access to multiscale data related to health in critical regions affected by climate change. It integrates datasets such as climate reanalysis, weather forecasts, epidemiological surveillance, and drone imagery.\n",
    "\n",
    "The client is designed to interact with the collections of data created on the scope of Earth Observation Data Cube tuned for Health Response Systems (EODCtHRS) component of HARMONIZE project, which builds upon the digital infrastructure of the Brazil Data Cube (BDC) from the National Institute for Space Research (INPE), ensuring integration and interoperability between multiple data sources.\n",
    "\n",
    "The library allows users to list available collections, retrieve metadata, and access filtered data based on [Web Coverage Service (WCS)](https://www.ogc.org/publications/standard/wcs) and [Web Features Service (WFS)](https://www.ogc.org/standards/wfs) standards issued by the OGC.\n",
    "\n",
    "\"The OGC-WCS supports electronic retrieval of geospatial data as \"coverages\". Coverages are digital geospatial information representing space/time-varying phenomena, specifically spatio-temporal regular and irregular grids, point clouds, and general meshes [(OGC-WCS)](https://www.ogc.org/standards/wcs). The OGC-WFS standard defines a direct fine-grained access to geographic information at the feature and feature property level by specifying discovery, query, locking and transaction operations\" [(OGC-WFS)](https://www.ogc.org/standards/wfs). A feature refers to a real-world entity or object, such as buildings, roads, rivers, forests, or even moving objects like vehicles. Represented in a geospatial context, typically with geometric information, which can be a point, line, or polygon and attribute information, which are data properties associated with the geometry, like the name of a city, the width of a road, or the population of a region [(OGC-WFS API)](https://www.ogc.org/publications/standard/ogcapi-features).\n",
    "\n",
    "Source: Adapted from [HarmonizeDS](https://github.com/Harmonize-Brazil/harmonize-ds/tree/main) Github repository."
   ]
  },
  {
   "cell_type": "markdown",
   "metadata": {},
   "source": [
    "## Install HarmonizeDS from Github\n",
    "<hr style=\"border:1px solid #274ad4;\">\n",
    "\n",
    "For running the examples in this Jupyter Notebook you will need to install the [HarmonizeDS](https://github.com/Harmonize-Brazil/harmonize-ds/releases/tag/v0.1.0). To install it from Github using `pip`, use the following command:"
   ]
  },
  {
   "cell_type": "code",
   "execution_count": null,
   "metadata": {},
   "outputs": [],
   "source": [
    "# Check and install harmonize_ds if necessary\n",
    "try:\n",
    "    import harmonize_ds\n",
    "except ImportError:\n",
    "    !pip install git+https://github.com/Harmonize-Brazil/harmonize-ds.git@v0.1.0\n",
    "print('HarmonizeDS:',harmonize_ds.__version__)"
   ]
  },
  {
   "cell_type": "markdown",
   "metadata": {},
   "source": [
    "Installing additional libraries for processing and visualization:"
   ]
  },
  {
   "cell_type": "code",
   "execution_count": null,
   "metadata": {
    "colab": {
     "base_uri": "https://localhost:8080/",
     "height": 311
    },
    "id": "RhG89dwJPQDM",
    "outputId": "c50d7fb0-3ca0-4481-e80f-acfd4ad4017e"
   },
   "outputs": [],
   "source": [
    "# We already have these libraries installed using the Geospatial kernel from BDC-Lab!\n",
    "import importlib\n",
    "\n",
    "for module in ['rasterio','shapely','matplotlib','geopandas','tqdm','folium']:\n",
    "    try:\n",
    "        importlib.import_module(module)\n",
    "    except ImportError:\n",
    "        !pip3 install module"
   ]
  },
  {
   "cell_type": "markdown",
   "metadata": {},
   "source": [
    "## Listing the Available Datasets\n",
    "<hr style=\"border:1px solid #274ad4;\">\n",
    "\n",
    "To access the functionalities of the client API, you should import the harmonize_ds package, as follows:"
   ]
  },
  {
   "cell_type": "code",
   "execution_count": null,
   "metadata": {},
   "outputs": [],
   "source": [
    "from harmonize_ds import HARMONIZEDS"
   ]
  },
  {
   "cell_type": "markdown",
   "metadata": {},
   "source": [
    "The `HARMONIZEDS` object will list the available datasets from the service:"
   ]
  },
  {
   "cell_type": "code",
   "execution_count": null,
   "metadata": {},
   "outputs": [],
   "source": [
    "print(\"Available collections:\")\n",
    "for i,collection in enumerate(HARMONIZEDS.collections()):\n",
    "   print(i+1,':',collection)"
   ]
  },
  {
   "cell_type": "markdown",
   "metadata": {},
   "source": [
    "## Retrieving the Metadata of a Dataset\n",
    "<hr style=\"border:1px solid #274ad4;\">\n",
    "\n",
    "You can access the metadata of a specific dataset using the identifier of datasource (`id`) and collection `collection_id`."
   ]
  },
  {
   "cell_type": "code",
   "execution_count": null,
   "metadata": {},
   "outputs": [],
   "source": [
    "zica = HARMONIZEDS.get_collection(\n",
    "    id=\"HARMONIZE-WFS\", collection_id=\"bdc_lcc:zika_cases_north_mun_week\"\n",
    ")\n",
    "metadata_zica = zica.describe()\n",
    "metadata_zica"
   ]
  },
  {
   "cell_type": "markdown",
   "metadata": {},
   "source": [
    "## Retrieving the data\n",
    "<hr style=\"border:1px solid #274ad4;\">\n",
    "\n",
    "The ``get(filter: Optional[Dict[str, Any]] = None, srid: int = 4326))`` method can be used to retrieve the data from a dataset supporting filtering rules through the specification of a rectangle (bbox) or a date and time (datetime) criterias. This will return the data in a `GeoDataFrame` object from the GeoPandas library."
   ]
  },
  {
   "cell_type": "code",
   "execution_count": null,
   "metadata": {},
   "outputs": [],
   "source": [
    "zica_gdf = zica.get(\n",
    "        filter={\n",
    "            'date': '2017-02-01/2017-02-30'\n",
    "        }\n",
    ")\n",
    "# This function returns the first 5 rows of GeoDataFrame:\n",
    "zica_gdf.head(5)"
   ]
  },
  {
   "cell_type": "code",
   "execution_count": null,
   "metadata": {},
   "outputs": [],
   "source": [
    "zica_gdf = zica.get(\n",
    "        filter={\n",
    "            'date': '2017-02-05'\n",
    "        }\n",
    ")\n",
    "# This function returns the first 5 rows of GeoDataFrame:\n",
    "zica_gdf.head(5)"
   ]
  },
  {
   "cell_type": "markdown",
   "metadata": {},
   "source": [
    "###  Visualization of a Region Of Interest (ROI) defined to filter data from a collection:"
   ]
  },
  {
   "cell_type": "code",
   "execution_count": null,
   "metadata": {},
   "outputs": [],
   "source": [
    "import folium\n",
    "from shapely.geometry import Polygon\n",
    "\n",
    "#bbox = [-49.5171,-2.5970,-49.4907,-2.5669] #define ROI bounding box (Mocajuba)\n",
    "bbox = [-51.02,-5.22,-48.13,-0.1] #define ROI bounding box (Lower Tocantins)\n",
    "\n",
    "roi_area = Polygon([(bbox[0],bbox[1]),\n",
    "                    (bbox[0],bbox[3]),\n",
    "                    (bbox[2],bbox[3]),\n",
    "                    (bbox[2],bbox[1])])\n",
    "\n",
    "\n",
    "# Create a folium map centered around the geographic area of interest\n",
    "folium_map = folium.Map(location=[roi_area.centroid.y, roi_area.centroid.x], zoom_start=14,\n",
    "                        control_scale=True, zoom_control=False)\n",
    "\n",
    "folium.Rectangle(\n",
    "    bounds=[[bbox[1],bbox[0]],[bbox[3],bbox[2]]],\n",
    "    color=\"blue\",\n",
    "    weight=2,\n",
    "    fill=True,\n",
    "    fill_color=\"blue\",\n",
    "    fill_opacity=0.2\n",
    ").add_to(folium_map)\n",
    "\n",
    "folium_map"
   ]
  },
  {
   "cell_type": "code",
   "execution_count": null,
   "metadata": {},
   "outputs": [],
   "source": [
    "zica_gdf = zica.get(\n",
    "        filter={\n",
    "            'bbox': bbox,\n",
    "            'date': '2017-02-01/2017-02-30'\n",
    "        }\n",
    ")\n",
    "# This function returns the first 5 rows of GeoDataFrame:\n",
    "zica_gdf.head(5)"
   ]
  },
  {
   "cell_type": "markdown",
   "metadata": {},
   "source": [
    "## Visualizing the data\n",
    "<hr style=\"border:1px solid #274ad4;\">\n",
    "\n",
    "It is possible to plot the data of the dataset with the plot method:"
   ]
  },
  {
   "cell_type": "code",
   "execution_count": null,
   "metadata": {},
   "outputs": [],
   "source": [
    "import matplotlib.pyplot as plt\n",
    "\n",
    "# Plot Zica cases value with an accurate legend\n",
    "ax = zica_gdf.plot(column='value', legend=True);\n",
    "ax.set_title('Zica cases incidence by 100.000 habitants for 05/02/2017');\n",
    "#plt.show()"
   ]
  },
  {
   "cell_type": "markdown",
   "metadata": {},
   "source": [
    "### Visualizing the data with GeoPandas and others data\n",
    "\n",
    "After retrieving the dataset, you can use any Python library to perform data processing. In this section we show how to use GeoPandas to load and use others data:\n"
   ]
  },
  {
   "cell_type": "code",
   "execution_count": null,
   "metadata": {},
   "outputs": [],
   "source": [
    "import geopandas as gpd\n",
    "from matplotlib import pyplot as plt"
   ]
  },
  {
   "cell_type": "markdown",
   "metadata": {},
   "source": [
    "In this example, we use the `read_file()` method from Geopandas to open shapefiles of the Brazilian Federal Units and Biomes. That data can be found online at IBGE resources:\n"
   ]
  },
  {
   "cell_type": "code",
   "execution_count": null,
   "metadata": {},
   "outputs": [],
   "source": [
    "file_biomas = \"https://geoftp.ibge.gov.br/informacoes_ambientais/estudos_ambientais/biomas/vetores/Biomas_250mil.zip\"\n",
    "file_uf = \"https://geoftp.ibge.gov.br/organizacao_do_territorio/malhas_territoriais/malhas_municipais/municipio_2020/Brasil/BR/BR_UF_2020.zip\"\n",
    "\n",
    "# Load the data resources from IBGE\n",
    "biomas = gpd.read_file(file_biomas)\n",
    "print(biomas.head())\n",
    "\n",
    "uf = gpd.read_file(file_uf)\n",
    "uf.head()"
   ]
  },
  {
   "cell_type": "markdown",
   "metadata": {},
   "source": [
    "The code below plots biomes, federative units and zica df samples on a single map:"
   ]
  },
  {
   "cell_type": "code",
   "execution_count": null,
   "metadata": {},
   "outputs": [],
   "source": [
    "fig, ax = plt.subplots(figsize=(20,15))\n",
    "\n",
    "biomas.plot(ax=ax, cmap='Set2', column='Bioma',edgecolor='black', legend=True, legend_kwds={'title': \"Biomes\", 'fontsize': 15})\n",
    "\n",
    "uf.geometry.boundary.plot(ax=ax, color=None, edgecolor='black',linewidth = 0.2)\n",
    "\n",
    "zica_gdf.plot(ax=ax, color='red', markersize=4, edgecolor='black', linewidth = 0.1);"
   ]
  },
  {
   "cell_type": "markdown",
   "metadata": {},
   "source": []
  },
  {
   "cell_type": "markdown",
   "metadata": {},
   "source": [
    "## Save data to a file\n",
    "<hr style=\"border:1px solid #274ad4;\">\n",
    "\n",
    "You can save data from a dataset to a shapefile using the `save_features` method. It is necessary to inform the parameter `filename` including the directory that you want to save the file and the `gdf` that refer your data retrieved before. In the example below the data `zica_gdf` from the zica dataset is being saved in a shapefile with the name my_save_bdc_obs:\n"
   ]
  },
  {
   "cell_type": "code",
   "execution_count": null,
   "metadata": {},
   "outputs": [],
   "source": [
    "HARMONIZEDS.save_feature(filename=\"my_save_bdc_obs.shp\", gdf=zicadf)"
   ]
  },
  {
   "cell_type": "markdown",
   "metadata": {},
   "source": [
    "# References\n",
    "<hr style=\"border:1px solid #0077b9;\">"
   ]
  },
  {
   "cell_type": "markdown",
   "metadata": {},
   "source": [
    "- [HarmonizeDS Client](https://github.com/Harmonize-Brazil/harmonize-ds/releases/tag/v0.1.0)\n",
    "- [The Open Geospatial Consortium (OGC) - Web Coverage Service (WCS)](https://www.ogc.org/standards/wcs)\n",
    "- [The Open Geospatial Consortium (OGC) - Web Features Service (WFS)](https://www.ogc.org/standards/wfs)"
   ]
  }
 ],
 "metadata": {
  "colab": {
   "name": "techtalk.ipynb",
   "provenance": [],
   "toc_visible": true
  },
  "kernelspec": {
   "display_name": "Python (Geospatial)",
   "language": "python",
   "name": "geospatial"
  },
  "language_info": {
   "codemirror_mode": {
    "name": "ipython",
    "version": 3
   },
   "file_extension": ".py",
   "mimetype": "text/x-python",
   "name": "python",
   "nbconvert_exporter": "python",
   "pygments_lexer": "ipython3",
   "version": "3.11.6"
  }
 },
 "nbformat": 4,
 "nbformat_minor": 4
}
