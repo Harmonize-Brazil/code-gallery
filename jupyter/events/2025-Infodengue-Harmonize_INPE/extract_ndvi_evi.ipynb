{
 "cells": [
  {
   "cell_type": "markdown",
   "metadata": {
    "execution": {
     "iopub.execute_input": "2025-06-09T15:26:26.635172Z",
     "iopub.status.busy": "2025-06-09T15:26:26.633287Z",
     "iopub.status.idle": "2025-06-09T15:26:26.671774Z",
     "shell.execute_reply": "2025-06-09T15:26:26.661113Z"
    }
   },
   "source": [
    "<img src=\"https://raw.githubusercontent.com/Harmonize-Brazil/code-gallery/main/img/INPE_logo.png\" align=\"left\" style=\"height: 100px\" height=\"100\"/>\n",
    "<!-- https://www.gov.br/mcti/pt-br/composicao/rede-mcti/instituto-nacional-de-pesquisas-espaciais -->\n",
    "<img src=\"https://raw.githubusercontent.com/Harmonize-Brazil/code-gallery/main/img/harmonize_logo_without_white_background.png\" align=\"right\" style=\"height: 90px\" height=\"90\"/>\n",
    "\n",
    "<h1 style=\"color:#274ad4; text-align: center\">Vegetation Indices by City</h1>\n",
    "<h4 style=\"color:#274ad4; text-align: center\">Using the BDC datacube and SITS to obtain the NDVI/EVI mean by a Region Of Interest (ROI)</h4>\n",
    "<hr style=\"border:2px solid #274ad4;\">\n",
    "<br/>  \n",
    "    \n",
    "<div style=\"text-align: center;font-size: 90%;\">\n",
    "    Luana Becker da Luz<sup><a href=\"https://orcid.org/0000-0003-2535-7658\\\" target=\"_blank\" rel=\"noopener noreferrer\"><img src=\"https://orcid.filecamp.com/static/thumbs/folders/qLJ1tuei4m6ugC3g.png\" width=\"16\"alt=\"ORCID iD\" style=\"vertical-align: text-bottom;\"/></a></sup>\n",
    "    Ana Paula Dal'Asta<sup><a href=\"https://orcid.org/0000-0002-1286-9067\" target=\"_blank\" rel=\"noopener noreferrer\"><img src=\"https://orcid.filecamp.com/static/thumbs/folders/qLJ1tuei4m6ugC3g.png\" width=\"16\"alt=\"ORCID iD\" style=\"vertical-align: text-bottom;\"/></a></sup>\n",
    "    <br/><br/>\n",
    "    Earth Observation and Geoinformatics Division, National Institute for Space Research (INPE)\n",
    "    <br/>\n",
    "    Avenida dos Astronautas, 1758, Jardim da Granja, São José dos Campos, SP 12227-010, Brazil\n",
    "    <br/><br/>\n",
    "    Contact: <a href=\"mailto:luana.luz@inpe.br\">luana.luz@inpe.br;</a><a href=\"mailto:apdalasta@gmail.com\">apdalasta@gmail.com;</a>\n",
    "    <br/><br/>\n",
    "    Last Update: June 9, 2025\n",
    "</div>\n",
    "\n",
    "<br/>\n",
    "\n",
    "<div style=\"text-align: justify;  margin-left: 25%; margin-right: 25%;\">\n",
    "<b>Abstract.</b> This Jupyter Notebook contains an example of using the Satellite Image Time Series Analysis on Earth Observation Data Cubes (<a href=\"https://data.inpe.br/bdc/web/en/sits-satellite-image-time-series-2\" target=\"_blank\">SITS</a>) package to access data from the Terra Moderate Resolution Imaging Spectroradiometer (MODIS) Vegetation Indices (MOD13Q1) <a href=\"https://data.inpe.br/bdc/stac/v1/collections/mod13q1-6.1\" target=\"_blank\">Version 6.1</a> produced by the Brazil Data Cube (BDC) project, select NDVI/EVI bands and extract mean value for each ROI municipality. In this example, we chose the Cametá/PA municipality and its neighbors.\n",
    "</div>\n",
    "</div>"
   ]
  },
  {
   "cell_type": "markdown",
   "metadata": {},
   "source": [
    "# Initial configuration"
   ]
  },
  {
   "cell_type": "code",
   "execution_count": null,
   "metadata": {
    "tags": [],
    "vscode": {
     "languageId": "r"
    }
   },
   "outputs": [],
   "source": [
    "# install.packages(\"geobr\")\n",
    "\n",
    "library(geobr)\n",
    "library(dplyr)\n",
    "library(tidyr)\n",
    "library(ggplot2)\n",
    "library(sf)\n",
    "library(sits)\n",
    "library(terra)\n",
    "library(glue)"
   ]
  },
  {
   "cell_type": "markdown",
   "metadata": {},
   "source": [
    "# Set multicores"
   ]
  },
  {
   "cell_type": "code",
   "execution_count": null,
   "metadata": {},
   "outputs": [],
   "source": [
    "MULTICORES <- 4L"
   ]
  },
  {
   "cell_type": "markdown",
   "metadata": {
    "jp-MarkdownHeadingCollapsed": true
   },
   "source": [
    "# 1. Set ROI - Cametá and its neighbors\n",
    "<hr style=\"border:1px solid #0077b9;\">"
   ]
  },
  {
   "cell_type": "markdown",
   "metadata": {},
   "source": [
    "## 1.1 Get Brasil municipalities (2022)"
   ]
  },
  {
   "cell_type": "code",
   "execution_count": null,
   "metadata": {},
   "outputs": [],
   "source": [
    "sf_munic <- geobr::read_municipality(year = 2022)\n",
    "plot(st_geometry(sf_munic))"
   ]
  },
  {
   "cell_type": "markdown",
   "metadata": {},
   "source": [
    "## 1.2 Filter municipalities only for Cametá and its neighbors"
   ]
  },
  {
   "cell_type": "code",
   "execution_count": null,
   "metadata": {},
   "outputs": [],
   "source": [
    "sf_cameta <- sf_munic %>% filter(name_muni == \"Cametá\")\n",
    "\n",
    "neighbors_index <- st_intersects(sf_munic, sf_cameta, sparse = FALSE)[,1]\n",
    "sf_roi <- sf_munic[neighbors_index, ]\n",
    "\n",
    "ggplot(data = sf_roi) +\n",
    "    geom_sf(fill = \"lightblue\") +\n",
    "    geom_sf_text(aes(label = name_muni), size = 5, color = \"black\")"
   ]
  },
  {
   "cell_type": "markdown",
   "metadata": {},
   "source": [
    "## 1.3 Obtain ROI bbox"
   ]
  },
  {
   "cell_type": "code",
   "execution_count": null,
   "metadata": {},
   "outputs": [],
   "source": [
    "bbox <- st_bbox(sf_roi)\n",
    "bbox"
   ]
  },
  {
   "cell_type": "markdown",
   "metadata": {
    "tags": []
   },
   "source": [
    "# 2. sits - Get data cube\n",
    "<hr style=\"border:1px solid #0077b9;\">"
   ]
  },
  {
   "cell_type": "markdown",
   "metadata": {},
   "source": [
    "## 2.1 List all BDC collections"
   ]
  },
  {
   "cell_type": "code",
   "execution_count": null,
   "metadata": {
    "tags": [],
    "vscode": {
     "languageId": "r"
    }
   },
   "outputs": [],
   "source": [
    "sits::sits_list_collections(\"BDC\")"
   ]
  },
  {
   "cell_type": "markdown",
   "metadata": {},
   "source": [
    "## 2.2 Obtain cube based on collection, bbox, bands and dates"
   ]
  },
  {
   "cell_type": "code",
   "execution_count": null,
   "metadata": {
    "tags": [],
    "vscode": {
     "languageId": "r"
    }
   },
   "outputs": [],
   "source": [
    "cube <- sits::sits_cube(\n",
    "    source = \"BDC\",\n",
    "    #collection = \"SENTINEL-2-16D\",\n",
    "    collection = \"MOD13Q1-6.1\",\n",
    "    bands = c(\"NDVI\", \"EVI\"),\n",
    "    roi = bbox,\n",
    "    start_date = \"2020-01-04\",\n",
    "    end_date = \"2020-12-31\",\n",
    "    progress = TRUE\n",
    ")\n",
    "\n",
    "sits_timeline(cube)"
   ]
  },
  {
   "cell_type": "markdown",
   "metadata": {
    "jp-MarkdownHeadingCollapsed": true
   },
   "source": [
    "## 2.3 Print cube information"
   ]
  },
  {
   "cell_type": "code",
   "execution_count": null,
   "metadata": {},
   "outputs": [],
   "source": [
    "print(cube$file_info[[1]])\n",
    "print(cube$tile)\n",
    "plot(cube, band = \"NDVI\", time = 1)"
   ]
  },
  {
   "cell_type": "markdown",
   "metadata": {},
   "source": [
    "## 2.4 For each datetime, mosaic all images\n",
    "\n",
    "**Using 4 multicores and getting data only for 2020 (23 dates), this process takes around 1.5 minutes and store 3.5GB of data in tmp folder.**"
   ]
  },
  {
   "cell_type": "markdown",
   "metadata": {},
   "source": [
    "### 2.4.1 Create a tmp folder where mosaics will be computed"
   ]
  },
  {
   "cell_type": "code",
   "execution_count": null,
   "metadata": {},
   "outputs": [],
   "source": [
    "TMP_RASTERS_FOLDER <- \"tmp\"\n",
    "\n",
    "if (!file.exists(TMP_RASTERS_FOLDER)) {\n",
    "    dir.create(TMP_RASTERS_FOLDER, recursive = TRUE)\n",
    "    print(glue(\"Folder '{TMP_RASTERS_FOLDER}' was created!\"))\n",
    "} else{\n",
    "    print(glue(\"Folder '{TMP_RASTERS_FOLDER}' already exists! Please, delete it using 'rm -rf' on terminal and recreate it using this cell.\"))\n",
    "}"
   ]
  },
  {
   "cell_type": "markdown",
   "metadata": {},
   "source": [
    "### 2.4.2 Runs mosaic"
   ]
  },
  {
   "cell_type": "code",
   "execution_count": null,
   "metadata": {
    "tags": [],
    "vscode": {
     "languageId": "r"
    }
   },
   "outputs": [],
   "source": [
    "mosaic_cube <- sits_mosaic(\n",
    "    cube = cube,\n",
    "    roi = bbox,\n",
    "    crs = \"EPSG:4326\",\n",
    "    output_dir = TMP_RASTERS_FOLDER,\n",
    "    multicores = MULTICORES,\n",
    "    progress = TRUE\n",
    ")\n",
    "\n",
    "plot(mosaic_cube, band = \"NDVI\", time = 1)"
   ]
  },
  {
   "cell_type": "markdown",
   "metadata": {},
   "source": [
    "### 2.4.3 List generated files"
   ]
  },
  {
   "cell_type": "code",
   "execution_count": null,
   "metadata": {
    "tags": [],
    "vscode": {
     "languageId": "r"
    }
   },
   "outputs": [],
   "source": [
    "mosaic_filepaths <- list.files(TMP_RASTERS_FOLDER, full.names = TRUE, pattern = \"*MOSAIC*\")\n",
    "print(length(mosaic_filepaths))\n",
    "mosaic_filepaths"
   ]
  },
  {
   "cell_type": "markdown",
   "metadata": {},
   "source": [
    "# 3. Extract NDVI/EVI mean for each municipality"
   ]
  },
  {
   "cell_type": "markdown",
   "metadata": {},
   "source": [
    "## 3.1 Test - Extraction for only one datetime"
   ]
  },
  {
   "cell_type": "code",
   "execution_count": null,
   "metadata": {},
   "outputs": [],
   "source": [
    "# Create raster\n",
    "r <- terra::rast(\n",
    "    c(file.path(TMP_RASTERS_FOLDER, \"TERRA_MODIS_MOSAIC_2020-01-01_2020-01-01_EVI_v1.tif\"),\n",
    "      file.path(TMP_RASTERS_FOLDER, \"TERRA_MODIS_MOSAIC_2020-01-01_2020-01-01_NDVI_v1.tif\"))\n",
    ")\n",
    "# Set raster band names. Otherwise, it will set file name\n",
    "names(r) <- c(\"EVI\", \"NDVI\")\n",
    "\n",
    "# Extract mean for each feature in sf_roi\n",
    "df_extracted <- terra::extract(\n",
    "    r,\n",
    "    terra::vect(sf_roi),\n",
    "    fun = mean,\n",
    "    na.rm = TRUE\n",
    ")\n",
    "df_extracted\n",
    "\n",
    "# Print sf_roi\n",
    "head(as.data.frame(sf_roi), 10)\n",
    "\n",
    "# Merge bands mean with ROI\n",
    "sf_binded <- dplyr::bind_cols(sf_roi, df_extracted)\n",
    "head(as.data.frame(sf_binded), 10)"
   ]
  },
  {
   "cell_type": "markdown",
   "metadata": {},
   "source": [
    "## 3.2 Extraction for all dates and bands"
   ]
  },
  {
   "cell_type": "markdown",
   "metadata": {},
   "source": [
    "### 3.2.1 Get cube files_info"
   ]
  },
  {
   "cell_type": "code",
   "execution_count": null,
   "metadata": {},
   "outputs": [],
   "source": [
    "# Get cube file_info\n",
    "file_info <- mosaic_cube[\"file_info\"][[1]][[1]]\n",
    "head(file_info)\n",
    "names(file_info)"
   ]
  },
  {
   "cell_type": "markdown",
   "metadata": {},
   "source": [
    "### 3.2.2 From file_info, select dates, bands and paths"
   ]
  },
  {
   "cell_type": "code",
   "execution_count": null,
   "metadata": {},
   "outputs": [],
   "source": [
    "file_info <- file_info %>% select(c(\"band\", \"date\", \"path\")) %>% mutate(date = as.character(date))\n",
    "head(file_info)"
   ]
  },
  {
   "cell_type": "markdown",
   "metadata": {},
   "source": [
    "### 3.2.3 Obtain unique dates"
   ]
  },
  {
   "cell_type": "code",
   "execution_count": null,
   "metadata": {},
   "outputs": [],
   "source": [
    "unique_dates <- unique(file_info$date)\n",
    "unique_dates"
   ]
  },
  {
   "cell_type": "markdown",
   "metadata": {},
   "source": [
    "### 3.2.4 For each date, load all bands as one raster and extract mean"
   ]
  },
  {
   "cell_type": "code",
   "execution_count": null,
   "metadata": {},
   "outputs": [],
   "source": [
    "list_sf_mean_extracted <- lapply(\n",
    "    X = unique_dates,\n",
    "    FUN = function(current_date) {\n",
    "        # Filter cube_info to get all images from current date\n",
    "        filtered <- file_info %>% filter(date == current_date)\n",
    "        \n",
    "        # Open all different bands files in one raster\n",
    "        rasters <- terra::rast(filtered$path)\n",
    "        # Rename raster names (e.g. NDVI, EVI)\n",
    "        names(rasters) <- filtered$band\n",
    "        \n",
    "        # Extract mean in all raster bands for each ROI feature\n",
    "        df_extracted <- terra::extract(\n",
    "            rasters,\n",
    "            terra::vect(sf_roi),\n",
    "            fun = mean,\n",
    "            na.rm = TRUE\n",
    "        )\n",
    "        \n",
    "        # Bind computed df with sf_roi, remove ID column and add date column\n",
    "        sf_computed <- dplyr::bind_cols(sf_roi, df_extracted) %>%\n",
    "            select(-ID) %>%\n",
    "            mutate(date = current_date)\n",
    "        \n",
    "        return (sf_computed)\n",
    "    }\n",
    ")\n",
    "list_sf_mean_extracted[1:3]"
   ]
  },
  {
   "cell_type": "markdown",
   "metadata": {},
   "source": [
    "### 3.2.5 Bind all sf dataframes into one"
   ]
  },
  {
   "cell_type": "code",
   "execution_count": null,
   "metadata": {},
   "outputs": [],
   "source": [
    "df_municipalities_mean <- bind_rows(list_sf_mean_extracted) %>%\n",
    "    as.data.frame() %>%\n",
    "    pivot_longer(cols = c(\"NDVI\", \"EVI\"), names_to = \"band\", values_to = \"value\") %>%\n",
    "    select(\"code_muni\", \"name_muni\", \"date\", \"band\", \"value\")\n",
    "    \n",
    "dim(df_municipalities_mean)\n",
    "head(df_municipalities_mean, 15)"
   ]
  },
  {
   "cell_type": "markdown",
   "metadata": {},
   "source": [
    "### 3.2.6 Plot 1"
   ]
  },
  {
   "cell_type": "code",
   "execution_count": null,
   "metadata": {},
   "outputs": [],
   "source": [
    "options(repr.plot.height=5, repr.plot.width=18)\n",
    "\n",
    "df_municipalities_mean %>%\n",
    "    ggplot(aes(x=date, y=value, group=band)) +\n",
    "        facet_grid(band ~ name_muni) +\n",
    "        geom_line() +\n",
    "        theme(text = element_text(size = 24))\n",
    "        "
   ]
  },
  {
   "cell_type": "markdown",
   "metadata": {},
   "source": [
    "### 3.2.7 Plot 2"
   ]
  },
  {
   "cell_type": "code",
   "execution_count": null,
   "metadata": {},
   "outputs": [],
   "source": [
    "options(repr.plot.height=7, repr.plot.width=18)\n",
    "\n",
    "df_municipalities_mean %>%\n",
    "    mutate(value = value / 10000) %>%\n",
    "    mutate(date = as.Date(date, format = \"%Y-%m-%d\")) %>%\n",
    "    ggplot(aes(x=date, y=value, group=band)) +\n",
    "        facet_grid(band ~ name_muni) +\n",
    "        geom_line() +\n",
    "        labs(title = \"Média de EVI e NDVI por município para 2020 - MOD13Q1\", x = \"Data\", y = \"Valor\") + \n",
    "        geom_point(color = \"red\", size = 3) + \n",
    "        scale_x_date(date_labels = \"%b\") + \n",
    "        theme(\n",
    "            text = element_text(size = 22)\n",
    "            # axis.text.x = element_text(angle = 45, hjust = 1)\n",
    "        )"
   ]
  },
  {
   "cell_type": "markdown",
   "metadata": {},
   "source": [
    "### 3.2.8 Plot 3"
   ]
  },
  {
   "cell_type": "code",
   "execution_count": null,
   "metadata": {},
   "outputs": [],
   "source": [
    "options(repr.plot.height=5, repr.plot.width=18)\n",
    "\n",
    "df_municipalities_mean %>%\n",
    "    mutate(value = value / 10000) %>%\n",
    "    mutate(date = as.Date(date, format = \"%Y-%m-%d\")) %>%\n",
    "    ggplot(aes(x = date, y = value, group = band)) +\n",
    "        facet_grid( ~ name_muni) +\n",
    "        geom_line(aes(color = band)) +\n",
    "        labs(title = \"Média de EVI e NDVI por município para 2020 - MOD13Q1\", x = \"Data\", y = \"Valor\") + \n",
    "        geom_point(aes(color = band), size = 3) + \n",
    "        scale_x_date(date_labels = \"%b\") + \n",
    "        scale_color_discrete(name = \"Banda\") + \n",
    "        theme(\n",
    "            text = element_text(size = 22),\n",
    "            legend.position = \"bottom\"\n",
    "        )"
   ]
  },
  {
   "cell_type": "code",
   "execution_count": null,
   "metadata": {},
   "outputs": [],
   "source": []
  }
 ],
 "metadata": {
  "kernelspec": {
   "display_name": "R (Geospatial)",
   "language": "R",
   "name": "ir"
  },
  "language_info": {
   "codemirror_mode": "r",
   "file_extension": ".r",
   "mimetype": "text/x-r-source",
   "name": "R",
   "pygments_lexer": "r",
   "version": "4.5.0"
  }
 },
 "nbformat": 4,
 "nbformat_minor": 4
}
