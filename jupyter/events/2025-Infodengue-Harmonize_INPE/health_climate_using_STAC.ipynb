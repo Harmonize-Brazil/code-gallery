{
 "cells": [
  {
   "cell_type": "markdown",
   "metadata": {
    "id": "SLtwr0cD8wtC",
    "jp-MarkdownHeadingCollapsed": true
   },
   "source": [
    "<img src=\"https://raw.githubusercontent.com/Harmonize-Brazil/code-gallery/main/img/INPE_logo.png\" align=\"left\" style=\"height: 105px\" height=\"105\"/>\n",
    "<!-- https://www.gov.br/mcti/pt-br/composicao/rede-mcti/instituto-nacional-de-pesquisas-espaciais -->\n",
    "<img src=\"https://earth.bsc.es/harmonize/lib/exe/fetch.php?h=250&crop=0&tok=cfb750&media=wiki:logo.png\" align=\"right\" style=\"height: 90px\" height=\"90\"/>\n",
    "\n",
    "<h1 style=\"color:#336699; text-align: center\">Health and Climate data</h1>\n",
    "<h3 style=\"color:#336699; text-align: center\">Access using the BDC-STAC service</h3>\n",
    "<hr style=\"border:2px solid #0077b9;\">\n",
    "<!-- <hr style=\"border:2px solid #274ad4;\"> -->\n",
    "<br/>\n",
    "\n",
    "<div style=\"text-align: center;font-size: 90%;\">\n",
    "    <!-- <a href=\"https://colab.research.google.com/github/Harmonize-Brazil/code-gallery/blob/main/jupyter/events/2025-Infodengue-Harmonize_INPE/\" target = \"_blank\"> <img src=\"https://colab.research.google.com/assets/colab-badge.svg\" alt=\"Colab\"> </a> -->\n",
    "    <a href=\"https://nbviewer.jupyter.org/github/Harmonize-Brazil/code-gallery/blob/main/jupyter/events/2025-Infodengue-Harmonize_INPE/health_climate_using_STAC.ipynb\"><img src=\"https://raw.githubusercontent.com/jupyter/design/master/logos/Badges/nbviewer_badge.svg\" ></a> <!--align=\"center\"-->\n",
    "    <br/><br/>\n",
    "    <!-- Yuri -->\n",
    "    Yuri Domaradzki Moreira Nunes <sup><a href=\"https://orcid.org/0009-0007-2829-4345\" target=\"_blank\" rel=\"noopener noreferrer\"><img src=\"https://orcid.filecamp.com/static/thumbs/folders/qLJ1tuei4m6ugC3g.png\" width=\"16\" alt=\"ORCID iD\" style=\"vertical-align: text-bottom;\"/></a></sup>,\n",
    "    <!-- Adeline  -->\n",
    "    Adeline Marinho Maciel <sup><a href=\"https://orcid.org/0000-0002-1467-6488\" target=\"_blank\" rel=\"noopener noreferrer\"><img src=\"https://orcid.filecamp.com/static/thumbs/folders/qLJ1tuei4m6ugC3g.png\" width=\"16\" alt=\"ORCID iD\" style=\"vertical-align: text-bottom;\"/></a></sup>\n",
    "    <br/><br/>\n",
    "    Earth Observation and Geoinformatics Division, National Institute for Space Research (INPE)\n",
    "    <br/>\n",
    "    Avenida dos Astronautas, 1758, Jardim da Granja, São José dos Campos, SP 12227-010, Brazil\n",
    "    <br/><br/>\n",
    "    Contact: <a href=\"mailto:yuridomaradzki@gmail.com\">yuridomaradzki@gmail.com</a>;\n",
    "    <a href=\"mailto:adelinemaciel22@gmail.com\">adelinemaciel22@gmail.com</a>\n",
    "    <br/><br/>\n",
    "    Last Update: June 9, 2025\n",
    "</div>    \n",
    "<br/><br/>\n",
    "<div style=\"width: 60%; margin: auto\">\n",
    "    <div style=\"text-align: center; border-style: solid; border-color: #0077b9; border-width: 1px; padding: 10px;\">\n",
    "        <b>Abstract.</b> This Jupyter Notebook gives an overview of how to use the BDC-STAC service implementation to discover and access the health and climate data products from the Earth Observation Data Cubes tuned for Health Response Systems (EODCtHRS), a <a href=\"https://harmonize-tools.org\" target=\"_blank\">HARMONIZE project</a> component. This notebook was adapted from <a href=\"https://github.com/brazil-data-cube/code-gallery/blob/master/jupyter/Python/stac/stac-introduction.ipynb\" target=\"_blank\">Introduction to the SpatioTemporal Asset Catalog (STAC)</a> available at Github code gallery of the <a href=\"https://data.inpe.br/bdc/web\" target=\"_blank\">Brazil Data Cube (BDC)</a> project.\n",
    "    </div>\n",
    "</div>\n",
    "<br><br>"
   ]
  },
  {
   "cell_type": "markdown",
   "metadata": {
    "id": "vIpHUljE8wtF"
   },
   "source": [
    "# Setting up a virtual environment for Jupyter Notebook\n",
    "<hr style=\"border:1px solid #0077b9;\">\n",
    "\n",
    "For running the examples in a non-colab environment using `pip`, use the following commands:"
   ]
  },
  {
   "cell_type": "code",
   "execution_count": null,
   "metadata": {
    "id": "073M_hDW8wtF"
   },
   "outputs": [],
   "source": [
    "\n",
    "# # 1- Create a virtual environment named 'venv'\n",
    "!python3 -m venv venv\n",
    "\n",
    "# # 2- Activate the virtual environment\n",
    "# # For Linux/macOS:\n",
    "!source venv/bin/activate\n",
    "\n",
    "# # For Windows (PowerShell):\n",
    "# #!.\\venv\\Scripts\\Activate.ps1\n",
    "\n",
    "# # 3- Upgrade pip\n",
    "!pip3 install --upgrade pip\n",
    "\n",
    "# # 4- Install required libraries\n",
    "!pip3 install ipykernel jupyter\n",
    "\n",
    "# # 5- Add the virtual environment to Jupyter kernels\n",
    "!python -m ipykernel install --user --name=venv --display-name \"Python (venv)\"\n"
   ]
  },
  {
   "cell_type": "markdown",
   "metadata": {
    "id": "bw7XsYhX8wtG"
   },
   "source": [
    "# STAC Client API\n",
    "<hr style=\"border:1px solid #0077b9;\">\n",
    "\n",
    "For running the examples in this Jupyter Notebook you will need to install the [pystac-client](https://pystac-client.readthedocs.io/en/latest/). To install it from PyPI using `pip`, use the following commands:"
   ]
  },
  {
   "cell_type": "code",
   "execution_count": null,
   "metadata": {
    "execution": {
     "iopub.execute_input": "2025-06-02T14:27:38.949741Z",
     "iopub.status.busy": "2025-06-02T14:27:38.948894Z",
     "iopub.status.idle": "2025-06-02T14:27:38.955961Z",
     "shell.execute_reply": "2025-06-02T14:27:38.955365Z",
     "shell.execute_reply.started": "2025-06-02T14:27:38.949709Z"
    },
    "id": "QLE0AiQU8wtG"
   },
   "outputs": [],
   "source": [
    "# We already have these libraries installed using the Geospatial kernel from BDC-Lab!\n",
    "\n",
    "# Check and install scikit-learn and pystac-client if necessary\n",
    "try:\n",
    "    import sklearn\n",
    "except ImportError:\n",
    "    !pip3 install scikit-learn\n",
    "\n",
    "try:\n",
    "    import pystac_client\n",
    "except ImportError:\n",
    "    !pip3 install pystac-client\n",
    "\n",
    "# Import the modules to use their functions or check versions\n",
    "import sklearn\n",
    "import pystac_client\n",
    "\n",
    "# Display versions of the imported libraries\n",
    "print('scikit-learn:',sklearn.__version__)\n",
    "print('pystac_client:',pystac_client.__version__)"
   ]
  },
  {
   "cell_type": "markdown",
   "metadata": {
    "id": "U1Grg-ku8wtH"
   },
   "source": [
    "Installing additional libraries for processing and visualization:"
   ]
  },
  {
   "cell_type": "code",
   "execution_count": null,
   "metadata": {
    "execution": {
     "iopub.execute_input": "2025-06-02T14:27:42.406584Z",
     "iopub.status.busy": "2025-06-02T14:27:42.405888Z",
     "iopub.status.idle": "2025-06-02T14:27:42.410549Z",
     "shell.execute_reply": "2025-06-02T14:27:42.409992Z",
     "shell.execute_reply.started": "2025-06-02T14:27:42.406559Z"
    },
    "id": "RhG89dwJPQDM"
   },
   "outputs": [],
   "source": [
    "# We already have these libraries installed using the Geospatial kernel from BDC-Lab!\n",
    "import importlib\n",
    "\n",
    "for module in ['geopandas','shapely','matplotlib','tqdm','folium']:\n",
    "    try:\n",
    "        importlib.import_module(module)\n",
    "    except ImportError:\n",
    "        !pip3 install {module}\n",
    "\n",
    "# Import the modules to use their functions or check versions\n",
    "import geopandas\n",
    "import shapely\n",
    "import matplotlib\n",
    "import tqdm\n",
    "import folium\n",
    "\n",
    "# Display versions of the imported libraries\n",
    "print('geopandas:',geopandas.__version__)\n",
    "print('shapely:',shapely.__version__)\n",
    "print('matplotlib:',matplotlib.__version__)\n",
    "print('tqdm:',tqdm.__version__)\n",
    "print('folium:',folium.__version__)"
   ]
  },
  {
   "cell_type": "markdown",
   "metadata": {
    "id": "FM15yADH8wtH"
   },
   "source": [
    "In order to access the funcionalities of the client API, you should import the `stac` package, as follows:"
   ]
  },
  {
   "cell_type": "code",
   "execution_count": null,
   "metadata": {
    "execution": {
     "iopub.execute_input": "2025-06-02T14:28:03.703788Z",
     "iopub.status.busy": "2025-06-02T14:28:03.703069Z",
     "iopub.status.idle": "2025-06-02T14:28:03.707194Z",
     "shell.execute_reply": "2025-06-02T14:28:03.706505Z",
     "shell.execute_reply.started": "2025-06-02T14:28:03.703763Z"
    },
    "id": "Nbh1DWTaPQDY"
   },
   "outputs": [],
   "source": [
    "import pystac_client"
   ]
  },
  {
   "cell_type": "markdown",
   "metadata": {
    "id": "k3njtvob8wtI"
   },
   "source": [
    "Then, create a `STAC` object attached to the HARMONIZE instance of BDC-STAC service:"
   ]
  },
  {
   "cell_type": "code",
   "execution_count": null,
   "metadata": {
    "execution": {
     "iopub.execute_input": "2025-06-02T14:28:19.325676Z",
     "iopub.status.busy": "2025-06-02T14:28:19.324934Z",
     "iopub.status.idle": "2025-06-02T14:28:19.439098Z",
     "shell.execute_reply": "2025-06-02T14:28:19.438419Z",
     "shell.execute_reply.started": "2025-06-02T14:28:19.325650Z"
    },
    "id": "1tviLyVj8wtI"
   },
   "outputs": [],
   "source": [
    "service = pystac_client.Client.open('https://brazildatacube.dpi.inpe.br/harmonize/dev/stac/v1/')\n",
    "print(service)"
   ]
  },
  {
   "cell_type": "markdown",
   "metadata": {
    "id": "oTd-nDNs8wtI"
   },
   "source": [
    "# Listing Health and Climate Data Available\n",
    "<hr style=\"border:1px solid #0077b9;\">"
   ]
  },
  {
   "cell_type": "markdown",
   "metadata": {
    "id": "ea9hL-YA8wtI"
   },
   "source": [
    "Using the STAC object, it is possible to list all health and climate data collections available from the service. However, here we have used a set of keywords (`dengue`, `zika`, `chagas` and `chikungunya`) to retrieve only collections related to health data, and keyword (`temp`, `prec`, `humidity` and `) to retrieve only climate data:"
   ]
  },
  {
   "cell_type": "code",
   "execution_count": null,
   "metadata": {
    "execution": {
     "iopub.execute_input": "2025-06-02T14:36:03.185955Z",
     "iopub.status.busy": "2025-06-02T14:36:03.185064Z",
     "iopub.status.idle": "2025-06-02T14:36:03.499745Z",
     "shell.execute_reply": "2025-06-02T14:36:03.498894Z",
     "shell.execute_reply.started": "2025-06-02T14:36:03.185925Z"
    },
    "id": "3IKREEUpPQDg"
   },
   "outputs": [],
   "source": [
    "# Get all collections\n",
    "collections = service.get_collections()\n",
    "\n",
    "# Sort collections by their ID (alphabetically)\n",
    "collections_sorted = sorted(collections, key=lambda c: c.id)\n",
    "\n",
    "# Filter relevant collections\n",
    "health_collections = [\n",
    "    collection for collection in collections_sorted\n",
    "    #print(collection)\n",
    "    #keyword for collections from health data\n",
    "    if any(keyword in collection.id for keyword in [\"dengue\", \"zika\", \"chagas\", \"chikungunya\"])\n",
    "            #print(collection)\n",
    "]\n",
    "\n",
    "# Print each filtered collection\n",
    "for collection in health_collections:\n",
    "    print(collection)\n",
    "\n",
    "# Print the total number\n",
    "print(f\"\\nTotal health collections: {len(health_collections)}\")"
   ]
  },
  {
   "cell_type": "code",
   "execution_count": null,
   "metadata": {
    "id": "snXCZqT58wtJ"
   },
   "outputs": [],
   "source": [
    "# Filter climate collections\n",
    "climate_collections = [\n",
    "    collection for collection in collections_sorted\n",
    "    #keyword for collections from climate data\n",
    "    if any(keyword in collection.id for keyword in [\"temp\", \"prec\", \"humidity\"])\n",
    "        #print(collection)\n",
    "]\n",
    "\n",
    "# Print each filtered collection\n",
    "for collection in climate_collections:\n",
    "    print(collection)\n",
    "\n",
    "# Print the total number\n",
    "print(f\"\\nTotal climate collections: {len(climate_collections)}\")"
   ]
  },
  {
   "cell_type": "markdown",
   "metadata": {
    "id": "QpknHBkw8wtJ"
   },
   "source": [
    "Description of a collection"
   ]
  },
  {
   "cell_type": "code",
   "execution_count": null,
   "metadata": {
    "id": "LSPJYE7A8wtJ"
   },
   "outputs": [],
   "source": [
    "# Get health data collection:\n",
    "health_collection_1 = service.get_collection('dengue_alert_level_northeast_mun_week_infodengue-1')\n",
    "health_collection_1.description"
   ]
  },
  {
   "cell_type": "code",
   "execution_count": null,
   "metadata": {
    "id": "zl_7-Wkj8wtJ"
   },
   "outputs": [],
   "source": [
    "# Get climate data collection:\n",
    "climate_collection_1 = service.get_collection('humidity_percent_ne_mun_epiweek-1')\n",
    "climate_collection_1.description"
   ]
  },
  {
   "cell_type": "markdown",
   "metadata": {
    "id": "DIe3Yqiq8wtJ"
   },
   "source": [
    "# Retrieving the Metadata of a Collection\n",
    "<hr style=\"border:1px solid #0077b9;\">\n",
    "\n",
    "The `collection` object associated as a result of the  `get_collections` method has information about a given health or climate data collection identified by its name. In this example, we are retrieving information about the `Dengue alert level northeast mun week infodengue` data collection, `dengue_alert_level_northeast_mun_week_infodengue-1`:"
   ]
  },
  {
   "cell_type": "code",
   "execution_count": null,
   "metadata": {
    "execution": {
     "iopub.execute_input": "2025-06-02T14:37:21.943880Z",
     "iopub.status.busy": "2025-06-02T14:37:21.943053Z",
     "iopub.status.idle": "2025-06-02T14:37:22.084145Z",
     "shell.execute_reply": "2025-06-02T14:37:22.083496Z",
     "shell.execute_reply.started": "2025-06-02T14:37:21.943854Z"
    },
    "id": "dA0RhGdSPQDn",
    "scrolled": true
   },
   "outputs": [],
   "source": [
    "health_collection = service.get_collection('dengue_alert_level_northeast_mun_week_infodengue-1')\n",
    "health_collection"
   ]
  },
  {
   "cell_type": "markdown",
   "metadata": {
    "id": "etzUNIaW8wtK"
   },
   "source": [
    "The `collection` object associated as a result of the  `get_collections` method has information about a given health or climate data collection identified by its name. In this example, we are retrieving information about the `Relative humidity percent northeast mun epiweek` data collection, `humidity_percent_ne_mun_epiweek-1`:"
   ]
  },
  {
   "cell_type": "code",
   "execution_count": null,
   "metadata": {
    "id": "rgltnbOo8wtK"
   },
   "outputs": [],
   "source": [
    "climate_collection = service.get_collection('humidity_percent_ne_mun_epiweek-1')\n",
    "climate_collection"
   ]
  },
  {
   "cell_type": "markdown",
   "metadata": {
    "id": "L9e2YJaE8wtK"
   },
   "source": [
    "<img src=\"https://raw.githubusercontent.com/brazil-data-cube/code-gallery/master/img/stac/stac-item.png?raw=true\" align=\"right\" width=\"300\"/>\n",
    "\n",
    "# Retrieving Items\n",
    "<hr style=\"border:1px solid #0077b9;\">\n",
    "\n",
    "Use the `Client.search(**kwargs)` method to retrieve the items of a given collection(s):"
   ]
  },
  {
   "cell_type": "code",
   "execution_count": null,
   "metadata": {
    "execution": {
     "iopub.execute_input": "2025-06-02T16:45:38.304430Z",
     "iopub.status.busy": "2025-06-02T16:45:38.303830Z",
     "iopub.status.idle": "2025-06-02T16:45:38.309326Z",
     "shell.execute_reply": "2025-06-02T16:45:38.308675Z",
     "shell.execute_reply.started": "2025-06-02T16:45:38.304404Z"
    },
    "id": "YKUfQM398wtK"
   },
   "outputs": [],
   "source": [
    "items_search_health = service.search(collections=\n",
    "                                     ['dengue_alert_level_northeast_mun_week_infodengue-1'])"
   ]
  },
  {
   "cell_type": "markdown",
   "metadata": {
    "id": "223snioM8wtK"
   },
   "source": [
    "The method `.search(**kwargs)` returns a `ItemSearch` representation which has handy methods to identify the matched results. For example, to check the number of items matched, use `.matched()`:"
   ]
  },
  {
   "cell_type": "code",
   "execution_count": null,
   "metadata": {
    "execution": {
     "iopub.execute_input": "2025-06-02T16:45:54.126434Z",
     "iopub.status.busy": "2025-06-02T16:45:54.125856Z",
     "iopub.status.idle": "2025-06-02T16:45:54.520336Z",
     "shell.execute_reply": "2025-06-02T16:45:54.519683Z",
     "shell.execute_reply.started": "2025-06-02T16:45:54.126408Z"
    },
    "id": "bXzTwa0Z8wtK"
   },
   "outputs": [],
   "source": [
    "items_search_health.matched()"
   ]
  },
  {
   "cell_type": "code",
   "execution_count": null,
   "metadata": {
    "id": "SP1o56RG8wtK"
   },
   "outputs": [],
   "source": [
    "items_search_climate = service.search(collections=\n",
    "                                      ['humidity_percent_ne_mun_epiweek-1'])"
   ]
  },
  {
   "cell_type": "code",
   "execution_count": null,
   "metadata": {
    "id": "3G6zIdlt8wtK"
   },
   "outputs": [],
   "source": [
    "items_search_climate.matched()"
   ]
  },
  {
   "cell_type": "markdown",
   "metadata": {
    "id": "GY_YpBqu8wtL"
   },
   "source": [
    "Two collections"
   ]
  },
  {
   "cell_type": "code",
   "execution_count": null,
   "metadata": {
    "id": "tUvwzATz8wtL"
   },
   "outputs": [],
   "source": [
    "# all collections\n",
    "items_search_all = service.search(collections=['dengue_alert_level_northeast_mun_week_infodengue-1','humidity_percent_ne_mun_epiweek-1'])\n",
    "\n",
    "items_search_all.matched()"
   ]
  },
  {
   "cell_type": "markdown",
   "metadata": {
    "id": "FG_IsHOj8wtL"
   },
   "source": [
    "To iterate over the matched result, use `.items()` to traverse the list of items:"
   ]
  },
  {
   "cell_type": "code",
   "execution_count": null,
   "metadata": {
    "id": "6qwybt7_8wtL"
   },
   "outputs": [],
   "source": [
    "for item in items_search_health.items():\n",
    "    print(item)\n",
    "    break #remove break to view all items"
   ]
  },
  {
   "cell_type": "code",
   "execution_count": null,
   "metadata": {
    "execution": {
     "iopub.execute_input": "2025-06-02T16:46:08.231745Z",
     "iopub.status.busy": "2025-06-02T16:46:08.231141Z",
     "iopub.status.idle": "2025-06-02T16:46:08.412178Z",
     "shell.execute_reply": "2025-06-02T16:46:08.411506Z",
     "shell.execute_reply.started": "2025-06-02T16:46:08.231721Z"
    },
    "id": "uqXU1XoO8wtL"
   },
   "outputs": [],
   "source": [
    "for item in items_search_climate.items():\n",
    "    print(item)\n",
    "    break #remove break to view all items"
   ]
  },
  {
   "cell_type": "markdown",
   "metadata": {
    "id": "RJVdYb7l8wtL"
   },
   "source": [
    "The  `search(**kwargs)` method can be used to support filtering rules through the specification of a rectangle (bbox) or a date and time (datetime) criterias. Other options are available, such as using spatial intersects of a GeoJSON Geometry. Please see the documentation available at https://api.stacspec.org/v1.0.0/item-search."
   ]
  },
  {
   "cell_type": "code",
   "execution_count": null,
   "metadata": {
    "execution": {
     "iopub.execute_input": "2025-06-02T16:46:50.460028Z",
     "iopub.status.busy": "2025-06-02T16:46:50.459728Z",
     "iopub.status.idle": "2025-06-02T16:46:50.632333Z",
     "shell.execute_reply": "2025-06-02T16:46:50.631827Z",
     "shell.execute_reply.started": "2025-06-02T16:46:50.460008Z"
    },
    "id": "6hCWnHXePQDt"
   },
   "outputs": [],
   "source": [
    "item_search_dengue = service.search(#bbox=bbox,\n",
    "                             datetime='2019-01-01/2023-12-31',\n",
    "                             collections=['dengue_alert_level_northeast_mun_week_infodengue-1'])\n",
    "item_search_dengue.matched()"
   ]
  },
  {
   "cell_type": "code",
   "execution_count": null,
   "metadata": {
    "execution": {
     "iopub.execute_input": "2025-06-02T16:42:10.879770Z",
     "iopub.status.busy": "2025-06-02T16:42:10.879023Z",
     "iopub.status.idle": "2025-06-02T16:42:11.149113Z",
     "shell.execute_reply": "2025-06-02T16:42:11.148574Z",
     "shell.execute_reply.started": "2025-06-02T16:42:10.879745Z"
    },
    "id": "qxSonugv8wtM"
   },
   "outputs": [],
   "source": [
    "item_search_humidity = service.search(#bbox=bbox,\n",
    "                             datetime='2019-01-01/2023-12-31',\n",
    "                             collections=['humidity_percent_ne_mun_epiweek-1'])\n",
    "item_search_humidity.matched()"
   ]
  },
  {
   "cell_type": "markdown",
   "metadata": {
    "id": "N2sAdfAm8wtM"
   },
   "source": [
    "<img src=\"https://raw.githubusercontent.com/brazil-data-cube/code-gallery/master/img/stac/stac-asset.png?raw=true\" align=\"right\" width=\"300\"/>\n",
    "\n",
    "# Assets\n",
    "<hr style=\"border:1px solid #0077b9;\">\n",
    "\n",
    "The assets with the links to the images, thumbnails or specific metadata files, can be accessed through the property `assets` (from a given item):"
   ]
  },
  {
   "cell_type": "markdown",
   "metadata": {
    "id": "-X83akvS8wtP"
   },
   "source": [
    "From each item (`item_search_dengue` and `item_search_humidity`), we can access all its assets, which are links to the associated data files."
   ]
  },
  {
   "cell_type": "code",
   "execution_count": null,
   "metadata": {
    "id": "SRASwMk18wtP"
   },
   "outputs": [],
   "source": [
    "items_dengue = item_search_dengue.item_collection()\n",
    "items_dengue"
   ]
  },
  {
   "cell_type": "code",
   "execution_count": null,
   "metadata": {
    "id": "6OeGJ3Kh8wtP"
   },
   "outputs": [],
   "source": [
    "items_humidity = item_search_humidity.item_collection()\n",
    "items_humidity"
   ]
  },
  {
   "cell_type": "markdown",
   "metadata": {
    "id": "JXDveIAM8wtP"
   },
   "source": [
    "First item as reference"
   ]
  },
  {
   "cell_type": "code",
   "execution_count": null,
   "metadata": {
    "id": "12GGe3aL8wtP"
   },
   "outputs": [],
   "source": [
    "item_dengue = items_dengue[0]\n",
    "item_dengue"
   ]
  },
  {
   "cell_type": "code",
   "execution_count": null,
   "metadata": {
    "id": "wR1EUq4D8wtP"
   },
   "outputs": [],
   "source": [
    "item_humidity = items_humidity[0]\n",
    "item_humidity"
   ]
  },
  {
   "cell_type": "markdown",
   "metadata": {
    "id": "OtSSh3DJ8wtQ"
   },
   "source": [
    "# Using Folium to Visualize a Health and Climate Data\n",
    "<hr style=\"border:1px solid #0077b9;\">"
   ]
  },
  {
   "cell_type": "markdown",
   "metadata": {
    "id": "ivgkD5wm8wtR"
   },
   "source": [
    "For each feature, retrieve geojson as link"
   ]
  },
  {
   "cell_type": "code",
   "execution_count": null,
   "metadata": {
    "id": "5YYChOZz8wtR"
   },
   "outputs": [],
   "source": [
    "import geopandas as gpd\n",
    "\n",
    "def extract_geojson_links(item_collection, asset_key='geojson'):\n",
    "    \"\"\"\n",
    "    Extracts and prints GeoJSON links from a STAC ItemCollection.\n",
    "\n",
    "    Parameters:\n",
    "        item_collection: pystac.ItemCollection\n",
    "            The collection of STAC items.\n",
    "        asset_key: str\n",
    "            The key of the asset to extract (default is 'geojson').\n",
    "\n",
    "    Returns:\n",
    "        list: A list of GeoJSON URLs.\n",
    "    \"\"\"\n",
    "    geojson_links = []\n",
    "\n",
    "    for item in item_collection.items:\n",
    "        if asset_key in item.assets:\n",
    "            link = item.assets[asset_key].href\n",
    "            geojson_links.append(link)\n",
    "            #print(link)\n",
    "        else:\n",
    "            print(f\"Asset key '{asset_key}' not found in item {item.id}\")\n",
    "\n",
    "    return geojson_links"
   ]
  },
  {
   "cell_type": "code",
   "execution_count": null,
   "metadata": {
    "id": "Olc0LCP_8wtR"
   },
   "outputs": [],
   "source": [
    "geojson_links_dengue = extract_geojson_links(items_dengue)\n",
    "geojson_links_humidity = extract_geojson_links(items_humidity)\n",
    "\n",
    "print(f\"Dengue First Link: {geojson_links_dengue[0]}\\nHumidity First Link: {geojson_links_humidity[0]}\")"
   ]
  },
  {
   "cell_type": "markdown",
   "metadata": {
    "id": "Ucr621mf8wtR"
   },
   "source": [
    "Open first geojson as dataframe."
   ]
  },
  {
   "cell_type": "code",
   "execution_count": null,
   "metadata": {
    "id": "pQZiX0x08wtR"
   },
   "outputs": [],
   "source": [
    "# Open as dataframe\n",
    "gdf_dengue = gpd.read_file(geojson_links_dengue[0])\n",
    "gdf_dengue"
   ]
  },
  {
   "cell_type": "code",
   "execution_count": null,
   "metadata": {
    "id": "c-DGJHA38wtR"
   },
   "outputs": [],
   "source": [
    "gdf_humidity = gpd.read_file(geojson_links_humidity[0])\n",
    "gdf_humidity"
   ]
  },
  {
   "cell_type": "markdown",
   "metadata": {
    "id": "nUXc6z1E8wtR"
   },
   "source": [
    "### Plot health data"
   ]
  },
  {
   "cell_type": "code",
   "execution_count": null,
   "metadata": {
    "id": "Kp-2XRGj8wtR"
   },
   "outputs": [],
   "source": [
    "dst_crs = \"EPSG:4326\"\n",
    "\n",
    "gdf_dengue = gdf_dengue.to_crs(dst_crs)"
   ]
  },
  {
   "cell_type": "code",
   "execution_count": null,
   "metadata": {
    "id": "sAE9hJad8wtS"
   },
   "outputs": [],
   "source": [
    "# Copy with some columns\n",
    "gdf_dengue_simple = gdf_dengue[['municipio_geocodigo', 'value', 'geometry']].copy()\n",
    "\n",
    "gdf_dengue_simple['value'] = gdf_dengue_simple['value'].astype(int)\n",
    "\n",
    "gdf_dengue_simple"
   ]
  },
  {
   "cell_type": "code",
   "execution_count": null,
   "metadata": {
    "id": "Bht8qK5z8wtS"
   },
   "outputs": [],
   "source": [
    "import folium\n",
    "\n",
    "# Create a map\n",
    "m = folium.Map(location=[gdf_dengue_simple.geometry.centroid.y.mean(),\n",
    "                         gdf_dengue_simple.geometry.centroid.x.mean()], zoom_start=8)\n",
    "\n",
    "# Add GeoJSON\n",
    "folium.GeoJson(gdf_dengue_simple).add_to(m)\n",
    "m"
   ]
  },
  {
   "cell_type": "code",
   "execution_count": null,
   "metadata": {
    "id": "oQf8bBQK8wtS"
   },
   "outputs": [],
   "source": [
    "import folium\n",
    "from branca.element import Template, MacroElement\n",
    "\n",
    "# Define fixed colors for dengue transmission levels\n",
    "color_dict = {\n",
    "    1: 'green',    # Low transmission\n",
    "    2: 'yellow',   # Attention\n",
    "    3: 'orange',   # Sustained transmission\n",
    "    4: 'red'       # High transmission\n",
    "}\n",
    "\n",
    "# Define style function\n",
    "def style_function(feature):\n",
    "    value = feature['properties']['value']\n",
    "    return {\n",
    "        'fillColor': color_dict.get(value, 'gray'),\n",
    "        'color': 'black',\n",
    "        'weight': 1,\n",
    "        'fillOpacity': 0.7\n",
    "    }\n",
    "\n",
    "# Initialize map centered on centroid of GeoDataFrame\n",
    "m = folium.Map(\n",
    "    location=[gdf_dengue_simple.geometry.centroid.y.mean(),\n",
    "              gdf_dengue_simple.geometry.centroid.x.mean()],\n",
    "    zoom_start=8\n",
    ")\n",
    "\n",
    "# Add GeoJSON with style\n",
    "folium.GeoJson(\n",
    "    gdf_dengue_simple,\n",
    "    style_function=style_function,\n",
    "    tooltip=folium.GeoJsonTooltip(fields=['municipio_geocodigo', 'value'])\n",
    ").add_to(m)\n",
    "\n",
    "# Define HTML legend template\n",
    "legend_html = \"\"\"\n",
    "{% macro html(this, kwargs) %}\n",
    "<div style=\"\n",
    "    position: fixed;\n",
    "    bottom: 50px; left: 50px; width: 180px; height: 130px;\n",
    "    background-color: white;\n",
    "    z-index:9999;\n",
    "    font-size:14px;\n",
    "    border:2px solid grey;\n",
    "    padding: 10px;\n",
    "    \">\n",
    "    <b>Dengue Alert Levels</b><br>\n",
    "    <i style=\"background:green; width:10px; height:10px; float:left; margin-right:5px;\"></i>Low transmission<br>\n",
    "    <i style=\"background:yellow; width:10px; height:10px; float:left; margin-right:5px;\"></i>Attention<br>\n",
    "    <i style=\"background:orange; width:10px; height:10px; float:left; margin-right:5px;\"></i>Sustained transmission<br>\n",
    "    <i style=\"background:red; width:10px; height:10px; float:left; margin-right:5px;\"></i>High transmission\n",
    "</div>\n",
    "{% endmacro %}\n",
    "\"\"\"\n",
    "\n",
    "# Create MacroElement and add to map\n",
    "legend = MacroElement()\n",
    "legend._template = Template(legend_html)\n",
    "m.get_root().add_child(legend)\n",
    "\n",
    "# Display map\n",
    "m\n"
   ]
  },
  {
   "cell_type": "markdown",
   "metadata": {
    "id": "pE6Wa_B38wtS"
   },
   "source": [
    "### Plot climate data"
   ]
  },
  {
   "cell_type": "code",
   "execution_count": null,
   "metadata": {
    "id": "FPJErnca8wtS"
   },
   "outputs": [],
   "source": [
    "gdf_humidity = gdf_humidity.to_crs(dst_crs)\n",
    "\n",
    "gdf_humidity['value'] = gdf_humidity['value'].astype(float)"
   ]
  },
  {
   "cell_type": "code",
   "execution_count": null,
   "metadata": {
    "id": "HTDoyo418wtS"
   },
   "outputs": [],
   "source": [
    "import folium\n",
    "import branca.colormap as cm\n",
    "\n",
    "# Define colors according to the humidity percentage legend you provided\n",
    "colors = [\n",
    "    '#eeeeee',  # ~0-10% - light gray\n",
    "    '#fcae91',  # ~10-20% - light pink\n",
    "    '#fb6a4a',  # ~20-30% - orange\n",
    "    '#fcbf49',  # ~30-40% - yellow\n",
    "    '#fddc6c',  # ~40-50% - light yellow\n",
    "    '#c7e9b4',  # ~50-60% - very light green\n",
    "    '#7fcdbb',  # ~60-70% - aqua green\n",
    "    '#41b6c4',  # ~70-80% - light blue\n",
    "    '#2c7fb8',  # ~80-90% - medium blue\n",
    "    '#253494'   # ~90-100% - dark blue\n",
    "]\n",
    "\n",
    "# Create the LinearColormap with the defined colors\n",
    "colormap = cm.LinearColormap(\n",
    "    colors=colors,\n",
    "    vmin=0, vmax=100  # Min and max values for humidity percentage\n",
    ")\n",
    "\n",
    "# Define style function for folium GeoJson\n",
    "def style_function(feature):\n",
    "    value = feature['properties']['value']  # Get the humidity value\n",
    "    return {\n",
    "        'fillColor': colormap(value),  # Use colormap to get color based on value\n",
    "        'color': 'black',              # Outline color\n",
    "        'weight': 1,                   # Outline weight\n",
    "        'fillOpacity': 0.7             # Transparency\n",
    "    }\n",
    "\n",
    "# Example: create folium map centered at a given location\n",
    "m = folium.Map([gdf_humidity.geometry.centroid.y.mean(),\n",
    "            gdf_humidity.geometry.centroid.x.mean()],\n",
    "              zoom_start=8)\n",
    "\n",
    "# Example: adding GeoJson (replace 'gdf_humidity' with your GeoDataFrame)\n",
    "folium.GeoJson(\n",
    "    gdf_humidity,\n",
    "    style_function=style_function,\n",
    "    tooltip=folium.GeoJsonTooltip(fields=['cod_mun', 'value'])\n",
    ").add_to(m)\n",
    "\n",
    "# Add the colormap legend to the map\n",
    "colormap.caption = 'Humidity (%)'\n",
    "colormap.add_to(m)\n",
    "\n",
    "# Display map\n",
    "m\n"
   ]
  },
  {
   "cell_type": "markdown",
   "metadata": {
    "id": "7sYPQQCY8wtS"
   },
   "source": [
    "# Download Health and Climate Data Files\n",
    "<hr style=\"border:1px solid #0077b9;\">"
   ]
  },
  {
   "cell_type": "markdown",
   "metadata": {
    "id": "eZr3LK4K8wtT"
   },
   "source": [
    "The file related to an asset can be retrieved through the `download` method. The cell code below shows how to download the image file associated to the asset into a folder named `img`:"
   ]
  },
  {
   "cell_type": "code",
   "execution_count": null,
   "metadata": {
    "execution": {
     "iopub.execute_input": "2025-06-02T17:21:18.590628Z",
     "iopub.status.busy": "2025-06-02T17:21:18.589942Z",
     "iopub.status.idle": "2025-06-02T17:21:18.596108Z",
     "shell.execute_reply": "2025-06-02T17:21:18.595557Z",
     "shell.execute_reply.started": "2025-06-02T17:21:18.590602Z"
    },
    "id": "-E1oKeEl8wtT"
   },
   "outputs": [],
   "source": [
    "# Function adapted from script drone_using_stac.ipynb\n",
    "import os\n",
    "from urllib.parse import urlparse\n",
    "\n",
    "import requests\n",
    "from pystac import Asset\n",
    "from tqdm import tqdm\n",
    "\n",
    "def download(asset_or_url, directory: str = None, chunk_size: int = 1024 * 16, overwrite=False, **request_options) -> str:\n",
    "    \"\"\"Smart download from STAC Asset or URL with progress bar.\"\"\"\n",
    "    if directory is None:\n",
    "        directory = ''\n",
    "\n",
    "    # Detect if input is Asset or URL\n",
    "    if isinstance(asset_or_url, Asset):\n",
    "        url = asset_or_url.href\n",
    "    elif isinstance(asset_or_url, str):\n",
    "        url = asset_or_url\n",
    "    else:\n",
    "        raise TypeError(\"Input must be a pystac.Asset or str (URL).\")\n",
    "\n",
    "    # Extract filename\n",
    "    filename = os.path.basename(urlparse(url).path)\n",
    "    output_file = os.path.join(directory, filename)\n",
    "\n",
    "    # Avoid re-downloading\n",
    "    if os.path.exists(output_file) and not overwrite:\n",
    "        print(f\"File already exists: {output_file}\")\n",
    "        return output_file\n",
    "\n",
    "    # Ensure directory exists\n",
    "    os.makedirs(directory, exist_ok=True)\n",
    "\n",
    "    # Start download\n",
    "    response = requests.get(url, stream=True, **request_options)\n",
    "    response.raise_for_status()\n",
    "\n",
    "    total_bytes = int(response.headers.get('content-length', 0))\n",
    "\n",
    "    with open(output_file, 'wb') as fout:\n",
    "        with tqdm(total=total_bytes, unit='B', unit_scale=True, desc=filename) as pbar:\n",
    "            for chunk in response.iter_content(chunk_size=chunk_size):\n",
    "                if chunk:\n",
    "                    fout.write(chunk)\n",
    "                    pbar.update(len(chunk))\n",
    "\n",
    "    return output_file"
   ]
  },
  {
   "cell_type": "markdown",
   "metadata": {
    "id": "74TPHlrC8wtT"
   },
   "source": [
    "In order to download all files related to an item, iterate over assets and download each one as following:"
   ]
  },
  {
   "cell_type": "code",
   "execution_count": null,
   "metadata": {
    "id": "mYbRqIFF8wtT"
   },
   "outputs": [],
   "source": [
    "asset_key='geojson'\n",
    "num_assets=0\n",
    "\n",
    "for item in items_dengue.items:\n",
    "    if asset_key in item.assets and num_assets < 10:\n",
    "        link = item.assets[asset_key].href\n",
    "        download(link, 'test_data')\n",
    "        num_assets +=1"
   ]
  },
  {
   "cell_type": "markdown",
   "metadata": {
    "id": "9iNG-Sdd8wtU"
   },
   "source": [
    "# References\n",
    "<hr style=\"border:1px solid #0077b9;\">"
   ]
  },
  {
   "cell_type": "markdown",
   "metadata": {
    "id": "BhWxx_l18wtU"
   },
   "source": [
    "- [Spatio Temporal Asset Catalog Specification](https://stacspec.org/)\n",
    "\n",
    "\n",
    "- [Python Client Library for STAC Service](https://pystac-client.readthedocs.io/en/latest/)"
   ]
  },
  {
   "cell_type": "markdown",
   "metadata": {
    "id": "-hGDJsgz8wtU"
   },
   "source": [
    "# See also the following Jupyter Notebooks\n",
    "<hr style=\"border:1px solid #0077b9;\">\n",
    "\n",
    "* [Introduction to Earth Observation Data Cubes tuned for Health Response (EDPU)\n",
    "STAC functions in Python](https://github.com/Harmonize-Brazil/code-gallery/blob/main/jupyter/Python/edpu/publish_collection.ipynb)\n",
    "* [Earth Observation Data Cubes tuned for Health Response Health Indicator PRocessing (EHIPR) user manual](https://github.com/Harmonize-Brazil/code-gallery/blob/main/jupyter/Python/ehipr/spatializing_lis_indicator.ipynb)"
   ]
  }
 ],
 "metadata": {
  "colab": {
   "name": "techtalk.ipynb",
   "provenance": [],
   "toc_visible": true
  },
  "kernelspec": {
   "display_name": "Python 3 (ipykernel)",
   "language": "python",
   "name": "python3"
  },
  "language_info": {
   "codemirror_mode": {
    "name": "ipython",
    "version": 3
   },
   "file_extension": ".py",
   "mimetype": "text/x-python",
   "name": "python",
   "nbconvert_exporter": "python",
   "pygments_lexer": "ipython3",
   "version": "3.11.9"
  }
 },
 "nbformat": 4,
 "nbformat_minor": 4
}
