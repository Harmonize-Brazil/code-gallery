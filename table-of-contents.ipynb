{
 "cells": [
  {
   "cell_type": "markdown",
   "id": "legitimate-suite",
   "metadata": {},
   "source": [
    "<h1 style=\"color:#336699; text-align: center\">HARMONIZE Jupyter Notebooks Gallery</h1>\n",
    "<hr style=\"border:2px solid #80c4c4;\">\n",
    "\n",
    "<br/>\n",
    "\n",
    "<div style=\"text-align: center;font-size: 90%;\">\n",
    "    <img src=\"./img/harmonize_banner.png\" align=\"center\" width=\"200\"/>\n",
    "    <br/>\n",
    "    HARMONIZE Brazil Team<sup><a href=\"https://github.com/Harmonize-Brazil\"><i class=\"far fa-lg fa-envelope\"></i></a></sup>\n",
    "    <br/><br/>\n",
    "    Earth Observation and Geoinformatics Division, National Institute for Space Research (INPE)\n",
    "    <br/>\n",
    "    Avenida dos Astronautas, 1758, Jardim da Granja, São José dos Campos, SP 12227-010, Brazil\n",
    "    <br/><br/>\n",
    "    Last Update: June 13, 2025\n",
    "</div>\n",
    "\n",
    "<br/>\n",
    "\n",
    "<div style=\"text-align: justify;  margin-left: 20%; margin-right: 20%;\">\n",
    "<b>Abstract.</b> This repository contains a gallery of Jupyter Notebooks based on data and technologies from Earth Observation Data Cube tuned for Health Response Systems (EODCtHRS) component of HARMONIZE project hosted at the Brazilian National Institute for Space Research (INPE).\n",
    "</div>\n",
    "\n",
    "<br/>\n",
    "\n",
    "<div style=\"text-align: center;\">\n",
    "    <a href=\"https://nbviewer.jupyter.org/github/Harmonize-Brazil/code-gallery/blob/main/table-of-contents.ipynb\"><img src=\"https://raw.githubusercontent.com/jupyter/design/master/logos/Badges/nbviewer_badge.svg\" align=\"center\"/></a>\n",
    "</div>"
   ]
  },
  {
   "cell_type": "markdown",
   "id": "laughing-patent",
   "metadata": {},
   "source": [
    "# <span style=\"color: #336699\">Table of Contents</span>\n",
    "<hr style=\"border:1px solid #80c4c4;\">\n",
    "\n",
    "## Data Access through the SpatioTemporal Asset Catalog API (STAC)\n",
    "\n",
    "- HARMONIZE Drone image collections access using STAC. ([Python](https://github.com/Harmonize-Brazil/code-gallery/blob/main/jupyter/events/2025-Infodengue-Harmonize_INPE/drone_using_STAC.ipynb))\n",
    "  \n",
    "- HARMONIZE Health and Climate data collections access using STAC. ([Python](https://github.com/Harmonize-Brazil/code-gallery/blob/main/jupyter/events/2025-Infodengue-Harmonize_INPE/health_climate_using_STAC.ipynb))\n",
    "\n",
    "## Data Access through the Open Geospatial Consortium (OGC) Standards\n",
    "\n",
    "- Python library HARMONIZE DataSources (HarmonizeDS) to access data using OGC standards: Web Coverage Service (WCS) and Web Feature Service (WFS). ([Python](https://github.com/Harmonize-Brazil/code-gallery/blob/main/jupyter/events/2025-Infodengue-Harmonize_INPE/Harmonize_dataset_using_OGC_standards.ipynb))\n",
    "\n",
    "## Data Cube and Satellite Image Time Series Analysis on Earth Observation Data Cubes (SITS)\n",
    "\n",
    "- Using the BDC data cube (MODIS) and the SITS package to obtain vegetation indices by municipality. ([R](https://github.com/Harmonize-Brazil/code-gallery/blob/main/jupyter/events/2025-Infodengue-Harmonize_INPE/extract_ndvi_evi.ipynb))\n",
    "\n",
    "\n",
    "## Publish EODCtHRS Data Collections\n",
    "\n",
    "- Introduction to EODCtHRS Data PUblisher (EDPU) package. ([Python](https://github.com/Harmonize-Brazil/code-gallery/blob/main/jupyter/Python/edpu/publish_collection.ipynb)).\n",
    "  \n",
    "\n",
    "## Health and Climate Data Processing\n",
    "\n",
    "- Introduction to EODCtHRS Health Indicator PRocessing (EHIPR) package. ([Python](https://github.com/Harmonize-Brazil/code-gallery/blob/main/jupyter/Python/ehipr/spatializing_lis_indicator.ipynb)).\n",
    "  \n",
    "- Introduction to EODCtHRS R Climate Processing (rclimpr) package.  ([R](https://github.com/Harmonize-Brazil/code-gallery/blob/main/jupyter/R/rclimpr/climate_indicator.ipynb))."
   ]
  }
 ],
 "metadata": {
  "kernelspec": {
   "display_name": "Python 3 (ipykernel)",
   "language": "python",
   "name": "python3"
  },
  "language_info": {
   "codemirror_mode": {
    "name": "ipython",
    "version": 3
   },
   "file_extension": ".py",
   "mimetype": "text/x-python",
   "name": "python",
   "nbconvert_exporter": "python",
   "pygments_lexer": "ipython3",
   "version": "3.11.9"
  }
 },
 "nbformat": 4,
 "nbformat_minor": 5
}
