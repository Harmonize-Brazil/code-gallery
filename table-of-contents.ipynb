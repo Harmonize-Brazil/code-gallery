{
 "cells": [
  {
   "cell_type": "markdown",
   "id": "legitimate-suite",
   "metadata": {},
   "source": [
    "# <span style=\"color: #336699\">HARMONIZE Jupyter Notebooks Gallery</span>\n",
    "<hr style=\"border:2px solid #80c4c4;\">\n",
    "\n",
    "<br/>\n",
    "\n",
    "<div style=\"text-align: center;font-size: 90%;\">\n",
    "    <img src=\"./img/harmonize_banner.png\" align=\"center\" width=\"200\"/>\n",
    "    <br/>\n",
    "    HARMONIZE Brazil Team<sup><a href=\"https://github.com/Harmonize-Brazil\"><i class=\"far fa-lg fa-envelope\"></i></a></sup>\n",
    "    <br/><br/>\n",
    "    Earth Observation and Geoinformatics Division, National Institute for Space Research (INPE)\n",
    "    <br/>\n",
    "    Avenida dos Astronautas, 1758, Jardim da Granja, São José dos Campos, SP 12227-010, Brazil\n",
    "    <br/><br/>\n",
    "    Last Update: March 28, 2025\n",
    "</div>\n",
    "\n",
    "<br/>\n",
    "\n",
    "<div style=\"text-align: justify;  margin-left: 20%; margin-right: 20%;\">\n",
    "<b>Abstract.</b> This repository contains a gallery of Jupyter Notebooks based on data and technologies from Earth Observation Data Cube tuned for Health Response Systems (EODCtHRS) component of HARMONIZE project hosted at the Brazilian National Institute for Space Research (INPE).\n",
    "</div>\n",
    "\n",
    "<br/>\n",
    "\n",
    "<div style=\"text-align: center;\">\n",
    "    <a href=\"https://nbviewer.jupyter.org/github/Harmonize-Brazil/code-gallery/blob/main/table-of-contents.ipynb\"><img src=\"https://raw.githubusercontent.com/jupyter/design/master/logos/Badges/nbviewer_badge.svg\" align=\"center\"/></a>\n",
    "</div>"
   ]
  },
  {
   "cell_type": "markdown",
   "id": "laughing-patent",
   "metadata": {},
   "source": [
    "# <span style=\"color: #336699\">Table of Contents</span>\n",
    "<hr style=\"border:1px solid #80c4c4;\">\n",
    "\n",
    "\n",
    "## Data Access through SpatioTemporal Asset Catalog API (STAC)\n",
    "\n",
    "- Drone image collections access using STAC. ([Python](./jupyter/Python/drone/drone_image_collections_using_stac.ipynb))\n",
    "\n",
    "\n",
    "## Publish EODCtHRS Data Collections\n",
    "\n",
    "- Introduction to EODCtHRS Data PUblisher (EDPU) package. ([Python](./jupyter/Python/edpu/publish_collection.ipynb)).\n",
    "  \n",
    "\n",
    "## Health and Climate Data Processing\n",
    "\n",
    "- Introduction to EODCtHRS Health Indicator PRocessing (EHIPR) package. ([Python](./jupyter/Python/ehipr/spatializing_lis_indicator.ipynb)).\n",
    "  \n",
    "- Introduction to EODCtHRS R Climate Processing (rclimpr) package.  ([R](./jupyter/R/rclimpr/climate_indicator.ipynb))."
   ]
  }
 ],
 "metadata": {
  "kernelspec": {
   "display_name": "Python 3",
   "language": "python",
   "name": "python3"
  },
  "language_info": {
   "codemirror_mode": {
    "name": "ipython",
    "version": 3
   },
   "file_extension": ".py",
   "mimetype": "text/x-python",
   "name": "python",
   "nbconvert_exporter": "python",
   "pygments_lexer": "ipython3",
   "version": "3.7.7"
  }
 },
 "nbformat": 4,
 "nbformat_minor": 5
}
